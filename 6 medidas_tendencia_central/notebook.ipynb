{
 "cells": [
  {
   "cell_type": "code",
   "execution_count": 40,
   "metadata": {},
   "outputs": [],
   "source": [
    "import pandas as pd \n",
    "import numpy as np\n",
    "import seaborn\n",
    "import plotly_express as px"
   ]
  },
  {
   "cell_type": "code",
   "execution_count": 41,
   "metadata": {},
   "outputs": [],
   "source": [
    "file_path = '/Users/d3r/Documents/Github/laboratoria-talks/6 medidas_tendencia_central/data/kpis.xlsx'"
   ]
  },
  {
   "cell_type": "code",
   "execution_count": 42,
   "metadata": {},
   "outputs": [],
   "source": [
    "data = pd.read_excel(file_path, sheet_name='Sheet1', na_values=['NA', 'Missing'])"
   ]
  },
  {
   "cell_type": "code",
   "execution_count": 43,
   "metadata": {},
   "outputs": [
    {
     "name": "stdout",
     "output_type": "stream",
     "text": [
      "<class 'pandas.core.frame.DataFrame'>\n",
      "RangeIndex: 16033 entries, 0 to 16032\n",
      "Data columns (total 12 columns):\n",
      " #   Column                  Non-Null Count  Dtype         \n",
      "---  ------                  --------------  -----         \n",
      " 0   Timestamp               16033 non-null  datetime64[ns]\n",
      " 1   ID                      16033 non-null  object        \n",
      " 2   Customer                16033 non-null  object        \n",
      " 3   Category                16033 non-null  object        \n",
      " 4   Subcategory             16033 non-null  object        \n",
      " 5   Weight                  16033 non-null  float64       \n",
      " 6   Score                   16033 non-null  float64       \n",
      " 7   KPI Source              16033 non-null  object        \n",
      " 8   Subcategory sequence    16033 non-null  int64         \n",
      " 9   Subcategory sequence.1  16033 non-null  int64         \n",
      " 10  Added by                16033 non-null  object        \n",
      " 11  Index Type              16033 non-null  object        \n",
      "dtypes: datetime64[ns](1), float64(2), int64(2), object(7)\n",
      "memory usage: 1.5+ MB\n"
     ]
    }
   ],
   "source": [
    "data.info()"
   ]
  },
  {
   "cell_type": "code",
   "execution_count": 35,
   "metadata": {},
   "outputs": [
    {
     "data": {
      "text/html": [
       "<div>\n",
       "<style scoped>\n",
       "    .dataframe tbody tr th:only-of-type {\n",
       "        vertical-align: middle;\n",
       "    }\n",
       "\n",
       "    .dataframe tbody tr th {\n",
       "        vertical-align: top;\n",
       "    }\n",
       "\n",
       "    .dataframe thead th {\n",
       "        text-align: right;\n",
       "    }\n",
       "</style>\n",
       "<table border=\"1\" class=\"dataframe\">\n",
       "  <thead>\n",
       "    <tr style=\"text-align: right;\">\n",
       "      <th></th>\n",
       "      <th>count</th>\n",
       "      <th>mean</th>\n",
       "      <th>std</th>\n",
       "      <th>min</th>\n",
       "      <th>25%</th>\n",
       "      <th>50%</th>\n",
       "      <th>75%</th>\n",
       "      <th>max</th>\n",
       "    </tr>\n",
       "  </thead>\n",
       "  <tbody>\n",
       "    <tr>\n",
       "      <th>Weight</th>\n",
       "      <td>16033.0</td>\n",
       "      <td>31.598265</td>\n",
       "      <td>25.334657</td>\n",
       "      <td>7.0</td>\n",
       "      <td>17.000000</td>\n",
       "      <td>25.000000</td>\n",
       "      <td>33.0</td>\n",
       "      <td>100.0</td>\n",
       "    </tr>\n",
       "    <tr>\n",
       "      <th>Score</th>\n",
       "      <td>16033.0</td>\n",
       "      <td>69.344535</td>\n",
       "      <td>37.013850</td>\n",
       "      <td>0.0</td>\n",
       "      <td>42.857143</td>\n",
       "      <td>86.666667</td>\n",
       "      <td>100.0</td>\n",
       "      <td>100.0</td>\n",
       "    </tr>\n",
       "    <tr>\n",
       "      <th>Subcategory sequence</th>\n",
       "      <td>16033.0</td>\n",
       "      <td>4.201459</td>\n",
       "      <td>2.304092</td>\n",
       "      <td>0.0</td>\n",
       "      <td>2.000000</td>\n",
       "      <td>4.000000</td>\n",
       "      <td>6.0</td>\n",
       "      <td>13.0</td>\n",
       "    </tr>\n",
       "    <tr>\n",
       "      <th>Subcategory sequence.1</th>\n",
       "      <td>16033.0</td>\n",
       "      <td>4.201459</td>\n",
       "      <td>2.304092</td>\n",
       "      <td>0.0</td>\n",
       "      <td>2.000000</td>\n",
       "      <td>4.000000</td>\n",
       "      <td>6.0</td>\n",
       "      <td>13.0</td>\n",
       "    </tr>\n",
       "  </tbody>\n",
       "</table>\n",
       "</div>"
      ],
      "text/plain": [
       "                          count       mean        std  min        25%  \\\n",
       "Weight                  16033.0  31.598265  25.334657  7.0  17.000000   \n",
       "Score                   16033.0  69.344535  37.013850  0.0  42.857143   \n",
       "Subcategory sequence    16033.0   4.201459   2.304092  0.0   2.000000   \n",
       "Subcategory sequence.1  16033.0   4.201459   2.304092  0.0   2.000000   \n",
       "\n",
       "                              50%    75%    max  \n",
       "Weight                  25.000000   33.0  100.0  \n",
       "Score                   86.666667  100.0  100.0  \n",
       "Subcategory sequence     4.000000    6.0   13.0  \n",
       "Subcategory sequence.1   4.000000    6.0   13.0  "
      ]
     },
     "execution_count": 35,
     "metadata": {},
     "output_type": "execute_result"
    }
   ],
   "source": [
    "data.describe().T"
   ]
  },
  {
   "cell_type": "markdown",
   "metadata": {},
   "source": [
    "# Definiciones\n",
    "mean = promedio  (Average)\n",
    "median = media \n",
    "mode = moda\n",
    "std = desviación estándar. \n"
   ]
  },
  {
   "cell_type": "code",
   "execution_count": 46,
   "metadata": {},
   "outputs": [
    {
     "data": {
      "text/plain": [
       "<AxesSubplot:>"
      ]
     },
     "execution_count": 46,
     "metadata": {},
     "output_type": "execute_result"
    },
    {
     "data": {
      "image/png": "[encoded data removed]",
      "text/plain": [
       "<Figure size 640x480 with 1 Axes>"
      ]
     },
     "metadata": {},
     "output_type": "display_data"
    }
   ],
   "source": [
    "data.Weight.plot(kind='box')"
   ]
  },
  {
   "cell_type": "code",
   "execution_count": 37,
   "metadata": {},
   "outputs": [
    {
     "data": {
      "application/vnd.plotly.v1+json": {
       "config": {
        "plotlyServerURL": "https://plot.ly"
       },
       "data": [
        {
         "alignmentgroup": "True",
         "bingroup": "x",
         "histnorm": "density",
         "hovertemplate": "Value=%{x}<br>density=%{y}<extra></extra>",
         "legendgroup": "",
         "marker": {
          "color": "#636efa",
          "pattern": {
           "shape": ""
          }
         },
         "name": "",
         "nbinsx": 30,
         "offsetgroup": "",
         "orientation": "v",
         "showlegend": false,
         "type": "histogram",
         "x": [
          -0.22453952003982994,
          0.11252445001650178,
          0.4224994412401755,
          0.15552020011270135,
          0.43616357875506445,
          1.052954890597989,
          0.31744308698421675,
          1.0753402453659096,
          -0.12207538623192156,
          0.7673550845961298,
          -0.25095073005779966,
          1.2740300995226008,
          0.17093892856859752,
          0.37833480665704516,
          0.24526654533400233,
          0.4004153002020946,
          -1.1277199844467334,
          0.21650489398821704,
          0.7698806791029926,
          0.42637150444337146,
          -1.6199517619719155,
          0.5998657817407068,
          -0.22536366405759814,
          0.7243343370428009,
          0.24688661512536858,
          0.49468839593904573,
          -1.1586139343532078,
          -1.5183188050908398,
          1.1613758785984267,
          0.7205951465723756,
          0.6431493263376605,
          -1.0015883555155407,
          1.3849134759848127,
          1.142877270063843,
          -0.9610338545939807,
          -0.140217192545314,
          -0.07889118516266538,
          0.5212642373700904,
          -2.496340225030588,
          -0.9597917331115342,
          -0.2781337973890787,
          -0.4450555533972717,
          -0.07475295388005135,
          0.31419028918407743,
          0.7403922456838132,
          -0.5516743555431615,
          0.14966293567242403,
          0.15952327224823587,
          1.7097514573544053,
          -1.201913608498944,
          -0.7318676571066893,
          0.0801482308306365,
          -0.9777020877121501,
          1.0845710271442144,
          -1.520354911347963,
          1.269565509487137,
          0.26931364170561684,
          -0.9155317996490994,
          -0.26845999727782704,
          -0.8131363735246979,
          0.2211509319711626,
          -0.3482397259057589,
          -0.0054577669735124,
          0.7881752667567451,
          2.3145923630849086,
          1.3374926836990064,
          0.9579062801455522,
          -0.37176174699879744,
          0.043171438828920626,
          0.6946959175427951,
          -2.1266783725302134,
          -0.01858028590036922,
          0.8668650011242434,
          0.5457146713850518,
          0.5059230798010613,
          -3.2013793739535097,
          -1.6834410821047134,
          0.19187023439631473,
          1.2452520429930398,
          1.9004087319644587,
          0.9091335841766364,
          1.2971456876971172,
          2.279643226455098,
          -0.5277258676264316,
          0.05413639371048745,
          2.406696679503761,
          -1.1288270260405058,
          0.7205963891732634,
          -0.9831717284751933,
          1.4827049492220645,
          1.0539670502569691,
          0.48298067868053185,
          -0.278948721752688,
          0.8257935383814283,
          1.424398965840214,
          0.041153297231016676,
          -0.011195453428240678,
          0.13375109998639986,
          0.9951975544173074,
          0.20595550894000472,
          -1.7714204836721392,
          -0.12477845831818368,
          0.6764996588915551,
          -0.07399711290807477,
          0.35428638898558334,
          0.3775363627397436,
          -0.42133326473143373,
          -0.3586164664898899,
          1.2395360188708113,
          0.8057303156752156,
          -0.644368394824924,
          0.0899301875216496,
          0.7925483362639807,
          2.701557050724821,
          -1.5123962329227438,
          -0.1905064596216398,
          0.1509564366685513,
          1.935984603884487,
          0.17849403223816013,
          0.0668138784944829,
          -0.9836911768623537,
          -0.5857424925309809,
          -0.053647220853315386,
          -0.7000896826408504,
          -0.517430831003179,
          -1.9192573161599233,
          0.2712740443813688,
          0.5433319132461227,
          -0.41671184189710875,
          -0.511986285596385,
          2.5480125498926993,
          0.05341993263269417,
          -0.27357167206082156,
          -0.1552549128458693,
          1.8269328460705547,
          0.159806542202718,
          0.005798043377691964,
          -1.7851869466770476,
          -0.19660464349673737,
          0.20935784527854234,
          -0.22060302608973117,
          -0.37377659576435984,
          0.8940729976779398,
          0.8563855961510939,
          0.03032107432074327,
          -0.7147025362398916,
          -0.6310239318398794,
          0.2453204403225404,
          0.3195672843201953,
          -2.0860840568323415,
          -0.5628402689791026,
          -0.23983418522309913,
          -0.9227833149781095,
          -0.7339438067128992,
          0.464545951301498,
          -0.6313071038177244,
          0.3721016280992066,
          -0.7815741226109105,
          -0.5000097055699718,
          -0.3970963152637226,
          -0.20603770456491965,
          0.04459176958246335,
          0.3997552774464616,
          1.2596020351737915,
          0.25769908157780586,
          -0.015416764772046818,
          0.11894224742070629,
          -0.9231641408280631,
          0.44945388119491825,
          0.5414645365683579,
          -1.2184327651415443,
          -1.741482272003016,
          -1.1449075896967553,
          0.8711262253237787,
          1.0275530833281803,
          -0.9858953448404645,
          -0.7771532501915551,
          -1.6211930902804461,
          0.6910278285679327,
          -0.3291166772077547,
          0.11319718189988785,
          0.2878710339168953,
          1.4181695926815276,
          1.2107659656362562,
          -0.6435560913816923,
          -1.7635969225076153,
          -0.2926526983272833,
          1.338618590209018,
          0.056244471056285515,
          2.0789933168687087,
          2.180703957361913,
          0.69980826031443,
          0.31139773417104166,
          -1.6807191408401574,
          -0.7932385573592823,
          -0.6221892884735248,
          -0.10300310146554906,
          0.2965865921512453,
          0.44631056971451055,
          -0.41827072557746287,
          0.30571019055589826,
          1.3612167452206971,
          -0.9310566828347021,
          -0.9953484712855685,
          -1.3014136290326064,
          -1.3758350558148709,
          -0.8795972425541191,
          1.2526716775128803,
          -1.1563840651498,
          2.2369158755522274,
          -0.46121885153536746,
          0.20167181669991568,
          -0.31865204219291593,
          -0.5452931897427803,
          -0.6859311525426931,
          0.47348495379800365,
          -0.09720764076703241,
          2.5715567315413024,
          1.279053020465017,
          1.3770526295862233,
          0.621526968431872,
          -1.4948692152426015,
          1.2131952302440592,
          0.2253797259006396,
          -0.7927183172351665,
          1.1490633822788978,
          -2.497411818400528,
          -0.8000025834275075,
          -0.8599201605802914,
          -0.39250761173454896,
          1.1144181769293062,
          -0.057788507125486235,
          -0.4490467400702039,
          0.14487119818391353,
          0.08018649358447065,
          1.2042474260384322,
          -0.5053479182599494,
          2.07591842442153,
          1.8091834464899639,
          -0.15698336742384217,
          0.324649561916804,
          -0.4034379289602906,
          0.33746904075805034,
          -0.20495774623634594,
          0.06047361681775777,
          0.7567863556389481,
          0.584834081680381,
          1.163792796232277,
          -0.6597359630479184,
          -0.3515422793616728,
          -0.6425520359002572,
          0.7122902051581227,
          0.6976451076706632,
          -0.7496498728535347,
          -2.3230757391617227,
          -0.8831074822043703,
          -0.6912862025843024,
          0.5183710532561957,
          1.2924063053905244,
          1.0895154693870766,
          -0.6133623703597261,
          -1.954229525326934,
          -2.023542299207432,
          1.182487741011036,
          -0.8035088056545725,
          1.138925681324509,
          0.03172875973387538,
          -0.41114304030034826,
          1.1755072198954182,
          0.8928917975970223,
          2.41312585425677,
          -0.7944052079456129,
          0.4726732833851648,
          -0.46232617002359344,
          0.93170495480128,
          -1.9314799081795984,
          0.8311288745161444,
          0.4808638292898563,
          0.990147035603528,
          -0.09870837975356225,
          0.5501915689237301,
          1.4464201281697986,
          1.7451337684662491,
          -0.4546800378462602,
          -0.7123426361008176,
          0.1903715253087056,
          -1.0221837948553532,
          0.6316948868496701,
          -0.334093017334978,
          -1.9022791632505576,
          0.05528231640099252,
          -0.4490319622515993,
          -1.0665995962037287,
          -0.992884277537666,
          0.060676469476780404,
          -0.3358265452265085,
          -1.1086849096497664,
          -0.45589384336866356,
          -0.49704878882764236,
          0.16231661225735614,
          -0.822721244097786,
          0.525797240825791,
          -0.7386413095810348,
          0.007787386573724096,
          0.30322093674866785,
          0.030621758440825635,
          -0.9592298326977775,
          1.1196165613912614,
          0.10742231726411172,
          1.5814599889279088,
          -0.47504364614555955,
          1.7753965775534062,
          -0.5402855498549153,
          -2.143010456710259,
          -0.04842379881569843,
          -1.1163980220226706,
          -0.24162283036826793,
          -0.5233783037433792,
          0.3343872037643428,
          1.3318081003330553,
          0.23329461595009793,
          -0.5396239165943759,
          0.6899349347032849,
          -0.1897520377864719,
          -0.154379139281265,
          -2.6904259822639296,
          -1.0432742960608543,
          0.5732948974974514,
          -1.8586561073502912,
          -1.6209796860452748,
          -0.2364853590000832,
          1.01928245042255,
          -0.19559605302143288,
          0.04582635478397281,
          0.20812183993267658,
          0.706346394562183,
          -0.5910166024472023,
          -1.3462787048911766,
          0.15878688234799093,
          0.924964878817847,
          0.46266345192757435,
          0.1844199553922927,
          0.8535553745623312,
          0.6350231999028443,
          -0.34402138533469656,
          -1.2352052367408972,
          0.0018464002644976167,
          -0.36687529622742887,
          1.547299547802644,
          0.14252071912054917,
          -0.6124793391688182,
          0.34781589353561854,
          2.313441042144074,
          0.46524708167106377,
          2.2326363896046773,
          0.34016013301545744,
          -0.1950226989957938,
          -0.2673032859765075,
          0.9889729577997787,
          -1.2905801776086199,
          0.21096084970021775,
          0.2649457970038029,
          -0.7133050261717115,
          -0.24563207603670678,
          -1.2148431341033166,
          -0.5007095152122568,
          -0.9911612007084968,
          -0.3302027781549368,
          0.775148826821086,
          1.1915816588673203,
          -0.4049357984765786,
          0.001998794478205204,
          1.6910056722145872,
          0.3077269116941178,
          -0.395171834848261,
          1.1456441317836654,
          1.0693104579495452,
          0.6821318192903465,
          -0.37357819140312365,
          -0.00623362448363775,
          0.256841262797177,
          0.8836378240950394,
          -1.5526047752036252,
          0.898258705398364,
          -1.073874975760555,
          -1.0176397483240471,
          1.0697088231354526,
          1.6182160849023313,
          2.47423517865237,
          0.6353936914348955,
          0.02673557463417938,
          0.3439391322593048,
          1.1307623953192552,
          0.5483973325890239,
          1.958157829857617,
          0.035050314175411594,
          -0.35689422973304674,
          -0.48371729669358104,
          0.6862751603197151,
          0.09097290309935722,
          0.29099738740145004,
          -3.094771162411146,
          -0.1758808493287527,
          0.4747818096902764,
          0.8012682447992718,
          1.9583485386723622,
          0.5190971296157519,
          -0.6537421655810743,
          2.2048501435848507,
          -1.2551025916778993,
          0.06737779854097085,
          0.37279363475774524,
          -0.9396604081698184,
          -0.15251886941855577,
          0.6275261682763734,
          -2.291685871745803,
          1.4087894293732808,
          -2.156457788867705,
          -0.9622040435913576,
          -0.33919129247872776,
          0.7575048690293837,
          -1.5171703474176235,
          -1.0305116162576369,
          1.6769700901383067,
          -0.9222578386675467,
          -0.4068705597659986,
          0.19952604811554125,
          -0.850103669696656,
          0.5768314595872988,
          -0.06668392550733972,
          -0.7226585590842501,
          -0.39602353205006796,
          -0.5717022899868405,
          0.4680169758356272,
          -0.513319661555074,
          -1.3948133909915907,
          0.7742388066419885,
          -0.0065635479883498025,
          -0.2964197782228792,
          -0.6026605493707097,
          -0.7417099779211269,
          0.19810754350719106,
          0.1339330551758493,
          -0.7457976936167101,
          0.9864508517875299,
          -1.13283178135567,
          2.3135178502987026,
          -0.2155954593061534,
          -0.8509512223596013,
          -1.4083763357540993,
          -0.3115432863723427,
          0.1769117319140603,
          -0.9468012566192952,
          0.20795036391128208,
          -0.6303238777007909,
          0.17653245235319842,
          -0.8884468969788568,
          -0.08273148528033257,
          0.4790378048431022,
          0.3862245804338706,
          -0.2166335604144326,
          -0.06427071573916189,
          0.4552974152619247,
          1.1816609767860982,
          -1.223891743401394,
          0.4573972706049475,
          -0.07333107657625719,
          -0.34626320444950615,
          -2.5865935490822745,
          -1.0776457455990245,
          -0.555073154039573,
          -0.13196296188978668,
          -0.29921582818332165,
          -0.16044742063270068,
          0.33054235187221775,
          1.1627609605482565,
          -0.2861243453789016,
          -0.39500893491135586,
          0.3552608575190745,
          -0.38458953609134516,
          -1.434684499500322,
          0.2883873866247194,
          0.13844771795344663,
          -0.843893818741033,
          -1.4710362335670197,
          -0.6383620325813306,
          -0.11582983369645404,
          0.4761805007662569,
          -1.1444714921369605,
          -0.14129311061283978,
          2.4372565876505665,
          -1.117290839246647,
          1.288579366187565,
          0.3046444201074742,
          -1.8632421430091026,
          0.2206166814067537,
          0.5458494256937276,
          -1.5047901018349739,
          -0.3622372741661044,
          0.36930992833570564,
          0.3838714631246797,
          -0.1077453210014009,
          -0.31085610804606656,
          -1.867371120128748,
          -1.6607750397092913,
          0.724619627970365,
          0.7486591584263806,
          1.156192063780261,
          1.0796440579157691,
          0.23484615278785817,
          -0.07985853909054323,
          -0.6414560302629011,
          -1.7486277339397867,
          -1.008005754551698,
          -1.4749263879234902,
          0.07158176405346194,
          0.37714247366807724,
          -1.2511828121206783,
          -0.4144538250041651,
          -1.1248783811649619,
          0.6915610666193733,
          -1.515469090192993,
          -1.0308731172018237,
          -1.0546323697266737,
          0.5298800967099584,
          -0.9013614138639118,
          -1.0865962498559323,
          -1.1651794001094098,
          0.3177557711991585,
          -1.2473122191531307,
          0.010990949135874992,
          -0.3277773050217029,
          -0.18343203861061974,
          -1.281447200479977,
          -1.1249054066807134,
          -0.3523375303080078,
          1.2857148456086533,
          0.3002873671662301,
          -0.16657083977748402,
          0.6301452303014674,
          1.9332316720399407,
          -0.9283745357566375,
          -0.13912602500019006,
          1.40531167595706,
          0.7569194066125257,
          -0.15041769304235406,
          0.23701776991059706,
          1.4734947992823892,
          1.1213960588670555,
          0.730070161899942,
          -1.5655744483280813,
          0.007135833692104462,
          -0.7133542507952243,
          -1.245263141962588,
          0.5868578197525082,
          0.731048696683862,
          0.0806561362092108,
          0.922033704396655,
          1.0863974696666137,
          0.019953619114233205,
          -0.8207016243817372,
          1.068327828375587,
          0.17017571347386337,
          1.3408287849442526,
          0.3570806669709181,
          0.8539673467842933,
          -0.2919429960575299,
          1.82249277500931,
          -0.16626351613441254,
          -0.3844964415823941,
          1.098083927490551,
          -1.0239469091929188,
          0.6770359144939613,
          1.0023650860669637,
          0.3408801986789183,
          -0.034568431713035495,
          -0.8716040556658226,
          0.08181981880876874,
          0.2352230554231178,
          -0.8997340733361338,
          -0.8293373933126399,
          -1.0091689076231074,
          -0.6388359655362722,
          -0.3247331380644408,
          -0.17643550033042044,
          -0.8493914483058012,
          -0.45293395390554425,
          0.8362750457029402,
          -0.5333242638446618,
          -0.21798009395764625,
          -0.8688853484521811,
          0.2511072955731514,
          -0.142205919406768,
          -2.1714451858826807,
          -1.3734306319607021,
          -0.9905622401633744,
          0.8878247032398525,
          1.0892412028907272,
          -0.5183831336430378,
          0.8801893397759464,
          -0.027949087140629967,
          0.7030986513777506,
          0.09357965923134794,
          -1.178378391875849,
          0.0423673193098095,
          1.2994162833544984,
          0.6862668524026437,
          -1.7952085703697955,
          0.9331872036314243,
          -0.7513964172969358,
          0.7856645903688341,
          -0.5484707754601668,
          1.4346508167674705,
          -1.9780511888461239,
          0.08441174801564368,
          1.6071057500320909,
          0.1218431714080765,
          2.036570017587767,
          -1.0763589391493298,
          1.3399971771025678,
          -0.38642557098515123,
          0.44309320099322785,
          0.7556711736813975,
          -0.14745935757068812,
          -0.5779708170481664,
          0.4497605268249584,
          0.024361392192943605,
          0.9131801000573249,
          -0.6182278177649752,
          -0.154964485581952,
          -0.5576149867285686,
          -0.49365748926715236,
          0.4079382151156565,
          -0.027866236640853123,
          2.5772423209979,
          0.48720225372077897,
          -0.7138416482360532,
          0.3897712087145371,
          0.09084641671957389,
          1.0756723911230475,
          -1.534122677537178,
          -0.13797488824397938,
          0.4458073469041149,
          0.38155726097530746,
          0.9817687398587995,
          -0.7838552519093229,
          1.3236895886076863,
          -0.44812250016881533,
          -0.3537263564190842,
          0.2129605270059734,
          -0.08677029754616532,
          -0.22449243238083227,
          0.16687352062512784,
          0.34379992477291305,
          -0.9470822520765326,
          -0.7629434217832378,
          -0.6289230220318253,
          -0.4364301952187667,
          -0.12782004946364492,
          1.714905857771775,
          -0.9190343279416086,
          1.8280738959254974,
          -1.5567445797776085,
          -1.750848554569171,
          -0.4463826952458672,
          -0.37477562559473676,
          -1.151518360983901,
          -1.2578032109066029,
          0.8593490954255804,
          -1.8467692525690036,
          0.8017668295367915,
          -0.3014170025220832,
          -1.2610712399572326,
          1.648782829543237,
          0.5946768069046475,
          -0.3067237960980366,
          -0.7955456727654794,
          -0.6993467200968826,
          0.11484287970832095,
          0.3733585609281,
          -0.09366164360797664,
          -0.11718911513041971,
          -0.011741089622928363,
          -0.803251963413068,
          -0.04411522303434377,
          0.6587063946710956,
          1.2811600374317167,
          -0.5914361017366485,
          -0.5979350712919413,
          -0.4600564493339063,
          0.3476277374344685,
          -0.9353556629242737,
          1.6369741077748154,
          -0.32223960376251043,
          -0.6308084705446639,
          -0.32032951927568193,
          1.036596554741797,
          -0.10108167159536194,
          -0.6915269537908134,
          -0.6438678530165639,
          0.14616001779089383,
          -0.12649029022149336,
          1.6916342122570092,
          1.173339815283849,
          0.5776411549410555,
          0.9373979821506807,
          -0.3056782683810087,
          -0.6004882621938551,
          2.101862602827518,
          0.6056767392532395,
          1.4960937273462596,
          1.0992492372300169,
          2.099806527840668,
          0.16353448956124228,
          0.19366652744521853,
          1.0763483883260596,
          -0.05828227695995277,
          0.2638079437445095,
          -1.0764038373663725,
          -0.30581487513074707,
          0.577499757101664,
          -0.24571671943475284,
          -0.37576939577140617,
          -0.7321906653526397,
          0.15548857418317372,
          -0.9334762019449886,
          -0.3516289027553136,
          -0.8775727507317977,
          -0.7301956939764742,
          0.2685315271039365,
          0.8789196876236514,
          -0.7476191352035905,
          1.2001204497570093,
          0.469195321025085,
          0.023848999130662744,
          0.5000799804080752,
          0.4679221673712449,
          -0.4180649768917532,
          1.25544287172992,
          0.21370160719830272,
          0.682894526250519,
          1.7176466968190547,
          2.18260687601568,
          0.8473348674403078,
          -0.10867057940715173,
          0.5373135677013748,
          -0.5490302154694283,
          -0.3906140093762275,
          0.3395148116996673,
          0.01593213717285536,
          0.5605345094328742,
          1.161874559620948,
          1.0496324246521245,
          2.117028768678107,
          0.7349026291361198,
          -0.5430491919916549,
          -1.4238722457138133,
          0.9378468768181699,
          -1.9630577033832435,
          0.2500155479839085,
          -0.13766416085952873,
          1.9622719187753332,
          1.4245400837712356,
          0.8371091739446298,
          -0.06159602497238711,
          -0.7206502156308706,
          -0.49568797387037405,
          -1.1737833187660776,
          -1.3576300102595489,
          0.5134924690793379,
          -0.03987941316315062,
          0.11603883793892295,
          0.28679423725573727,
          0.30312617017472043,
          0.30207800519648403,
          -0.3454826189185206,
          0.6223702157049442,
          -1.2927312514077496,
          -0.7903761947363008,
          -0.5242537140742812,
          -2.675838162738948,
          0.3058636926716093,
          0.11838406062352327,
          0.7298716854770505,
          -1.7371598804397255,
          -1.2801043744800356,
          -1.22425643857519,
          -0.37595098256960147,
          -0.3280437967433814,
          -2.068238912365844,
          -1.6204402661002895,
          -0.4497524165331752,
          -0.22996441086129682,
          -0.16063137961749455,
          -1.2606126493132142,
          1.489278080762486,
          0.2615502022023675,
          -1.6439832671430978,
          0.037062486194557855,
          0.7438318789843898,
          -0.2668815819595077,
          -0.6620023364466053,
          0.5244697510791525,
          0.6767647151566282,
          -0.03457381201203608,
          1.15927662660968,
          1.1317075924915592,
          -0.31723017642225826,
          -0.5328665611895512,
          0.08435762652542174,
          -0.9794221683896731,
          1.3919527303811658,
          1.1879489625315167,
          0.34816151725460476,
          -1.7600929195718509,
          -0.975075626670141,
          1.0199204842842968,
          -0.31353897725400953,
          -1.2489060219868078,
          -0.280371672012272,
          -1.5435228528607285,
          0.5200911973479287,
          -1.268053236886599,
          2.5993123738192776,
          0.7876393617531471,
          0.7029731493757578,
          0.2702027105180835,
          -1.751475568258609,
          -0.1237351392877097,
          0.32460579091634667,
          0.8955818792665888,
          0.10487737400803429,
          0.29601713478849395,
          -0.4323325667051943,
          -0.2059995498616462,
          0.38819731679050107,
          -1.4958495144629784,
          1.1205505240586073,
          -0.16711164233368675,
          -0.21042211073507053,
          1.444179372762079,
          -0.1769417211840779,
          -1.796168568546087,
          0.9978113580182442,
          0.10135696086449711,
          -0.2780478779345683,
          1.3565425431205664,
          0.3021363375470863,
          -0.8067003757724017,
          1.0565542663328324,
          -0.263984033512416,
          0.3668365487193216,
          0.7951269598158134,
          1.236045858118481,
          -0.873153823233378,
          0.8919071439028674,
          -1.388931844018606,
          0.7376353432339737,
          1.4989361542334536,
          -0.6019829729616546,
          0.5494188892084955,
          0.7969244714289684,
          -1.8682115270477118,
          -1.1049470931916618,
          0.8501866645955114,
          0.754825639142569,
          -0.11712941308825936,
          1.5872220036749665,
          0.13657556848700603,
          -0.559048965158558,
          0.016747408621124994,
          -0.133044804694988,
          -0.5814053896500905,
          1.0366976973759896,
          0.7439246424637381,
          -1.4035119001766456,
          -0.5118056207109025,
          1.3531451096402118,
          -0.9995445920911281,
          -1.0353486911154366,
          -0.12098766795465685,
          1.5833002330912636,
          1.0880401351385758,
          -0.7642903201846775,
          -1.0216905554222078,
          0.6220089589875608,
          0.1401806363792546,
          0.15097697332002738,
          0.2996129610112097,
          0.05904708410189022,
          0.4422383842974038,
          -0.8291855940050917,
          -1.0626119508925762,
          -0.7058125589436229,
          -0.4919352427402376,
          1.4800270147909695,
          -1.347530427087993,
          -0.8066889984035791,
          0.20596793852636505,
          -1.193687443046029,
          -1.9639548981231583,
          0.8023207505601925,
          -2.989429404381523,
          0.1827721149354679,
          0.5159587830103859,
          -0.13259526189803103,
          0.9589048889842531,
          0.25301216263008247,
          1.4608823002734004,
          0.09555363021495368,
          1.337595846040125,
          0.03230390818420417,
          -0.4673683397430413,
          0.058190411971362876,
          0.04976385035429021,
          -0.3499818400353654,
          -0.15570167715288158,
          -2.4340927588452517,
          0.05794050547389914,
          -2.3104514934695226,
          -0.7011160589588801,
          -0.050160476505267546,
          1.5410121997750588,
          0.6873082012050511,
          1.1958605544959569,
          0.8145906760550619,
          -0.7565035977991194,
          -0.3287081555077538,
          0.8461419171976621,
          -2.224315808546534,
          0.46106533514066794,
          -1.0206564726280087,
          -0.057927244552818564,
          -0.9964020342754478,
          -0.19097729997067361,
          0.44949793310562064,
          -1.050548176201661,
          0.22585334371685614,
          0.163293690972535,
          0.9549042061475959,
          -1.4664849156454465,
          0.2501776891391895,
          -0.03399210608786785,
          -0.7084919511482877,
          0.5291566256841395,
          -0.13020293113184042,
          -0.3953427552831872,
          -0.5837821493338092,
          -0.13780107327309066,
          -1.2449696897010734,
          0.3386615470622276,
          -0.19874237167998435,
          0.010345328758946361,
          -1.9966641200663746,
          -0.40789829646581344,
          -0.7757938242336806,
          0.1929097551337243,
          -0.3881785112423963,
          0.5297899330480694,
          -0.5345538123450646,
          -0.12275676693348105,
          0.6358705959367641,
          0.33703617694713783,
          -0.8267915825390563,
          0.6392864220705836,
          -0.15253175851849776,
          -0.23124678701604215,
          1.565777640696419,
          -0.4198291238093805,
          0.5225213341346863,
          0.5851145993269092,
          2.1814731635211575,
          1.3434579707759275,
          -0.460775167501308,
          0.44913338989147644,
          -0.24590325664806298,
          -1.1844179720170187,
          0.6741208587588498,
          -0.8866672187060529,
          -0.27164613254521797,
          0.8680996073922653,
          -2.9584277224238282,
          0.7095698601413537,
          -0.8612110172191134,
          -0.4334252170933755,
          -1.4979387440060772,
          -0.4096673208060958,
          -0.7304461661655881,
          0.37286956477601096,
          -0.164331780660162,
          0.7015177726931271,
          0.27182856848978104,
          -0.5699477987226319,
          -0.5880463830476861,
          -0.34418328314251434,
          0.14099210476091914,
          0.37717191820885004,
          -0.03029239007558395,
          -0.432282117047052,
          0.7990629861961595
         ],
         "xaxis": "x",
         "yaxis": "y"
        },
        {
         "alignmentgroup": "True",
         "boxpoints": "all",
         "fillcolor": "rgba(255,255,255,0)",
         "hoveron": "points",
         "hovertemplate": "Value=%{x}<extra></extra>",
         "jitter": 0,
         "legendgroup": "",
         "line": {
          "color": "rgba(255,255,255,0)"
         },
         "marker": {
          "color": "#636efa",
          "symbol": "line-ns-open"
         },
         "name": "",
         "offsetgroup": "",
         "showlegend": false,
         "type": "box",
         "x": [
          -0.22453952003982994,
          0.11252445001650178,
          0.4224994412401755,
          0.15552020011270135,
          0.43616357875506445,
          1.052954890597989,
          0.31744308698421675,
          1.0753402453659096,
          -0.12207538623192156,
          0.7673550845961298,
          -0.25095073005779966,
          1.2740300995226008,
          0.17093892856859752,
          0.37833480665704516,
          0.24526654533400233,
          0.4004153002020946,
          -1.1277199844467334,
          0.21650489398821704,
          0.7698806791029926,
          0.42637150444337146,
          -1.6199517619719155,
          0.5998657817407068,
          -0.22536366405759814,
          0.7243343370428009,
          0.24688661512536858,
          0.49468839593904573,
          -1.1586139343532078,
          -1.5183188050908398,
          1.1613758785984267,
          0.7205951465723756,
          0.6431493263376605,
          -1.0015883555155407,
          1.3849134759848127,
          1.142877270063843,
          -0.9610338545939807,
          -0.140217192545314,
          -0.07889118516266538,
          0.5212642373700904,
          -2.496340225030588,
          -0.9597917331115342,
          -0.2781337973890787,
          -0.4450555533972717,
          -0.07475295388005135,
          0.31419028918407743,
          0.7403922456838132,
          -0.5516743555431615,
          0.14966293567242403,
          0.15952327224823587,
          1.7097514573544053,
          -1.201913608498944,
          -0.7318676571066893,
          0.0801482308306365,
          -0.9777020877121501,
          1.0845710271442144,
          -1.520354911347963,
          1.269565509487137,
          0.26931364170561684,
          -0.9155317996490994,
          -0.26845999727782704,
          -0.8131363735246979,
          0.2211509319711626,
          -0.3482397259057589,
          -0.0054577669735124,
          0.7881752667567451,
          2.3145923630849086,
          1.3374926836990064,
          0.9579062801455522,
          -0.37176174699879744,
          0.043171438828920626,
          0.6946959175427951,
          -2.1266783725302134,
          -0.01858028590036922,
          0.8668650011242434,
          0.5457146713850518,
          0.5059230798010613,
          -3.2013793739535097,
          -1.6834410821047134,
          0.19187023439631473,
          1.2452520429930398,
          1.9004087319644587,
          0.9091335841766364,
          1.2971456876971172,
          2.279643226455098,
          -0.5277258676264316,
          0.05413639371048745,
          2.406696679503761,
          -1.1288270260405058,
          0.7205963891732634,
          -0.9831717284751933,
          1.4827049492220645,
          1.0539670502569691,
          0.48298067868053185,
          -0.278948721752688,
          0.8257935383814283,
          1.424398965840214,
          0.041153297231016676,
          -0.011195453428240678,
          0.13375109998639986,
          0.9951975544173074,
          0.20595550894000472,
          -1.7714204836721392,
          -0.12477845831818368,
          0.6764996588915551,
          -0.07399711290807477,
          0.35428638898558334,
          0.3775363627397436,
          -0.42133326473143373,
          -0.3586164664898899,
          1.2395360188708113,
          0.8057303156752156,
          -0.644368394824924,
          0.0899301875216496,
          0.7925483362639807,
          2.701557050724821,
          -1.5123962329227438,
          -0.1905064596216398,
          0.1509564366685513,
          1.935984603884487,
          0.17849403223816013,
          0.0668138784944829,
          -0.9836911768623537,
          -0.5857424925309809,
          -0.053647220853315386,
          -0.7000896826408504,
          -0.517430831003179,
          -1.9192573161599233,
          0.2712740443813688,
          0.5433319132461227,
          -0.41671184189710875,
          -0.511986285596385,
          2.5480125498926993,
          0.05341993263269417,
          -0.27357167206082156,
          -0.1552549128458693,
          1.8269328460705547,
          0.159806542202718,
          0.005798043377691964,
          -1.7851869466770476,
          -0.19660464349673737,
          0.20935784527854234,
          -0.22060302608973117,
          -0.37377659576435984,
          0.8940729976779398,
          0.8563855961510939,
          0.03032107432074327,
          -0.7147025362398916,
          -0.6310239318398794,
          0.2453204403225404,
          0.3195672843201953,
          -2.0860840568323415,
          -0.5628402689791026,
          -0.23983418522309913,
          -0.9227833149781095,
          -0.7339438067128992,
          0.464545951301498,
          -0.6313071038177244,
          0.3721016280992066,
          -0.7815741226109105,
          -0.5000097055699718,
          -0.3970963152637226,
          -0.20603770456491965,
          0.04459176958246335,
          0.3997552774464616,
          1.2596020351737915,
          0.25769908157780586,
          -0.015416764772046818,
          0.11894224742070629,
          -0.9231641408280631,
          0.44945388119491825,
          0.5414645365683579,
          -1.2184327651415443,
          -1.741482272003016,
          -1.1449075896967553,
          0.8711262253237787,
          1.0275530833281803,
          -0.9858953448404645,
          -0.7771532501915551,
          -1.6211930902804461,
          0.6910278285679327,
          -0.3291166772077547,
          0.11319718189988785,
          0.2878710339168953,
          1.4181695926815276,
          1.2107659656362562,
          -0.6435560913816923,
          -1.7635969225076153,
          -0.2926526983272833,
          1.338618590209018,
          0.056244471056285515,
          2.0789933168687087,
          2.180703957361913,
          0.69980826031443,
          0.31139773417104166,
          -1.6807191408401574,
          -0.7932385573592823,
          -0.6221892884735248,
          -0.10300310146554906,
          0.2965865921512453,
          0.44631056971451055,
          -0.41827072557746287,
          0.30571019055589826,
          1.3612167452206971,
          -0.9310566828347021,
          -0.9953484712855685,
          -1.3014136290326064,
          -1.3758350558148709,
          -0.8795972425541191,
          1.2526716775128803,
          -1.1563840651498,
          2.2369158755522274,
          -0.46121885153536746,
          0.20167181669991568,
          -0.31865204219291593,
          -0.5452931897427803,
          -0.6859311525426931,
          0.47348495379800365,
          -0.09720764076703241,
          2.5715567315413024,
          1.279053020465017,
          1.3770526295862233,
          0.621526968431872,
          -1.4948692152426015,
          1.2131952302440592,
          0.2253797259006396,
          -0.7927183172351665,
          1.1490633822788978,
          -2.497411818400528,
          -0.8000025834275075,
          -0.8599201605802914,
          -0.39250761173454896,
          1.1144181769293062,
          -0.057788507125486235,
          -0.4490467400702039,
          0.14487119818391353,
          0.08018649358447065,
          1.2042474260384322,
          -0.5053479182599494,
          2.07591842442153,
          1.8091834464899639,
          -0.15698336742384217,
          0.324649561916804,
          -0.4034379289602906,
          0.33746904075805034,
          -0.20495774623634594,
          0.06047361681775777,
          0.7567863556389481,
          0.584834081680381,
          1.163792796232277,
          -0.6597359630479184,
          -0.3515422793616728,
          -0.6425520359002572,
          0.7122902051581227,
          0.6976451076706632,
          -0.7496498728535347,
          -2.3230757391617227,
          -0.8831074822043703,
          -0.6912862025843024,
          0.5183710532561957,
          1.2924063053905244,
          1.0895154693870766,
          -0.6133623703597261,
          -1.954229525326934,
          -2.023542299207432,
          1.182487741011036,
          -0.8035088056545725,
          1.138925681324509,
          0.03172875973387538,
          -0.41114304030034826,
          1.1755072198954182,
          0.8928917975970223,
          2.41312585425677,
          -0.7944052079456129,
          0.4726732833851648,
          -0.46232617002359344,
          0.93170495480128,
          -1.9314799081795984,
          0.8311288745161444,
          0.4808638292898563,
          0.990147035603528,
          -0.09870837975356225,
          0.5501915689237301,
          1.4464201281697986,
          1.7451337684662491,
          -0.4546800378462602,
          -0.7123426361008176,
          0.1903715253087056,
          -1.0221837948553532,
          0.6316948868496701,
          -0.334093017334978,
          -1.9022791632505576,
          0.05528231640099252,
          -0.4490319622515993,
          -1.0665995962037287,
          -0.992884277537666,
          0.060676469476780404,
          -0.3358265452265085,
          -1.1086849096497664,
          -0.45589384336866356,
          -0.49704878882764236,
          0.16231661225735614,
          -0.822721244097786,
          0.525797240825791,
          -0.7386413095810348,
          0.007787386573724096,
          0.30322093674866785,
          0.030621758440825635,
          -0.9592298326977775,
          1.1196165613912614,
          0.10742231726411172,
          1.5814599889279088,
          -0.47504364614555955,
          1.7753965775534062,
          -0.5402855498549153,
          -2.143010456710259,
          -0.04842379881569843,
          -1.1163980220226706,
          -0.24162283036826793,
          -0.5233783037433792,
          0.3343872037643428,
          1.3318081003330553,
          0.23329461595009793,
          -0.5396239165943759,
          0.6899349347032849,
          -0.1897520377864719,
          -0.154379139281265,
          -2.6904259822639296,
          -1.0432742960608543,
          0.5732948974974514,
          -1.8586561073502912,
          -1.6209796860452748,
          -0.2364853590000832,
          1.01928245042255,
          -0.19559605302143288,
          0.04582635478397281,
          0.20812183993267658,
          0.706346394562183,
          -0.5910166024472023,
          -1.3462787048911766,
          0.15878688234799093,
          0.924964878817847,
          0.46266345192757435,
          0.1844199553922927,
          0.8535553745623312,
          0.6350231999028443,
          -0.34402138533469656,
          -1.2352052367408972,
          0.0018464002644976167,
          -0.36687529622742887,
          1.547299547802644,
          0.14252071912054917,
          -0.6124793391688182,
          0.34781589353561854,
          2.313441042144074,
          0.46524708167106377,
          2.2326363896046773,
          0.34016013301545744,
          -0.1950226989957938,
          -0.2673032859765075,
          0.9889729577997787,
          -1.2905801776086199,
          0.21096084970021775,
          0.2649457970038029,
          -0.7133050261717115,
          -0.24563207603670678,
          -1.2148431341033166,
          -0.5007095152122568,
          -0.9911612007084968,
          -0.3302027781549368,
          0.775148826821086,
          1.1915816588673203,
          -0.4049357984765786,
          0.001998794478205204,
          1.6910056722145872,
          0.3077269116941178,
          -0.395171834848261,
          1.1456441317836654,
          1.0693104579495452,
          0.6821318192903465,
          -0.37357819140312365,
          -0.00623362448363775,
          0.256841262797177,
          0.8836378240950394,
          -1.5526047752036252,
          0.898258705398364,
          -1.073874975760555,
          -1.0176397483240471,
          1.0697088231354526,
          1.6182160849023313,
          2.47423517865237,
          0.6353936914348955,
          0.02673557463417938,
          0.3439391322593048,
          1.1307623953192552,
          0.5483973325890239,
          1.958157829857617,
          0.035050314175411594,
          -0.35689422973304674,
          -0.48371729669358104,
          0.6862751603197151,
          0.09097290309935722,
          0.29099738740145004,
          -3.094771162411146,
          -0.1758808493287527,
          0.4747818096902764,
          0.8012682447992718,
          1.9583485386723622,
          0.5190971296157519,
          -0.6537421655810743,
          2.2048501435848507,
          -1.2551025916778993,
          0.06737779854097085,
          0.37279363475774524,
          -0.9396604081698184,
          -0.15251886941855577,
          0.6275261682763734,
          -2.291685871745803,
          1.4087894293732808,
          -2.156457788867705,
          -0.9622040435913576,
          -0.33919129247872776,
          0.7575048690293837,
          -1.5171703474176235,
          -1.0305116162576369,
          1.6769700901383067,
          -0.9222578386675467,
          -0.4068705597659986,
          0.19952604811554125,
          -0.850103669696656,
          0.5768314595872988,
          -0.06668392550733972,
          -0.7226585590842501,
          -0.39602353205006796,
          -0.5717022899868405,
          0.4680169758356272,
          -0.513319661555074,
          -1.3948133909915907,
          0.7742388066419885,
          -0.0065635479883498025,
          -0.2964197782228792,
          -0.6026605493707097,
          -0.7417099779211269,
          0.19810754350719106,
          0.1339330551758493,
          -0.7457976936167101,
          0.9864508517875299,
          -1.13283178135567,
          2.3135178502987026,
          -0.2155954593061534,
          -0.8509512223596013,
          -1.4083763357540993,
          -0.3115432863723427,
          0.1769117319140603,
          -0.9468012566192952,
          0.20795036391128208,
          -0.6303238777007909,
          0.17653245235319842,
          -0.8884468969788568,
          -0.08273148528033257,
          0.4790378048431022,
          0.3862245804338706,
          -0.2166335604144326,
          -0.06427071573916189,
          0.4552974152619247,
          1.1816609767860982,
          -1.223891743401394,
          0.4573972706049475,
          -0.07333107657625719,
          -0.34626320444950615,
          -2.5865935490822745,
          -1.0776457455990245,
          -0.555073154039573,
          -0.13196296188978668,
          -0.29921582818332165,
          -0.16044742063270068,
          0.33054235187221775,
          1.1627609605482565,
          -0.2861243453789016,
          -0.39500893491135586,
          0.3552608575190745,
          -0.38458953609134516,
          -1.434684499500322,
          0.2883873866247194,
          0.13844771795344663,
          -0.843893818741033,
          -1.4710362335670197,
          -0.6383620325813306,
          -0.11582983369645404,
          0.4761805007662569,
          -1.1444714921369605,
          -0.14129311061283978,
          2.4372565876505665,
          -1.117290839246647,
          1.288579366187565,
          0.3046444201074742,
          -1.8632421430091026,
          0.2206166814067537,
          0.5458494256937276,
          -1.5047901018349739,
          -0.3622372741661044,
          0.36930992833570564,
          0.3838714631246797,
          -0.1077453210014009,
          -0.31085610804606656,
          -1.867371120128748,
          -1.6607750397092913,
          0.724619627970365,
          0.7486591584263806,
          1.156192063780261,
          1.0796440579157691,
          0.23484615278785817,
          -0.07985853909054323,
          -0.6414560302629011,
          -1.7486277339397867,
          -1.008005754551698,
          -1.4749263879234902,
          0.07158176405346194,
          0.37714247366807724,
          -1.2511828121206783,
          -0.4144538250041651,
          -1.1248783811649619,
          0.6915610666193733,
          -1.515469090192993,
          -1.0308731172018237,
          -1.0546323697266737,
          0.5298800967099584,
          -0.9013614138639118,
          -1.0865962498559323,
          -1.1651794001094098,
          0.3177557711991585,
          -1.2473122191531307,
          0.010990949135874992,
          -0.3277773050217029,
          -0.18343203861061974,
          -1.281447200479977,
          -1.1249054066807134,
          -0.3523375303080078,
          1.2857148456086533,
          0.3002873671662301,
          -0.16657083977748402,
          0.6301452303014674,
          1.9332316720399407,
          -0.9283745357566375,
          -0.13912602500019006,
          1.40531167595706,
          0.7569194066125257,
          -0.15041769304235406,
          0.23701776991059706,
          1.4734947992823892,
          1.1213960588670555,
          0.730070161899942,
          -1.5655744483280813,
          0.007135833692104462,
          -0.7133542507952243,
          -1.245263141962588,
          0.5868578197525082,
          0.731048696683862,
          0.0806561362092108,
          0.922033704396655,
          1.0863974696666137,
          0.019953619114233205,
          -0.8207016243817372,
          1.068327828375587,
          0.17017571347386337,
          1.3408287849442526,
          0.3570806669709181,
          0.8539673467842933,
          -0.2919429960575299,
          1.82249277500931,
          -0.16626351613441254,
          -0.3844964415823941,
          1.098083927490551,
          -1.0239469091929188,
          0.6770359144939613,
          1.0023650860669637,
          0.3408801986789183,
          -0.034568431713035495,
          -0.8716040556658226,
          0.08181981880876874,
          0.2352230554231178,
          -0.8997340733361338,
          -0.8293373933126399,
          -1.0091689076231074,
          -0.6388359655362722,
          -0.3247331380644408,
          -0.17643550033042044,
          -0.8493914483058012,
          -0.45293395390554425,
          0.8362750457029402,
          -0.5333242638446618,
          -0.21798009395764625,
          -0.8688853484521811,
          0.2511072955731514,
          -0.142205919406768,
          -2.1714451858826807,
          -1.3734306319607021,
          -0.9905622401633744,
          0.8878247032398525,
          1.0892412028907272,
          -0.5183831336430378,
          0.8801893397759464,
          -0.027949087140629967,
          0.7030986513777506,
          0.09357965923134794,
          -1.178378391875849,
          0.0423673193098095,
          1.2994162833544984,
          0.6862668524026437,
          -1.7952085703697955,
          0.9331872036314243,
          -0.7513964172969358,
          0.7856645903688341,
          -0.5484707754601668,
          1.4346508167674705,
          -1.9780511888461239,
          0.08441174801564368,
          1.6071057500320909,
          0.1218431714080765,
          2.036570017587767,
          -1.0763589391493298,
          1.3399971771025678,
          -0.38642557098515123,
          0.44309320099322785,
          0.7556711736813975,
          -0.14745935757068812,
          -0.5779708170481664,
          0.4497605268249584,
          0.024361392192943605,
          0.9131801000573249,
          -0.6182278177649752,
          -0.154964485581952,
          -0.5576149867285686,
          -0.49365748926715236,
          0.4079382151156565,
          -0.027866236640853123,
          2.5772423209979,
          0.48720225372077897,
          -0.7138416482360532,
          0.3897712087145371,
          0.09084641671957389,
          1.0756723911230475,
          -1.534122677537178,
          -0.13797488824397938,
          0.4458073469041149,
          0.38155726097530746,
          0.9817687398587995,
          -0.7838552519093229,
          1.3236895886076863,
          -0.44812250016881533,
          -0.3537263564190842,
          0.2129605270059734,
          -0.08677029754616532,
          -0.22449243238083227,
          0.16687352062512784,
          0.34379992477291305,
          -0.9470822520765326,
          -0.7629434217832378,
          -0.6289230220318253,
          -0.4364301952187667,
          -0.12782004946364492,
          1.714905857771775,
          -0.9190343279416086,
          1.8280738959254974,
          -1.5567445797776085,
          -1.750848554569171,
          -0.4463826952458672,
          -0.37477562559473676,
          -1.151518360983901,
          -1.2578032109066029,
          0.8593490954255804,
          -1.8467692525690036,
          0.8017668295367915,
          -0.3014170025220832,
          -1.2610712399572326,
          1.648782829543237,
          0.5946768069046475,
          -0.3067237960980366,
          -0.7955456727654794,
          -0.6993467200968826,
          0.11484287970832095,
          0.3733585609281,
          -0.09366164360797664,
          -0.11718911513041971,
          -0.011741089622928363,
          -0.803251963413068,
          -0.04411522303434377,
          0.6587063946710956,
          1.2811600374317167,
          -0.5914361017366485,
          -0.5979350712919413,
          -0.4600564493339063,
          0.3476277374344685,
          -0.9353556629242737,
          1.6369741077748154,
          -0.32223960376251043,
          -0.6308084705446639,
          -0.32032951927568193,
          1.036596554741797,
          -0.10108167159536194,
          -0.6915269537908134,
          -0.6438678530165639,
          0.14616001779089383,
          -0.12649029022149336,
          1.6916342122570092,
          1.173339815283849,
          0.5776411549410555,
          0.9373979821506807,
          -0.3056782683810087,
          -0.6004882621938551,
          2.101862602827518,
          0.6056767392532395,
          1.4960937273462596,
          1.0992492372300169,
          2.099806527840668,
          0.16353448956124228,
          0.19366652744521853,
          1.0763483883260596,
          -0.05828227695995277,
          0.2638079437445095,
          -1.0764038373663725,
          -0.30581487513074707,
          0.577499757101664,
          -0.24571671943475284,
          -0.37576939577140617,
          -0.7321906653526397,
          0.15548857418317372,
          -0.9334762019449886,
          -0.3516289027553136,
          -0.8775727507317977,
          -0.7301956939764742,
          0.2685315271039365,
          0.8789196876236514,
          -0.7476191352035905,
          1.2001204497570093,
          0.469195321025085,
          0.023848999130662744,
          0.5000799804080752,
          0.4679221673712449,
          -0.4180649768917532,
          1.25544287172992,
          0.21370160719830272,
          0.682894526250519,
          1.7176466968190547,
          2.18260687601568,
          0.8473348674403078,
          -0.10867057940715173,
          0.5373135677013748,
          -0.5490302154694283,
          -0.3906140093762275,
          0.3395148116996673,
          0.01593213717285536,
          0.5605345094328742,
          1.161874559620948,
          1.0496324246521245,
          2.117028768678107,
          0.7349026291361198,
          -0.5430491919916549,
          -1.4238722457138133,
          0.9378468768181699,
          -1.9630577033832435,
          0.2500155479839085,
          -0.13766416085952873,
          1.9622719187753332,
          1.4245400837712356,
          0.8371091739446298,
          -0.06159602497238711,
          -0.7206502156308706,
          -0.49568797387037405,
          -1.1737833187660776,
          -1.3576300102595489,
          0.5134924690793379,
          -0.03987941316315062,
          0.11603883793892295,
          0.28679423725573727,
          0.30312617017472043,
          0.30207800519648403,
          -0.3454826189185206,
          0.6223702157049442,
          -1.2927312514077496,
          -0.7903761947363008,
          -0.5242537140742812,
          -2.675838162738948,
          0.3058636926716093,
          0.11838406062352327,
          0.7298716854770505,
          -1.7371598804397255,
          -1.2801043744800356,
          -1.22425643857519,
          -0.37595098256960147,
          -0.3280437967433814,
          -2.068238912365844,
          -1.6204402661002895,
          -0.4497524165331752,
          -0.22996441086129682,
          -0.16063137961749455,
          -1.2606126493132142,
          1.489278080762486,
          0.2615502022023675,
          -1.6439832671430978,
          0.037062486194557855,
          0.7438318789843898,
          -0.2668815819595077,
          -0.6620023364466053,
          0.5244697510791525,
          0.6767647151566282,
          -0.03457381201203608,
          1.15927662660968,
          1.1317075924915592,
          -0.31723017642225826,
          -0.5328665611895512,
          0.08435762652542174,
          -0.9794221683896731,
          1.3919527303811658,
          1.1879489625315167,
          0.34816151725460476,
          -1.7600929195718509,
          -0.975075626670141,
          1.0199204842842968,
          -0.31353897725400953,
          -1.2489060219868078,
          -0.280371672012272,
          -1.5435228528607285,
          0.5200911973479287,
          -1.268053236886599,
          2.5993123738192776,
          0.7876393617531471,
          0.7029731493757578,
          0.2702027105180835,
          -1.751475568258609,
          -0.1237351392877097,
          0.32460579091634667,
          0.8955818792665888,
          0.10487737400803429,
          0.29601713478849395,
          -0.4323325667051943,
          -0.2059995498616462,
          0.38819731679050107,
          -1.4958495144629784,
          1.1205505240586073,
          -0.16711164233368675,
          -0.21042211073507053,
          1.444179372762079,
          -0.1769417211840779,
          -1.796168568546087,
          0.9978113580182442,
          0.10135696086449711,
          -0.2780478779345683,
          1.3565425431205664,
          0.3021363375470863,
          -0.8067003757724017,
          1.0565542663328324,
          -0.263984033512416,
          0.3668365487193216,
          0.7951269598158134,
          1.236045858118481,
          -0.873153823233378,
          0.8919071439028674,
          -1.388931844018606,
          0.7376353432339737,
          1.4989361542334536,
          -0.6019829729616546,
          0.5494188892084955,
          0.7969244714289684,
          -1.8682115270477118,
          -1.1049470931916618,
          0.8501866645955114,
          0.754825639142569,
          -0.11712941308825936,
          1.5872220036749665,
          0.13657556848700603,
          -0.559048965158558,
          0.016747408621124994,
          -0.133044804694988,
          -0.5814053896500905,
          1.0366976973759896,
          0.7439246424637381,
          -1.4035119001766456,
          -0.5118056207109025,
          1.3531451096402118,
          -0.9995445920911281,
          -1.0353486911154366,
          -0.12098766795465685,
          1.5833002330912636,
          1.0880401351385758,
          -0.7642903201846775,
          -1.0216905554222078,
          0.6220089589875608,
          0.1401806363792546,
          0.15097697332002738,
          0.2996129610112097,
          0.05904708410189022,
          0.4422383842974038,
          -0.8291855940050917,
          -1.0626119508925762,
          -0.7058125589436229,
          -0.4919352427402376,
          1.4800270147909695,
          -1.347530427087993,
          -0.8066889984035791,
          0.20596793852636505,
          -1.193687443046029,
          -1.9639548981231583,
          0.8023207505601925,
          -2.989429404381523,
          0.1827721149354679,
          0.5159587830103859,
          -0.13259526189803103,
          0.9589048889842531,
          0.25301216263008247,
          1.4608823002734004,
          0.09555363021495368,
          1.337595846040125,
          0.03230390818420417,
          -0.4673683397430413,
          0.058190411971362876,
          0.04976385035429021,
          -0.3499818400353654,
          -0.15570167715288158,
          -2.4340927588452517,
          0.05794050547389914,
          -2.3104514934695226,
          -0.7011160589588801,
          -0.050160476505267546,
          1.5410121997750588,
          0.6873082012050511,
          1.1958605544959569,
          0.8145906760550619,
          -0.7565035977991194,
          -0.3287081555077538,
          0.8461419171976621,
          -2.224315808546534,
          0.46106533514066794,
          -1.0206564726280087,
          -0.057927244552818564,
          -0.9964020342754478,
          -0.19097729997067361,
          0.44949793310562064,
          -1.050548176201661,
          0.22585334371685614,
          0.163293690972535,
          0.9549042061475959,
          -1.4664849156454465,
          0.2501776891391895,
          -0.03399210608786785,
          -0.7084919511482877,
          0.5291566256841395,
          -0.13020293113184042,
          -0.3953427552831872,
          -0.5837821493338092,
          -0.13780107327309066,
          -1.2449696897010734,
          0.3386615470622276,
          -0.19874237167998435,
          0.010345328758946361,
          -1.9966641200663746,
          -0.40789829646581344,
          -0.7757938242336806,
          0.1929097551337243,
          -0.3881785112423963,
          0.5297899330480694,
          -0.5345538123450646,
          -0.12275676693348105,
          0.6358705959367641,
          0.33703617694713783,
          -0.8267915825390563,
          0.6392864220705836,
          -0.15253175851849776,
          -0.23124678701604215,
          1.565777640696419,
          -0.4198291238093805,
          0.5225213341346863,
          0.5851145993269092,
          2.1814731635211575,
          1.3434579707759275,
          -0.460775167501308,
          0.44913338989147644,
          -0.24590325664806298,
          -1.1844179720170187,
          0.6741208587588498,
          -0.8866672187060529,
          -0.27164613254521797,
          0.8680996073922653,
          -2.9584277224238282,
          0.7095698601413537,
          -0.8612110172191134,
          -0.4334252170933755,
          -1.4979387440060772,
          -0.4096673208060958,
          -0.7304461661655881,
          0.37286956477601096,
          -0.164331780660162,
          0.7015177726931271,
          0.27182856848978104,
          -0.5699477987226319,
          -0.5880463830476861,
          -0.34418328314251434,
          0.14099210476091914,
          0.37717191820885004,
          -0.03029239007558395,
          -0.432282117047052,
          0.7990629861961595
         ],
         "xaxis": "x2",
         "yaxis": "y2"
        },
        {
         "hovertemplate": "x=%{x}<br>y=%{y}<extra></extra>",
         "legendgroup": "",
         "line": {
          "color": "#636efa",
          "dash": "solid"
         },
         "marker": {
          "symbol": "circle"
         },
         "mode": "lines",
         "name": "",
         "orientation": "v",
         "showlegend": false,
         "type": "scatter",
         "x": [
          -4,
          -3.991991991991992,
          -3.983983983983984,
          -3.975975975975976,
          -3.967967967967968,
          -3.95995995995996,
          -3.951951951951952,
          -3.943943943943944,
          -3.935935935935936,
          -3.9279279279279278,
          -3.91991991991992,
          -3.911911911911912,
          -3.903903903903904,
          -3.895895895895896,
          -3.8878878878878878,
          -3.87987987987988,
          -3.871871871871872,
          -3.863863863863864,
          -3.855855855855856,
          -3.8478478478478477,
          -3.83983983983984,
          -3.831831831831832,
          -3.823823823823824,
          -3.815815815815816,
          -3.8078078078078077,
          -3.7997997997998,
          -3.7917917917917916,
          -3.7837837837837838,
          -3.775775775775776,
          -3.7677677677677677,
          -3.75975975975976,
          -3.7517517517517516,
          -3.7437437437437437,
          -3.735735735735736,
          -3.7277277277277276,
          -3.71971971971972,
          -3.7117117117117115,
          -3.7037037037037037,
          -3.6956956956956954,
          -3.6876876876876876,
          -3.67967967967968,
          -3.6716716716716715,
          -3.6636636636636637,
          -3.6556556556556554,
          -3.6476476476476476,
          -3.6396396396396398,
          -3.6316316316316315,
          -3.6236236236236237,
          -3.6156156156156154,
          -3.6076076076076076,
          -3.5995995995995997,
          -3.5915915915915915,
          -3.5835835835835836,
          -3.5755755755755754,
          -3.5675675675675675,
          -3.5595595595595597,
          -3.5515515515515514,
          -3.5435435435435436,
          -3.5355355355355353,
          -3.5275275275275275,
          -3.5195195195195197,
          -3.5115115115115114,
          -3.5035035035035036,
          -3.4954954954954953,
          -3.4874874874874875,
          -3.4794794794794797,
          -3.4714714714714714,
          -3.4634634634634636,
          -3.4554554554554553,
          -3.4474474474474475,
          -3.4394394394394396,
          -3.4314314314314314,
          -3.4234234234234235,
          -3.4154154154154153,
          -3.4074074074074074,
          -3.3993993993993996,
          -3.3913913913913913,
          -3.3833833833833835,
          -3.3753753753753752,
          -3.3673673673673674,
          -3.3593593593593596,
          -3.3513513513513513,
          -3.3433433433433435,
          -3.335335335335335,
          -3.3273273273273274,
          -3.3193193193193196,
          -3.3113113113113113,
          -3.3033033033033035,
          -3.295295295295295,
          -3.2872872872872874,
          -3.2792792792792795,
          -3.2712712712712713,
          -3.263263263263263,
          -3.255255255255255,
          -3.2472472472472473,
          -3.2392392392392395,
          -3.2312312312312312,
          -3.223223223223223,
          -3.215215215215215,
          -3.2072072072072073,
          -3.1991991991991995,
          -3.191191191191191,
          -3.183183183183183,
          -3.175175175175175,
          -3.1671671671671673,
          -3.159159159159159,
          -3.151151151151151,
          -3.143143143143143,
          -3.135135135135135,
          -3.1271271271271273,
          -3.119119119119119,
          -3.111111111111111,
          -3.103103103103103,
          -3.095095095095095,
          -3.0870870870870872,
          -3.079079079079079,
          -3.071071071071071,
          -3.063063063063063,
          -3.055055055055055,
          -3.047047047047047,
          -3.039039039039039,
          -3.031031031031031,
          -3.023023023023023,
          -3.015015015015015,
          -3.007007007007007,
          -2.998998998998999,
          -2.990990990990991,
          -2.982982982982983,
          -2.974974974974975,
          -2.966966966966967,
          -2.958958958958959,
          -2.950950950950951,
          -2.942942942942943,
          -2.934934934934935,
          -2.926926926926927,
          -2.918918918918919,
          -2.910910910910911,
          -2.9029029029029028,
          -2.894894894894895,
          -2.886886886886887,
          -2.878878878878879,
          -2.8708708708708706,
          -2.8628628628628627,
          -2.854854854854855,
          -2.846846846846847,
          -2.838838838838839,
          -2.8308308308308305,
          -2.8228228228228227,
          -2.814814814814815,
          -2.806806806806807,
          -2.798798798798799,
          -2.7907907907907905,
          -2.7827827827827827,
          -2.774774774774775,
          -2.766766766766767,
          -2.7587587587587588,
          -2.7507507507507505,
          -2.7427427427427427,
          -2.734734734734735,
          -2.726726726726727,
          -2.7187187187187187,
          -2.7107107107107105,
          -2.7027027027027026,
          -2.694694694694695,
          -2.686686686686687,
          -2.6786786786786787,
          -2.6706706706706704,
          -2.6626626626626626,
          -2.6546546546546548,
          -2.646646646646647,
          -2.6386386386386387,
          -2.6306306306306304,
          -2.6226226226226226,
          -2.6146146146146148,
          -2.606606606606607,
          -2.5985985985985987,
          -2.5905905905905904,
          -2.5825825825825826,
          -2.5745745745745747,
          -2.566566566566567,
          -2.5585585585585586,
          -2.5505505505505504,
          -2.5425425425425425,
          -2.5345345345345347,
          -2.5265265265265264,
          -2.5185185185185186,
          -2.5105105105105103,
          -2.5025025025025025,
          -2.4944944944944947,
          -2.4864864864864864,
          -2.4784784784784786,
          -2.4704704704704703,
          -2.4624624624624625,
          -2.4544544544544546,
          -2.4464464464464464,
          -2.4384384384384385,
          -2.4304304304304303,
          -2.4224224224224224,
          -2.4144144144144146,
          -2.4064064064064064,
          -2.3983983983983985,
          -2.3903903903903903,
          -2.3823823823823824,
          -2.3743743743743746,
          -2.3663663663663663,
          -2.358358358358358,
          -2.3503503503503502,
          -2.3423423423423424,
          -2.3343343343343346,
          -2.3263263263263263,
          -2.318318318318318,
          -2.31031031031031,
          -2.3023023023023024,
          -2.2942942942942945,
          -2.2862862862862863,
          -2.278278278278278,
          -2.27027027027027,
          -2.2622622622622623,
          -2.2542542542542545,
          -2.2462462462462462,
          -2.238238238238238,
          -2.23023023023023,
          -2.2222222222222223,
          -2.2142142142142145,
          -2.206206206206206,
          -2.198198198198198,
          -2.19019019019019,
          -2.1821821821821823,
          -2.1741741741741745,
          -2.166166166166166,
          -2.158158158158158,
          -2.15015015015015,
          -2.1421421421421423,
          -2.1341341341341344,
          -2.126126126126126,
          -2.118118118118118,
          -2.11011011011011,
          -2.1021021021021022,
          -2.0940940940940944,
          -2.086086086086086,
          -2.078078078078078,
          -2.07007007007007,
          -2.062062062062062,
          -2.0540540540540544,
          -2.046046046046046,
          -2.038038038038038,
          -2.03003003003003,
          -2.022022022022022,
          -2.014014014014014,
          -2.006006006006006,
          -1.9979979979979978,
          -1.98998998998999,
          -1.9819819819819822,
          -1.973973973973974,
          -1.965965965965966,
          -1.9579579579579578,
          -1.94994994994995,
          -1.9419419419419421,
          -1.9339339339339339,
          -1.925925925925926,
          -1.9179179179179178,
          -1.90990990990991,
          -1.9019019019019021,
          -1.8938938938938938,
          -1.885885885885886,
          -1.8778778778778777,
          -1.86986986986987,
          -1.861861861861862,
          -1.8538538538538538,
          -1.845845845845846,
          -1.8378378378378377,
          -1.82982982982983,
          -1.821821821821822,
          -1.8138138138138138,
          -1.805805805805806,
          -1.7977977977977977,
          -1.7897897897897899,
          -1.7817817817817816,
          -1.7737737737737738,
          -1.765765765765766,
          -1.7577577577577577,
          -1.7497497497497498,
          -1.7417417417417416,
          -1.7337337337337337,
          -1.725725725725726,
          -1.7177177177177176,
          -1.7097097097097098,
          -1.7017017017017015,
          -1.6936936936936937,
          -1.6856856856856859,
          -1.6776776776776776,
          -1.6696696696696698,
          -1.6616616616616615,
          -1.6536536536536537,
          -1.6456456456456459,
          -1.6376376376376376,
          -1.6296296296296298,
          -1.6216216216216215,
          -1.6136136136136137,
          -1.6056056056056058,
          -1.5975975975975976,
          -1.5895895895895897,
          -1.5815815815815815,
          -1.5735735735735736,
          -1.5655655655655654,
          -1.5575575575575575,
          -1.5495495495495497,
          -1.5415415415415414,
          -1.5335335335335336,
          -1.5255255255255253,
          -1.5175175175175175,
          -1.5095095095095097,
          -1.5015015015015014,
          -1.4934934934934936,
          -1.4854854854854853,
          -1.4774774774774775,
          -1.4694694694694697,
          -1.4614614614614614,
          -1.4534534534534536,
          -1.4454454454454453,
          -1.4374374374374375,
          -1.4294294294294296,
          -1.4214214214214214,
          -1.4134134134134135,
          -1.4054054054054053,
          -1.3973973973973974,
          -1.3893893893893896,
          -1.3813813813813813,
          -1.3733733733733735,
          -1.3653653653653652,
          -1.3573573573573574,
          -1.3493493493493496,
          -1.3413413413413413,
          -1.3333333333333335,
          -1.3253253253253252,
          -1.3173173173173174,
          -1.3093093093093096,
          -1.3013013013013013,
          -1.2932932932932935,
          -1.2852852852852852,
          -1.2772772772772774,
          -1.269269269269269,
          -1.2612612612612613,
          -1.2532532532532534,
          -1.2452452452452452,
          -1.2372372372372373,
          -1.229229229229229,
          -1.2212212212212212,
          -1.2132132132132134,
          -1.2052052052052051,
          -1.1971971971971973,
          -1.189189189189189,
          -1.1811811811811812,
          -1.1731731731731734,
          -1.165165165165165,
          -1.1571571571571573,
          -1.149149149149149,
          -1.1411411411411412,
          -1.1331331331331334,
          -1.125125125125125,
          -1.1171171171171173,
          -1.109109109109109,
          -1.1011011011011012,
          -1.0930930930930933,
          -1.085085085085085,
          -1.0770770770770772,
          -1.069069069069069,
          -1.0610610610610611,
          -1.0530530530530529,
          -1.045045045045045,
          -1.0370370370370372,
          -1.029029029029029,
          -1.021021021021021,
          -1.0130130130130128,
          -1.005005005005005,
          -0.9969969969969972,
          -0.9889889889889889,
          -0.9809809809809811,
          -0.9729729729729728,
          -0.964964964964965,
          -0.9569569569569571,
          -0.9489489489489489,
          -0.940940940940941,
          -0.9329329329329328,
          -0.924924924924925,
          -0.9169169169169171,
          -0.9089089089089089,
          -0.900900900900901,
          -0.8928928928928928,
          -0.8848848848848849,
          -0.8768768768768771,
          -0.8688688688688688,
          -0.860860860860861,
          -0.8528528528528527,
          -0.8448448448448449,
          -0.8368368368368371,
          -0.8288288288288288,
          -0.820820820820821,
          -0.8128128128128127,
          -0.8048048048048049,
          -0.796796796796797,
          -0.7887887887887888,
          -0.780780780780781,
          -0.7727727727727727,
          -0.7647647647647648,
          -0.7567567567567566,
          -0.7487487487487487,
          -0.7407407407407409,
          -0.7327327327327327,
          -0.7247247247247248,
          -0.7167167167167166,
          -0.7087087087087087,
          -0.7007007007007009,
          -0.6926926926926926,
          -0.6846846846846848,
          -0.6766766766766765,
          -0.6686686686686687,
          -0.6606606606606609,
          -0.6526526526526526,
          -0.6446446446446448,
          -0.6366366366366365,
          -0.6286286286286287,
          -0.6206206206206208,
          -0.6126126126126126,
          -0.6046046046046047,
          -0.5965965965965965,
          -0.5885885885885886,
          -0.5805805805805808,
          -0.5725725725725725,
          -0.5645645645645647,
          -0.5565565565565564,
          -0.5485485485485486,
          -0.5405405405405403,
          -0.5325325325325325,
          -0.5245245245245247,
          -0.5165165165165164,
          -0.5085085085085086,
          -0.5005005005005003,
          -0.4924924924924925,
          -0.48448448448448467,
          -0.4764764764764764,
          -0.46846846846846857,
          -0.4604604604604603,
          -0.45245245245245247,
          -0.44444444444444464,
          -0.43643643643643637,
          -0.42842842842842854,
          -0.42042042042042027,
          -0.41241241241241244,
          -0.4044044044044046,
          -0.39639639639639634,
          -0.3883883883883885,
          -0.38038038038038025,
          -0.3723723723723724,
          -0.3643643643643646,
          -0.3563563563563563,
          -0.3483483483483485,
          -0.3403403403403402,
          -0.3323323323323324,
          -0.32432432432432456,
          -0.3163163163163163,
          -0.30830830830830847,
          -0.3003003003003002,
          -0.29229229229229237,
          -0.28428428428428454,
          -0.27627627627627627,
          -0.26826826826826844,
          -0.26026026026026017,
          -0.25225225225225234,
          -0.24424424424424407,
          -0.23623623623623624,
          -0.2282282282282284,
          -0.22022022022022014,
          -0.21221221221221231,
          -0.20420420420420404,
          -0.19619619619619622,
          -0.1881881881881884,
          -0.18018018018018012,
          -0.1721721721721723,
          -0.16416416416416402,
          -0.1561561561561562,
          -0.14814814814814836,
          -0.1401401401401401,
          -0.13213213213213226,
          -0.12412412412412399,
          -0.11611611611611616,
          -0.10810810810810834,
          -0.10010010010010006,
          -0.09209209209209224,
          -0.08408408408408397,
          -0.07607607607607614,
          -0.06806806806806831,
          -0.06006006006006004,
          -0.05205205205205221,
          -0.04404404404404394,
          -0.03603603603603611,
          -0.02802802802802784,
          -0.020020020020020013,
          -0.012012012012012185,
          -0.004004004004003914,
          0.004004004004004358,
          0.012012012012012185,
          0.020020020020020013,
          0.02802802802802784,
          0.03603603603603567,
          0.044044044044044384,
          0.05205205205205221,
          0.06006006006006004,
          0.06806806806806787,
          0.0760760760760757,
          0.08408408408408441,
          0.09209209209209224,
          0.10010010010010006,
          0.10810810810810789,
          0.11611611611611572,
          0.12412412412412444,
          0.13213213213213226,
          0.1401401401401401,
          0.14814814814814792,
          0.15615615615615575,
          0.16416416416416446,
          0.1721721721721723,
          0.18018018018018012,
          0.18818818818818794,
          0.19619619619619577,
          0.2042042042042045,
          0.21221221221221231,
          0.22022022022022014,
          0.22822822822822797,
          0.2362362362362358,
          0.2442442442442445,
          0.25225225225225234,
          0.26026026026026017,
          0.268268268268268,
          0.2762762762762758,
          0.28428428428428454,
          0.29229229229229237,
          0.3003003003003002,
          0.308308308308308,
          0.31631631631631585,
          0.32432432432432456,
          0.3323323323323324,
          0.3403403403403402,
          0.34834834834834805,
          0.3563563563563559,
          0.3643643643643646,
          0.3723723723723724,
          0.38038038038038025,
          0.3883883883883881,
          0.3963963963963968,
          0.4044044044044046,
          0.41241241241241244,
          0.42042042042042027,
          0.4284284284284281,
          0.4364364364364368,
          0.44444444444444464,
          0.45245245245245247,
          0.4604604604604603,
          0.4684684684684681,
          0.47647647647647684,
          0.48448448448448467,
          0.4924924924924925,
          0.5005005005005003,
          0.5085085085085082,
          0.5165165165165169,
          0.5245245245245247,
          0.5325325325325325,
          0.5405405405405403,
          0.5485485485485482,
          0.5565565565565569,
          0.5645645645645647,
          0.5725725725725725,
          0.5805805805805804,
          0.5885885885885882,
          0.5965965965965969,
          0.6046046046046047,
          0.6126126126126126,
          0.6206206206206204,
          0.6286286286286282,
          0.6366366366366369,
          0.6446446446446448,
          0.6526526526526526,
          0.6606606606606604,
          0.6686686686686683,
          0.676676676676677,
          0.6846846846846848,
          0.6926926926926926,
          0.7007007007007005,
          0.7087087087087083,
          0.716716716716717,
          0.7247247247247248,
          0.7327327327327327,
          0.7407407407407405,
          0.7487487487487483,
          0.756756756756757,
          0.7647647647647648,
          0.7727727727727727,
          0.7807807807807805,
          0.7887887887887883,
          0.796796796796797,
          0.8048048048048049,
          0.8128128128128127,
          0.8208208208208205,
          0.8288288288288284,
          0.8368368368368371,
          0.8448448448448449,
          0.8528528528528527,
          0.8608608608608606,
          0.8688688688688693,
          0.8768768768768771,
          0.8848848848848849,
          0.8928928928928928,
          0.9009009009009006,
          0.9089089089089093,
          0.9169169169169171,
          0.924924924924925,
          0.9329329329329328,
          0.9409409409409406,
          0.9489489489489493,
          0.9569569569569571,
          0.964964964964965,
          0.9729729729729728,
          0.9809809809809806,
          0.9889889889889893,
          0.9969969969969972,
          1.005005005005005,
          1.0130130130130128,
          1.0210210210210207,
          1.0290290290290294,
          1.0370370370370372,
          1.045045045045045,
          1.0530530530530529,
          1.0610610610610607,
          1.0690690690690694,
          1.0770770770770772,
          1.085085085085085,
          1.0930930930930929,
          1.1011011011011007,
          1.1091091091091094,
          1.1171171171171173,
          1.125125125125125,
          1.133133133133133,
          1.1411411411411407,
          1.1491491491491495,
          1.1571571571571573,
          1.165165165165165,
          1.173173173173173,
          1.1811811811811808,
          1.1891891891891895,
          1.1971971971971973,
          1.2052052052052051,
          1.213213213213213,
          1.2212212212212208,
          1.2292292292292295,
          1.2372372372372373,
          1.2452452452452452,
          1.253253253253253,
          1.2612612612612608,
          1.2692692692692695,
          1.2772772772772774,
          1.2852852852852852,
          1.293293293293293,
          1.3013013013013008,
          1.3093093093093096,
          1.3173173173173174,
          1.3253253253253252,
          1.333333333333333,
          1.3413413413413409,
          1.3493493493493496,
          1.3573573573573574,
          1.3653653653653652,
          1.373373373373373,
          1.381381381381381,
          1.3893893893893896,
          1.3973973973973974,
          1.4054054054054053,
          1.413413413413413,
          1.4214214214214218,
          1.4294294294294296,
          1.4374374374374375,
          1.4454454454454453,
          1.4534534534534531,
          1.4614614614614618,
          1.4694694694694697,
          1.4774774774774775,
          1.4854854854854853,
          1.4934934934934931,
          1.5015015015015019,
          1.5095095095095097,
          1.5175175175175175,
          1.5255255255255253,
          1.5335335335335332,
          1.5415415415415419,
          1.5495495495495497,
          1.5575575575575575,
          1.5655655655655654,
          1.5735735735735732,
          1.581581581581582,
          1.5895895895895897,
          1.5975975975975976,
          1.6056056056056054,
          1.6136136136136132,
          1.621621621621622,
          1.6296296296296298,
          1.6376376376376376,
          1.6456456456456454,
          1.6536536536536532,
          1.661661661661662,
          1.6696696696696698,
          1.6776776776776776,
          1.6856856856856854,
          1.6936936936936933,
          1.701701701701702,
          1.7097097097097098,
          1.7177177177177176,
          1.7257257257257255,
          1.7337337337337333,
          1.741741741741742,
          1.7497497497497498,
          1.7577577577577577,
          1.7657657657657655,
          1.7737737737737733,
          1.781781781781782,
          1.7897897897897899,
          1.7977977977977977,
          1.8058058058058055,
          1.8138138138138133,
          1.821821821821822,
          1.82982982982983,
          1.8378378378378377,
          1.8458458458458455,
          1.8538538538538534,
          1.861861861861862,
          1.86986986986987,
          1.8778778778778777,
          1.8858858858858856,
          1.8938938938938943,
          1.9019019019019021,
          1.90990990990991,
          1.9179179179179178,
          1.9259259259259256,
          1.9339339339339343,
          1.9419419419419421,
          1.94994994994995,
          1.9579579579579578,
          1.9659659659659656,
          1.9739739739739743,
          1.9819819819819822,
          1.98998998998999,
          1.9979979979979978,
          2.0060060060060056,
          2.0140140140140144,
          2.022022022022022,
          2.03003003003003,
          2.038038038038038,
          2.0460460460460457,
          2.0540540540540544,
          2.062062062062062,
          2.07007007007007,
          2.078078078078078,
          2.0860860860860857,
          2.0940940940940944,
          2.1021021021021022,
          2.11011011011011,
          2.118118118118118,
          2.1261261261261257,
          2.1341341341341344,
          2.1421421421421423,
          2.15015015015015,
          2.158158158158158,
          2.1661661661661658,
          2.1741741741741745,
          2.1821821821821823,
          2.19019019019019,
          2.198198198198198,
          2.2062062062062058,
          2.2142142142142145,
          2.2222222222222223,
          2.23023023023023,
          2.238238238238238,
          2.246246246246246,
          2.2542542542542545,
          2.2622622622622623,
          2.27027027027027,
          2.278278278278278,
          2.286286286286286,
          2.2942942942942945,
          2.3023023023023024,
          2.31031031031031,
          2.318318318318318,
          2.326326326326326,
          2.3343343343343346,
          2.3423423423423424,
          2.3503503503503502,
          2.358358358358358,
          2.366366366366366,
          2.3743743743743746,
          2.3823823823823824,
          2.3903903903903903,
          2.398398398398398,
          2.406406406406406,
          2.4144144144144146,
          2.4224224224224224,
          2.4304304304304303,
          2.438438438438438,
          2.446446446446447,
          2.4544544544544546,
          2.4624624624624625,
          2.4704704704704703,
          2.478478478478478,
          2.486486486486487,
          2.4944944944944947,
          2.5025025025025025,
          2.5105105105105103,
          2.518518518518518,
          2.526526526526527,
          2.5345345345345347,
          2.5425425425425425,
          2.5505505505505504,
          2.558558558558558,
          2.566566566566567,
          2.5745745745745747,
          2.5825825825825826,
          2.5905905905905904,
          2.598598598598598,
          2.606606606606607,
          2.6146146146146148,
          2.6226226226226226,
          2.6306306306306304,
          2.6386386386386382,
          2.646646646646647,
          2.6546546546546548,
          2.6626626626626626,
          2.6706706706706704,
          2.6786786786786783,
          2.686686686686687,
          2.694694694694695,
          2.7027027027027026,
          2.7107107107107105,
          2.7187187187187183,
          2.726726726726727,
          2.734734734734735,
          2.7427427427427427,
          2.7507507507507505,
          2.7587587587587583,
          2.766766766766767,
          2.774774774774775,
          2.7827827827827827,
          2.7907907907907905,
          2.7987987987987983,
          2.806806806806807,
          2.814814814814815,
          2.8228228228228227,
          2.8308308308308305,
          2.8388388388388384,
          2.846846846846847,
          2.854854854854855,
          2.8628628628628627,
          2.8708708708708706,
          2.8788788788788784,
          2.886886886886887,
          2.894894894894895,
          2.9029029029029028,
          2.9109109109109106,
          2.9189189189189193,
          2.926926926926927,
          2.934934934934935,
          2.942942942942943,
          2.9509509509509506,
          2.9589589589589593,
          2.966966966966967,
          2.974974974974975,
          2.982982982982983,
          2.9909909909909906,
          2.9989989989989994,
          3.007007007007007,
          3.015015015015015,
          3.023023023023023,
          3.0310310310310307,
          3.0390390390390394,
          3.047047047047047,
          3.055055055055055,
          3.063063063063063,
          3.0710710710710707,
          3.0790790790790794,
          3.0870870870870872,
          3.095095095095095,
          3.103103103103103,
          3.1111111111111107,
          3.1191191191191194,
          3.1271271271271273,
          3.135135135135135,
          3.143143143143143,
          3.1511511511511507,
          3.1591591591591595,
          3.1671671671671673,
          3.175175175175175,
          3.183183183183183,
          3.1911911911911908,
          3.1991991991991995,
          3.2072072072072073,
          3.215215215215215,
          3.223223223223223,
          3.231231231231231,
          3.2392392392392395,
          3.2472472472472473,
          3.255255255255255,
          3.263263263263263,
          3.271271271271271,
          3.2792792792792795,
          3.2872872872872874,
          3.295295295295295,
          3.303303303303303,
          3.311311311311311,
          3.3193193193193196,
          3.3273273273273274,
          3.335335335335335,
          3.343343343343343,
          3.351351351351351,
          3.3593593593593596,
          3.3673673673673674,
          3.3753753753753752,
          3.383383383383383,
          3.391391391391391,
          3.3993993993993996,
          3.4074074074074074,
          3.4154154154154153,
          3.423423423423423,
          3.431431431431431,
          3.4394394394394396,
          3.4474474474474475,
          3.4554554554554553,
          3.463463463463463,
          3.471471471471472,
          3.4794794794794797,
          3.4874874874874875,
          3.4954954954954953,
          3.503503503503503,
          3.511511511511512,
          3.5195195195195197,
          3.5275275275275275,
          3.5355355355355353,
          3.543543543543543,
          3.551551551551552,
          3.5595595595595597,
          3.5675675675675675,
          3.5755755755755754,
          3.583583583583583,
          3.591591591591592,
          3.5995995995995997,
          3.6076076076076076,
          3.6156156156156154,
          3.6236236236236232,
          3.631631631631632,
          3.6396396396396398,
          3.6476476476476476,
          3.6556556556556554,
          3.6636636636636633,
          3.671671671671672,
          3.67967967967968,
          3.6876876876876876,
          3.6956956956956954,
          3.7037037037037033,
          3.711711711711712,
          3.71971971971972,
          3.7277277277277276,
          3.7357357357357355,
          3.7437437437437433,
          3.751751751751752,
          3.75975975975976,
          3.7677677677677677,
          3.7757757757757755,
          3.7837837837837833,
          3.791791791791792,
          3.7997997997998,
          3.8078078078078077,
          3.8158158158158155,
          3.8238238238238234,
          3.831831831831832,
          3.83983983983984,
          3.8478478478478477,
          3.8558558558558556,
          3.8638638638638634,
          3.871871871871872,
          3.87987987987988,
          3.8878878878878878,
          3.8958958958958956,
          3.9039039039039034,
          3.911911911911912,
          3.91991991991992,
          3.9279279279279278,
          3.9359359359359356,
          3.9439439439439443,
          3.951951951951952,
          3.95995995995996,
          3.967967967967968,
          3.9759759759759756,
          3.9839839839839843,
          3.991991991991992,
          4
         ],
         "xaxis": "x",
         "y": [
          0.00013383022576488537,
          0.00013818204641049758,
          0.0001426662280423074,
          0.0001472864815032544,
          0.00015204661133382119,
          0.0001569505178147822,
          0.00016200219904484992,
          0.00016720575305353023,
          0.00017256537994949638,
          0.00017808538410478997,
          0.00018377017637513803,
          0.00018962427635668377,
          0.00019565231467940776,
          0.00020185903533751658,
          0.00020824929805706861,
          0.00021482808070108828,
          0.00022160048171242645,
          0.0002285717225946002,
          0.00023574715043084504,
          0.0002431322404416031,
          0.00025073259858064884,
          0.0002585539641700594,
          0.00026660221257421334,
          0.00027488335791298686,
          0.00028340355581432544,
          0.00029216910620632244,
          0.00030118645614895666,
          0.00031046220270559993,
          0.0003200030958544146,
          0.0003298160414397229,
          0.0003399081041634312,
          0.00035028651061657994,
          0.00036095865235104664,
          0.0003719320889914511,
          0.0003832145513872607,
          0.00039481394480509277,
          0.00040673835216119676,
          0.0004189960372940584,
          0.0004315954482770799,
          0.00044454522077122966,
          0.0004578541814175861,
          0.00047153135126962387,
          0.00048558594926510307,
          0.0005000273957374089,
          0.0005148653159661124,
          0.000530109543766577,
          0.0005457701251183356,
          0.000561857321831991,
          0.0005783816152543496,
          0.0005953537100114529,
          0.0006127845377891921,
          0.0006306852611511046,
          0.0006490672773929725,
          0.0006679422224337957,
          0.0006873219747426652,
          0.0007072186593010809,
          0.0007276446516001658,
          0.0007486125816722453,
          0.0007701353381562253,
          0.0007922260723961207,
          0.0008148982025721397,
          0.0008381654178636028,
          0.0008620416826430067,
          0.000886541240700502,
          0.0009116786194979597,
          0.0009374686344518662,
          0.0009639263932441494,
          0.0009910673001600591,
          0.0010189070604522017,
          0.0010474616847297087,
          0.0010767474933715976,
          0.0011067811209632345,
          0.0011375795207548302,
          0.0011691599691408692,
          0.0012015400701592624,
          0.0012347377600090662,
          0.0012687713115854871,
          0.001303659339030883,
          0.0013394208023004641,
          0.0013760750117412627,
          0.001413641632683005,
          0.0014521406900393772,
          0.0014915925729181976,
          0.001532018039238954,
          0.0015734382203560601,
          0.0016158746256862426,
          0.0016593491473383148,
          0.0017038840647436216,
          0.0017495020492853824,
          0.0017962261689250466,
          0.0018440798928238502,
          0.001893087095957572,
          0.0019432720637225453,
          0.001994659496530914,
          0.0020472745143930086,
          0.0021011426614847566,
          0.0021562899106979143,
          0.0022127426681709333,
          0.00227052777779815,
          0.0023296725257150068,
          0.002390204644756889,
          0.0024521523188891833,
          0.0025155441876060537,
          0.0025804093502954525,
          0.0026467773705677444,
          0.002714678280545337,
          0.0027841425851106135,
          0.00285520126610952,
          0.002927885786507907,
          0.0030022280944979273,
          0.0030782606275515127,
          0.003156016316418044,
          0.0032355285890632805,
          0.003316831374546427,
          0.003399959106832382,
          0.003484946728535948,
          0.0035718296945948893,
          0.003660643975868637,
          0.0037514260626593196,
          0.003844212968151888,
          0.0039390422317699125,
          0.004035951922443679,
          0.004134980641787195,
          0.004236167527180521,
          0.004339552254753986,
          0.004445175042270675,
          0.004553076651903554,
          0.004663298392903681,
          0.004775882124155638,
          0.004890870256616671,
          0.00500830575563558,
          0.005128232143147633,
          0.005250693499741717,
          0.00537573446659573,
          0.00550340024727644,
          0.005633736609399753,
          0.0057667898861475,
          0.005902606977636735,
          0.006041235352137465,
          0.006182723047134838,
          0.006327118670231636,
          0.006474471399887032,
          0.006624830985987414,
          0.006778247750245298,
          0.006934772586421903,
          0.007094456960369461,
          0.007257352909888933,
          0.007423513044398933,
          0.00759299054441176,
          0.007765839160812102,
          0.007942113213934373,
          0.008121867592434317,
          0.00830515775195071,
          0.00849203971355293,
          0.008682570061970006,
          0.008876805943597117,
          0.009074805064275111,
          0.009276625686838978,
          0.009482326628430987,
          0.009691967257574223,
          0.009905607491002465,
          0.0101233077902421,
          0.01034512915794207,
          0.010571133133947601,
          0.01080138179111364,
          0.011035937730853977,
          0.0112748640784219,
          0.011518224477918514,
          0.011766083087024698,
          0.012018504571452648,
          0.012275554099113305,
          0.012537297333995622,
          0.01280380042975411,
          0.013075130023000682,
          0.013351353226297257,
          0.013632537620845358,
          0.013918751248869246,
          0.01421006260568902,
          0.014506540631480273,
          0.014808254702716824,
          0.015115274623293382,
          0.015427670615324714,
          0.015745513309618375,
          0.016068873735817838,
          0.016397823312212994,
          0.016732433835215128,
          0.017072777468493845,
          0.017418926731772685,
          0.01777095448928153,
          0.018128933937862666,
          0.018492938594728423,
          0.01886304228486824,
          0.019239319128102502,
          0.019621843525781713,
          0.020010690147128512,
          0.02040593391522103,
          0.02080764999261595,
          0.021215913766609334,
          0.02163080083413441,
          0.022052386986294355,
          0.022480748192529352,
          0.022915960584417003,
          0.023358100439104697,
          0.023807244162373967,
          0.02426346827133567,
          0.024726849376755778,
          0.02519746416501184,
          0.025675389379679607,
          0.02616070180275011,
          0.026653478235477538,
          0.027153795478858073,
          0.027661730313740664,
          0.028177359480570322,
          0.028700759658764778,
          0.02923200744572589,
          0.029771179335487005,
          0.030318351696997915,
          0.03087360075204909,
          0.031437002552836886,
          0.03200863295917234,
          0.03258856761533513,
          0.03317688192657614,
          0.033773651035270635,
          0.03437894979672511,
          0.03499285275464127,
          0.035615434116240054,
          0.03624676772704972,
          0.03688692704536149,
          0.0375359851163567,
          0.038194014545909954,
          0.03886108747407236,
          0.03953727554823995,
          0.04022264989601193,
          0.04091728109774369,
          0.04162123915880031,
          0.0423345934815158,
          0.04305741283686412,
          0.043789765335848045,
          0.044531718400611646,
          0.04528333873528367,
          0.046044692296557665,
          0.04681584426401662,
          0.04759685901020905,
          0.0483878000704834,
          0.049188730112589375,
          0.04999971090605332,
          0.05082080329133612,
          0.05165206714878234,
          0.05249356136736819,
          0.05334534381325804,
          0.05420747129817848,
          0.055079999547618594,
          0.055962983168866755,
          0.056856475618893065,
          0.05776052917208759,
          0.058675194887865115,
          0.05960052257814574,
          0.06053656077472321,
          0.06148335669653094,
          0.062440956216817015,
          0.06340940383024005,
          0.06438874261989633,
          0.06537901422429118,
          0.0663802588042656,
          0.06739251500989027,
          0.06841581994734047,
          0.06945020914576254,
          0.0704957165241465,
          0.07155237435821644,
          0.0726202132473521,
          0.07369926208155571,
          0.07478954800847619,
          0.07589109640050568,
          0.07700393082196144,
          0.07812807299636688,
          0.07926354277384733,
          0.08041035809865252,
          0.0815685349768227,
          0.08273808744401089,
          0.08391902753347769,
          0.08511136524427226,
          0.08631510850961496,
          0.08753026316549747,
          0.0887568329195139,
          0.08999481931994045,
          0.09124422172507722,
          0.09250503727286848,
          0.09377726085081765,
          0.09506088506621117,
          0.09635590021666912,
          0.09766229426103645,
          0.09898005279063206,
          0.10030915900087167,
          0.10164959366327954,
          0.10300133509790668,
          0.10436435914617026,
          0.10573863914413087,
          0.10712414589622465,
          0.10852084764946464,
          0.10992871006812961,
          0.11134769620895497,
          0.11277776649684232,
          0.11421887870110481,
          0.11567098791226238,
          0.11713404651940532,
          0.11860800418813967,
          0.12009280783913319,
          0.12158840162727487,
          0.12309472692146588,
          0.12461172228505746,
          0.12613932345694961,
          0.12767746333336905,
          0.12922607195033883,
          0.13078507646685686,
          0.13235440114879818,
          0.1339339673535549,
          0.13552369351543042,
          0.13712349513180105,
          0.13873328475005986,
          0.14035297195535862,
          0.1419824633591593,
          0.14362166258861178,
          0.14527047027676968,
          0.146928784053658,
          0.14859649853820767,
          0.1502735053310671,
          0.15195969300830636,
          0.15365494711602481,
          0.15535915016587468,
          0.15707218163151382,
          0.1587939179459973,
          0.1605242325001215,
          0.16226299564173013,
          0.1640100746759936,
          0.16576533386667283,
          0.16752863443837612,
          0.16929983457982128,
          0.1710787894481097,
          0.17286535117402363,
          0.17465936886835493,
          0.1764606886292726,
          0.1782691535507391,
          0.1800846037319805,
          0.18190687628802057,
          0.1837358053612833,
          0.1855712221342708,
          0.18741295484332424,
          0.18926082879347014,
          0.19111466637436092,
          0.19297428707731104,
          0.19483950751343473,
          0.1967101414328897,
          0.19858599974522737,
          0.20046689054085629,
          0.20235261911361763,
          0.20424298798447663,
          0.20613779692633133,
          0.20803684298993794,
          0.20993992053095598,
          0.21184682123811008,
          0.21375733416246984,
          0.21567124574784682,
          0.21758833986230475,
          0.21950839783078424,
          0.22143119846883638,
          0.22335651811746327,
          0.22528413067906253,
          0.2272138076544697,
          0.22914531818109599,
          0.23107842907215367,
          0.23301290485696582,
          0.23494850782235188,
          0.23688499805508312,
          0.2388221334854012,
          0.2407596699315897,
          0.2426973611455934,
          0.24463495885967246,
          0.24657221283408468,
          0.248508870905785,
          0.2504446790381305,
          0.25237938137158134,
          0.25431272027538454,
          0.25624443640022837,
          0.2581742687318562,
          0.2601019546456235,
          0.2620272299619873,
          0.2639498290029111,
          0.2658694846491715,
          0.26778592839855175,
          0.26969889042490386,
          0.27160809963806626,
          0.27351328374461664,
          0.2754141693094443,
          0.27731048181812457,
          0.27920194574007456,
          0.2810882845924742,
          0.2829692210049305,
          0.2848444767848667,
          0.28671377298361606,
          0.28857682996319817,
          0.29043336746375803,
          0.2922831046716453,
          0.2941257602881114,
          0.2959610525986035,
          0.2977886995426301,
          0.29960841878417693,
          0.30141992778264787,
          0.30322294386430826,
          0.30501718429420455,
          0.3068023663485363,
          0.3085782073874558,
          0.3103444249282679,
          0.31210073671900673,
          0.3138468608123607,
          0.31558251563992046,
          0.3173074200867234,
          0.31902129356606623,
          0.32072385609455945,
          0.3224148283673959,
          0.3240939318338044,
          0.3257608887726624,
          0.32741542236823695,
          0.3290572567860276,
          0.33068611724868124,
          0.33230173011194963,
          0.33390382294066223,
          0.335492124584683,
          0.3370663652548239,
          0.33862627659868366,
          0.34017159177638295,
          0.3417020455361677,
          0.34321737428984783,
          0.34471731618804485,
          0.346201611195215,
          0.3476700011644218,
          0.34912222991182473,
          0.3505580432908556,
          0.3519771892660535,
          0.3533794179865264,
          0.35476448185901127,
          0.35613213562050244,
          0.3574821364104176,
          0.3588142438422734,
          0.36012822007483947,
          0.3614238298827435,
          0.3627008407264954,
          0.36395902282190373,
          0.36519814920885496,
          0.36641799581942547,
          0.3676183415452998,
          0.36879896830446507,
          0.3699596611071541,
          0.3711002081210102,
          0.37222040073544366,
          0.3733200336251559,
          0.3743989048128014,
          0.37545681573076145,
          0.3764935712820047,
          0.3775089799000064,
          0.37850285360770186,
          0.37947500807544804,
          0.3804252626779688,
          0.3813534405502595,
          0.38225936864242505,
          0.38314287777343,
          0.38400380268373535,
          0.38484198208680004,
          0.38565725871942497,
          0.38644947939091645,
          0.3872184950310489,
          0.3879641607368045,
          0.3886863358178705,
          0.38938488384087316,
          0.39005967267232927,
          0.39071057452029684,
          0.3913374659747055,
          0.39194022804634965,
          0.3925187462045269,
          0.39307291041330494,
          0.3936026151664009,
          0.3941077595206575,
          0.39458824712810237,
          0.39504398626657344,
          0.3954748898689004,
          0.3958808755506264,
          0.3962618656362586,
          0.3966177871840368,
          0.396948572009207,
          0.3972541567057919,
          0.39753448266684616,
          0.3977894961031899,
          0.3980191480606099,
          0.39822339443552157,
          0.3984021959890857,
          0.39855551835977193,
          0.398683332074364,
          0.39878561255740275,
          0.39886234013906113,
          0.3989135000614489,
          0.3989390824833429,
          0.3989390824833429,
          0.3989135000614489,
          0.39886234013906113,
          0.39878561255740275,
          0.398683332074364,
          0.39855551835977193,
          0.3984021959890857,
          0.39822339443552157,
          0.3980191480606099,
          0.39778949610319,
          0.39753448266684616,
          0.3972541567057919,
          0.396948572009207,
          0.3966177871840368,
          0.39626186563625865,
          0.3958808755506264,
          0.3954748898689004,
          0.39504398626657344,
          0.39458824712810237,
          0.3941077595206576,
          0.3936026151664008,
          0.39307291041330494,
          0.3925187462045269,
          0.39194022804634965,
          0.3913374659747055,
          0.3907105745202968,
          0.39005967267232927,
          0.38938488384087316,
          0.38868633581787054,
          0.38796416073680456,
          0.3872184950310489,
          0.38644947939091645,
          0.38565725871942497,
          0.3848419820868001,
          0.3840038026837354,
          0.38314287777343,
          0.38225936864242505,
          0.3813534405502595,
          0.38042526267796883,
          0.3794750080754481,
          0.37850285360770186,
          0.3775089799000064,
          0.3764935712820047,
          0.37545681573076145,
          0.3743989048128014,
          0.3733200336251559,
          0.37222040073544366,
          0.3711002081210102,
          0.36995966110715417,
          0.368798968304465,
          0.3676183415452998,
          0.36641799581942547,
          0.36519814920885496,
          0.3639590228219038,
          0.36270084072649533,
          0.3614238298827435,
          0.36012822007483947,
          0.3588142438422734,
          0.35748213641041765,
          0.3561321356205024,
          0.35476448185901127,
          0.3533794179865264,
          0.3519771892660535,
          0.35055804329085566,
          0.3491222299118247,
          0.3476700011644218,
          0.346201611195215,
          0.34471731618804485,
          0.34321737428984794,
          0.3417020455361676,
          0.34017159177638295,
          0.33862627659868366,
          0.33706636525482403,
          0.33549212458468314,
          0.3339038229406621,
          0.33230173011194963,
          0.33068611724868124,
          0.3290572567860277,
          0.327415422368237,
          0.32576088877266235,
          0.3240939318338044,
          0.3224148283673959,
          0.3207238560945595,
          0.3190212935660663,
          0.31730742008672336,
          0.31558251563992046,
          0.3138468608123607,
          0.3121007367190068,
          0.31034442492826797,
          0.3085782073874557,
          0.3068023663485363,
          0.30501718429420455,
          0.3032229438643083,
          0.301419927782648,
          0.2996084187841769,
          0.2977886995426301,
          0.2959610525986035,
          0.29412576028811144,
          0.29228310467164537,
          0.29043336746375803,
          0.28857682996319817,
          0.28671377298361606,
          0.2848444767848668,
          0.2829692210049306,
          0.2810882845924742,
          0.27920194574007456,
          0.27731048181812457,
          0.2754141693094444,
          0.27351328374461653,
          0.27160809963806626,
          0.26969889042490386,
          0.26778592839855175,
          0.2658694846491716,
          0.263949829002911,
          0.2620272299619873,
          0.2601019546456235,
          0.2581742687318562,
          0.2562444364002285,
          0.25431272027538443,
          0.25237938137158134,
          0.2504446790381305,
          0.248508870905785,
          0.24657221283408476,
          0.24463495885967237,
          0.2426973611455934,
          0.2407596699315897,
          0.2388221334854012,
          0.23688499805508323,
          0.2349485078223518,
          0.23301290485696582,
          0.23107842907215367,
          0.22914531818109599,
          0.2272138076544698,
          0.22528413067906244,
          0.22335651811746327,
          0.22143119846883638,
          0.21950839783078432,
          0.21758833986230486,
          0.21567124574784674,
          0.21375733416246984,
          0.21184682123811008,
          0.20993992053095606,
          0.20803684298993802,
          0.20613779692633125,
          0.20424298798447663,
          0.20235261911361763,
          0.20046689054085637,
          0.19858599974522748,
          0.1967101414328896,
          0.19483950751343473,
          0.19297428707731104,
          0.19111466637436103,
          0.18926082879347025,
          0.18741295484332415,
          0.1855712221342708,
          0.1837358053612833,
          0.18190687628802069,
          0.18008460373198062,
          0.17826915355073902,
          0.1764606886292726,
          0.17465936886835493,
          0.1728653511740237,
          0.1710787894481098,
          0.16929983457982128,
          0.16752863443837612,
          0.16576533386667283,
          0.1640100746759937,
          0.16226299564173025,
          0.1605242325001215,
          0.1587939179459973,
          0.15707218163151382,
          0.1553591501658748,
          0.15365494711602493,
          0.15195969300830636,
          0.1502735053310671,
          0.14859649853820767,
          0.14692878405365808,
          0.14527047027676956,
          0.14362166258861178,
          0.1419824633591593,
          0.14035297195535862,
          0.13873328475005994,
          0.13712349513180097,
          0.13552369351543042,
          0.1339339673535549,
          0.13235440114879818,
          0.13078507646685694,
          0.12922607195033875,
          0.12767746333336905,
          0.12613932345694961,
          0.12461172228505746,
          0.12309472692146597,
          0.12158840162727477,
          0.12009280783913319,
          0.11860800418813967,
          0.11713404651940532,
          0.11567098791226245,
          0.11421887870110474,
          0.11277776649684232,
          0.11134769620895497,
          0.10992871006812968,
          0.10852084764946471,
          0.10712414589622457,
          0.10573863914413087,
          0.10436435914617026,
          0.10300133509790674,
          0.10164959366327961,
          0.1003091590008716,
          0.09898005279063206,
          0.09766229426103645,
          0.09635590021666918,
          0.09506088506621124,
          0.09377726085081757,
          0.09250503727286848,
          0.09124422172507722,
          0.08999481931994051,
          0.08875683291951396,
          0.0875302631654974,
          0.08631510850961496,
          0.08511136524427226,
          0.08391902753347777,
          0.08273808744401095,
          0.08156853497682262,
          0.08041035809865252,
          0.07926354277384733,
          0.07812807299636694,
          0.07700393082196148,
          0.07589109640050568,
          0.07478954800847619,
          0.07369926208155571,
          0.07262021324735216,
          0.0715523743582165,
          0.0704957165241465,
          0.06945020914576254,
          0.06841581994734047,
          0.06739251500989032,
          0.06638025880426554,
          0.06537901422429118,
          0.06438874261989633,
          0.06340940383024005,
          0.06244095621681707,
          0.061483356696530884,
          0.06053656077472321,
          0.05960052257814574,
          0.058675194887865115,
          0.05776052917208764,
          0.05685647561889302,
          0.055962983168866755,
          0.055079999547618594,
          0.05420747129817848,
          0.05334534381325808,
          0.05249356136736814,
          0.05165206714878234,
          0.05082080329133612,
          0.04999971090605332,
          0.04918873011258942,
          0.0483878000704834,
          0.04759685901020905,
          0.04681584426401662,
          0.046044692296557665,
          0.04528333873528372,
          0.044531718400611646,
          0.043789765335848045,
          0.04305741283686412,
          0.0423345934815158,
          0.04162123915880035,
          0.04091728109774369,
          0.04022264989601193,
          0.03953727554823995,
          0.03886108747407236,
          0.03819401454590999,
          0.0375359851163567,
          0.03688692704536149,
          0.03624676772704972,
          0.035615434116240054,
          0.034992852754641306,
          0.03437894979672511,
          0.033773651035270635,
          0.03317688192657614,
          0.03258856761533513,
          0.03200863295917237,
          0.031437002552836886,
          0.03087360075204909,
          0.030318351696997915,
          0.029771179335487005,
          0.029232007445725912,
          0.028700759658764778,
          0.028177359480570322,
          0.027661730313740664,
          0.027153795478858073,
          0.026653478235477566,
          0.02616070180275011,
          0.025675389379679607,
          0.02519746416501184,
          0.024726849376755778,
          0.024263468271335686,
          0.023807244162373967,
          0.023358100439104697,
          0.022915960584417003,
          0.022480748192529383,
          0.022052386986294387,
          0.02163080083413441,
          0.021215913766609334,
          0.02080764999261595,
          0.020405933915221046,
          0.020010690147128488,
          0.019621843525781713,
          0.019239319128102502,
          0.01886304228486824,
          0.01849293859472844,
          0.018128933937862638,
          0.01777095448928153,
          0.017418926731772685,
          0.017072777468493845,
          0.016732433835215152,
          0.016397823312212973,
          0.016068873735817838,
          0.015745513309618375,
          0.015427670615324714,
          0.015115274623293401,
          0.014808254702716824,
          0.014506540631480273,
          0.01421006260568902,
          0.013918751248869246,
          0.013632537620845375,
          0.013351353226297257,
          0.013075130023000682,
          0.01280380042975411,
          0.012537297333995622,
          0.012275554099113316,
          0.012018504571452648,
          0.011766083087024698,
          0.011518224477918514,
          0.0112748640784219,
          0.011035937730853991,
          0.01080138179111364,
          0.010571133133947601,
          0.01034512915794207,
          0.0101233077902421,
          0.009905607491002473,
          0.009691967257574223,
          0.009482326628430987,
          0.009276625686838978,
          0.009074805064275111,
          0.008876805943597124,
          0.008682570061970006,
          0.00849203971355293,
          0.00830515775195071,
          0.008121867592434317,
          0.007942113213934383,
          0.007765839160812102,
          0.00759299054441176,
          0.007423513044398933,
          0.007257352909888933,
          0.007094456960369473,
          0.006934772586421903,
          0.006778247750245298,
          0.006624830985987414,
          0.006474471399887032,
          0.006327118670231648,
          0.006182723047134838,
          0.006041235352137465,
          0.005902606977636735,
          0.005766789886147505,
          0.005633736609399748,
          0.00550340024727644,
          0.00537573446659573,
          0.005250693499741717,
          0.005128232143147639,
          0.005008305755635575,
          0.004890870256616671,
          0.004775882124155638,
          0.004663298392903681,
          0.004553076651903561,
          0.004445175042270671,
          0.004339552254753986,
          0.004236167527180521,
          0.004134980641787195,
          0.0040359519224436825,
          0.003939042231769909,
          0.003844212968151888,
          0.0037514260626593196,
          0.003660643975868637,
          0.0035718296945948928,
          0.0034849467285359447,
          0.003399959106832382,
          0.003316831374546427,
          0.0032355285890632805,
          0.0031560163164180495,
          0.003078260627551507,
          0.0030022280944979273,
          0.002927885786507907,
          0.00285520126610952,
          0.0027841425851106187,
          0.0027146782805453347,
          0.0026467773705677444,
          0.0025804093502954525,
          0.0025155441876060537,
          0.002452152318889185,
          0.002390204644756889,
          0.0023296725257150068,
          0.00227052777779815,
          0.0022127426681709333,
          0.002156289910697916,
          0.0021011426614847566,
          0.0020472745143930086,
          0.001994659496530914,
          0.0019432720637225453,
          0.0018930870959575738,
          0.0018440798928238502,
          0.0017962261689250466,
          0.0017495020492853824,
          0.0017038840647436247,
          0.001659349147338316,
          0.0016158746256862426,
          0.0015734382203560601,
          0.001532018039238954,
          0.001491592572918199,
          0.0014521406900393783,
          0.001413641632683005,
          0.0013760750117412627,
          0.0013394208023004641,
          0.0013036593390308852,
          0.0012687713115854893,
          0.0012347377600090662,
          0.0012015400701592624,
          0.0011691599691408692,
          0.0011375795207548324,
          0.0011067811209632364,
          0.0010767474933715976,
          0.0010474616847297087,
          0.0010189070604522017,
          0.0009910673001600609,
          0.0009639263932441477,
          0.0009374686344518662,
          0.0009116786194979597,
          0.000886541240700502,
          0.0008620416826430083,
          0.0008381654178636013,
          0.0008148982025721397,
          0.0007922260723961207,
          0.0007701353381562253,
          0.0007486125816722466,
          0.0007276446516001645,
          0.0007072186593010809,
          0.0006873219747426652,
          0.0006679422224337957,
          0.0006490672773929736,
          0.0006306852611511035,
          0.0006127845377891921,
          0.0005953537100114529,
          0.0005783816152543496,
          0.000561857321831992,
          0.0005457701251183346,
          0.000530109543766577,
          0.0005148653159661124,
          0.0005000273957374089,
          0.0004855859492651039,
          0.000471531351269623,
          0.0004578541814175861,
          0.00044454522077122966,
          0.0004315954482770799,
          0.00041899603729405916,
          0.0004067383521611961,
          0.00039481394480509277,
          0.0003832145513872607,
          0.00037193208899145174,
          0.0003609586523510473,
          0.00035028651061657935,
          0.0003399081041634312,
          0.0003298160414397229,
          0.00032000309585441524,
          0.00031046220270560047,
          0.0003011864561489561,
          0.00029216910620632244,
          0.00028340355581432544,
          0.0002748833579129874,
          0.0002666022125742138,
          0.0002585539641700594,
          0.00025073259858064884,
          0.0002431322404416031,
          0.00023574715043084548,
          0.0002285717225946006,
          0.00022160048171242645,
          0.00021482808070108828,
          0.00020824929805706861,
          0.00020185903533751694,
          0.00019565231467940812,
          0.00018962427635668377,
          0.00018377017637513803,
          0.00017808538410478997,
          0.00017256537994949668,
          0.00016720575305352993,
          0.00016200219904484992,
          0.0001569505178147822,
          0.00015204661133382119,
          0.00014728648150325464,
          0.00014266622804230713,
          0.00013818204641049758,
          0.00013383022576488537
         ],
         "yaxis": "y"
        }
       ],
       "layout": {
        "barmode": "relative",
        "legend": {
         "tracegroupgap": 0
        },
        "template": {
         "data": {
          "bar": [
           {
            "error_x": {
             "color": "#2a3f5f"
            },
            "error_y": {
             "color": "#2a3f5f"
            },
            "marker": {
             "line": {
              "color": "#E5ECF6",
              "width": 0.5
             },
             "pattern": {
              "fillmode": "overlay",
              "size": 10,
              "solidity": 0.2
             }
            },
            "type": "bar"
           }
          ],
          "barpolar": [
           {
            "marker": {
             "line": {
              "color": "#E5ECF6",
              "width": 0.5
             },
             "pattern": {
              "fillmode": "overlay",
              "size": 10,
              "solidity": 0.2
             }
            },
            "type": "barpolar"
           }
          ],
          "carpet": [
           {
            "aaxis": {
             "endlinecolor": "#2a3f5f",
             "gridcolor": "white",
             "linecolor": "white",
             "minorgridcolor": "white",
             "startlinecolor": "#2a3f5f"
            },
            "baxis": {
             "endlinecolor": "#2a3f5f",
             "gridcolor": "white",
             "linecolor": "white",
             "minorgridcolor": "white",
             "startlinecolor": "#2a3f5f"
            },
            "type": "carpet"
           }
          ],
          "choropleth": [
           {
            "colorbar": {
             "outlinewidth": 0,
             "ticks": ""
            },
            "type": "choropleth"
           }
          ],
          "contour": [
           {
            "colorbar": {
             "outlinewidth": 0,
             "ticks": ""
            },
            "colorscale": [
             [
              0,
              "#0d0887"
             ],
             [
              0.1111111111111111,
              "#46039f"
             ],
             [
              0.2222222222222222,
              "#7201a8"
             ],
             [
              0.3333333333333333,
              "#9c179e"
             ],
             [
              0.4444444444444444,
              "#bd3786"
             ],
             [
              0.5555555555555556,
              "#d8576b"
             ],
             [
              0.6666666666666666,
              "#ed7953"
             ],
             [
              0.7777777777777778,
              "#fb9f3a"
             ],
             [
              0.8888888888888888,
              "#fdca26"
             ],
             [
              1,
              "#f0f921"
             ]
            ],
            "type": "contour"
           }
          ],
          "contourcarpet": [
           {
            "colorbar": {
             "outlinewidth": 0,
             "ticks": ""
            },
            "type": "contourcarpet"
           }
          ],
          "heatmap": [
           {
            "colorbar": {
             "outlinewidth": 0,
             "ticks": ""
            },
            "colorscale": [
             [
              0,
              "#0d0887"
             ],
             [
              0.1111111111111111,
              "#46039f"
             ],
             [
              0.2222222222222222,
              "#7201a8"
             ],
             [
              0.3333333333333333,
              "#9c179e"
             ],
             [
              0.4444444444444444,
              "#bd3786"
             ],
             [
              0.5555555555555556,
              "#d8576b"
             ],
             [
              0.6666666666666666,
              "#ed7953"
             ],
             [
              0.7777777777777778,
              "#fb9f3a"
             ],
             [
              0.8888888888888888,
              "#fdca26"
             ],
             [
              1,
              "#f0f921"
             ]
            ],
            "type": "heatmap"
           }
          ],
          "heatmapgl": [
           {
            "colorbar": {
             "outlinewidth": 0,
             "ticks": ""
            },
            "colorscale": [
             [
              0,
              "#0d0887"
             ],
             [
              0.1111111111111111,
              "#46039f"
             ],
             [
              0.2222222222222222,
              "#7201a8"
             ],
             [
              0.3333333333333333,
              "#9c179e"
             ],
             [
              0.4444444444444444,
              "#bd3786"
             ],
             [
              0.5555555555555556,
              "#d8576b"
             ],
             [
              0.6666666666666666,
              "#ed7953"
             ],
             [
              0.7777777777777778,
              "#fb9f3a"
             ],
             [
              0.8888888888888888,
              "#fdca26"
             ],
             [
              1,
              "#f0f921"
             ]
            ],
            "type": "heatmapgl"
           }
          ],
          "histogram": [
           {
            "marker": {
             "pattern": {
              "fillmode": "overlay",
              "size": 10,
              "solidity": 0.2
             }
            },
            "type": "histogram"
           }
          ],
          "histogram2d": [
           {
            "colorbar": {
             "outlinewidth": 0,
             "ticks": ""
            },
            "colorscale": [
             [
              0,
              "#0d0887"
             ],
             [
              0.1111111111111111,
              "#46039f"
             ],
             [
              0.2222222222222222,
              "#7201a8"
             ],
             [
              0.3333333333333333,
              "#9c179e"
             ],
             [
              0.4444444444444444,
              "#bd3786"
             ],
             [
              0.5555555555555556,
              "#d8576b"
             ],
             [
              0.6666666666666666,
              "#ed7953"
             ],
             [
              0.7777777777777778,
              "#fb9f3a"
             ],
             [
              0.8888888888888888,
              "#fdca26"
             ],
             [
              1,
              "#f0f921"
             ]
            ],
            "type": "histogram2d"
           }
          ],
          "histogram2dcontour": [
           {
            "colorbar": {
             "outlinewidth": 0,
             "ticks": ""
            },
            "colorscale": [
             [
              0,
              "#0d0887"
             ],
             [
              0.1111111111111111,
              "#46039f"
             ],
             [
              0.2222222222222222,
              "#7201a8"
             ],
             [
              0.3333333333333333,
              "#9c179e"
             ],
             [
              0.4444444444444444,
              "#bd3786"
             ],
             [
              0.5555555555555556,
              "#d8576b"
             ],
             [
              0.6666666666666666,
              "#ed7953"
             ],
             [
              0.7777777777777778,
              "#fb9f3a"
             ],
             [
              0.8888888888888888,
              "#fdca26"
             ],
             [
              1,
              "#f0f921"
             ]
            ],
            "type": "histogram2dcontour"
           }
          ],
          "mesh3d": [
           {
            "colorbar": {
             "outlinewidth": 0,
             "ticks": ""
            },
            "type": "mesh3d"
           }
          ],
          "parcoords": [
           {
            "line": {
             "colorbar": {
              "outlinewidth": 0,
              "ticks": ""
             }
            },
            "type": "parcoords"
           }
          ],
          "pie": [
           {
            "automargin": true,
            "type": "pie"
           }
          ],
          "scatter": [
           {
            "fillpattern": {
             "fillmode": "overlay",
             "size": 10,
             "solidity": 0.2
            },
            "type": "scatter"
           }
          ],
          "scatter3d": [
           {
            "line": {
             "colorbar": {
              "outlinewidth": 0,
              "ticks": ""
             }
            },
            "marker": {
             "colorbar": {
              "outlinewidth": 0,
              "ticks": ""
             }
            },
            "type": "scatter3d"
           }
          ],
          "scattercarpet": [
           {
            "marker": {
             "colorbar": {
              "outlinewidth": 0,
              "ticks": ""
             }
            },
            "type": "scattercarpet"
           }
          ],
          "scattergeo": [
           {
            "marker": {
             "colorbar": {
              "outlinewidth": 0,
              "ticks": ""
             }
            },
            "type": "scattergeo"
           }
          ],
          "scattergl": [
           {
            "marker": {
             "colorbar": {
              "outlinewidth": 0,
              "ticks": ""
             }
            },
            "type": "scattergl"
           }
          ],
          "scattermapbox": [
           {
            "marker": {
             "colorbar": {
              "outlinewidth": 0,
              "ticks": ""
             }
            },
            "type": "scattermapbox"
           }
          ],
          "scatterpolar": [
           {
            "marker": {
             "colorbar": {
              "outlinewidth": 0,
              "ticks": ""
             }
            },
            "type": "scatterpolar"
           }
          ],
          "scatterpolargl": [
           {
            "marker": {
             "colorbar": {
              "outlinewidth": 0,
              "ticks": ""
             }
            },
            "type": "scatterpolargl"
           }
          ],
          "scatterternary": [
           {
            "marker": {
             "colorbar": {
              "outlinewidth": 0,
              "ticks": ""
             }
            },
            "type": "scatterternary"
           }
          ],
          "surface": [
           {
            "colorbar": {
             "outlinewidth": 0,
             "ticks": ""
            },
            "colorscale": [
             [
              0,
              "#0d0887"
             ],
             [
              0.1111111111111111,
              "#46039f"
             ],
             [
              0.2222222222222222,
              "#7201a8"
             ],
             [
              0.3333333333333333,
              "#9c179e"
             ],
             [
              0.4444444444444444,
              "#bd3786"
             ],
             [
              0.5555555555555556,
              "#d8576b"
             ],
             [
              0.6666666666666666,
              "#ed7953"
             ],
             [
              0.7777777777777778,
              "#fb9f3a"
             ],
             [
              0.8888888888888888,
              "#fdca26"
             ],
             [
              1,
              "#f0f921"
             ]
            ],
            "type": "surface"
           }
          ],
          "table": [
           {
            "cells": {
             "fill": {
              "color": "#EBF0F8"
             },
             "line": {
              "color": "white"
             }
            },
            "header": {
             "fill": {
              "color": "#C8D4E3"
             },
             "line": {
              "color": "white"
             }
            },
            "type": "table"
           }
          ]
         },
         "layout": {
          "annotationdefaults": {
           "arrowcolor": "#2a3f5f",
           "arrowhead": 0,
           "arrowwidth": 1
          },
          "autotypenumbers": "strict",
          "coloraxis": {
           "colorbar": {
            "outlinewidth": 0,
            "ticks": ""
           }
          },
          "colorscale": {
           "diverging": [
            [
             0,
             "#8e0152"
            ],
            [
             0.1,
             "#c51b7d"
            ],
            [
             0.2,
             "#de77ae"
            ],
            [
             0.3,
             "#f1b6da"
            ],
            [
             0.4,
             "#fde0ef"
            ],
            [
             0.5,
             "#f7f7f7"
            ],
            [
             0.6,
             "#e6f5d0"
            ],
            [
             0.7,
             "#b8e186"
            ],
            [
             0.8,
             "#7fbc41"
            ],
            [
             0.9,
             "#4d9221"
            ],
            [
             1,
             "#276419"
            ]
           ],
           "sequential": [
            [
             0,
             "#0d0887"
            ],
            [
             0.1111111111111111,
             "#46039f"
            ],
            [
             0.2222222222222222,
             "#7201a8"
            ],
            [
             0.3333333333333333,
             "#9c179e"
            ],
            [
             0.4444444444444444,
             "#bd3786"
            ],
            [
             0.5555555555555556,
             "#d8576b"
            ],
            [
             0.6666666666666666,
             "#ed7953"
            ],
            [
             0.7777777777777778,
             "#fb9f3a"
            ],
            [
             0.8888888888888888,
             "#fdca26"
            ],
            [
             1,
             "#f0f921"
            ]
           ],
           "sequentialminus": [
            [
             0,
             "#0d0887"
            ],
            [
             0.1111111111111111,
             "#46039f"
            ],
            [
             0.2222222222222222,
             "#7201a8"
            ],
            [
             0.3333333333333333,
             "#9c179e"
            ],
            [
             0.4444444444444444,
             "#bd3786"
            ],
            [
             0.5555555555555556,
             "#d8576b"
            ],
            [
             0.6666666666666666,
             "#ed7953"
            ],
            [
             0.7777777777777778,
             "#fb9f3a"
            ],
            [
             0.8888888888888888,
             "#fdca26"
            ],
            [
             1,
             "#f0f921"
            ]
           ]
          },
          "colorway": [
           "#636efa",
           "#EF553B",
           "#00cc96",
           "#ab63fa",
           "#FFA15A",
           "#19d3f3",
           "#FF6692",
           "#B6E880",
           "#FF97FF",
           "#FECB52"
          ],
          "font": {
           "color": "#2a3f5f"
          },
          "geo": {
           "bgcolor": "white",
           "lakecolor": "white",
           "landcolor": "#E5ECF6",
           "showlakes": true,
           "showland": true,
           "subunitcolor": "white"
          },
          "hoverlabel": {
           "align": "left"
          },
          "hovermode": "closest",
          "mapbox": {
           "style": "light"
          },
          "paper_bgcolor": "white",
          "plot_bgcolor": "#E5ECF6",
          "polar": {
           "angularaxis": {
            "gridcolor": "white",
            "linecolor": "white",
            "ticks": ""
           },
           "bgcolor": "#E5ECF6",
           "radialaxis": {
            "gridcolor": "white",
            "linecolor": "white",
            "ticks": ""
           }
          },
          "scene": {
           "xaxis": {
            "backgroundcolor": "#E5ECF6",
            "gridcolor": "white",
            "gridwidth": 2,
            "linecolor": "white",
            "showbackground": true,
            "ticks": "",
            "zerolinecolor": "white"
           },
           "yaxis": {
            "backgroundcolor": "#E5ECF6",
            "gridcolor": "white",
            "gridwidth": 2,
            "linecolor": "white",
            "showbackground": true,
            "ticks": "",
            "zerolinecolor": "white"
           },
           "zaxis": {
            "backgroundcolor": "#E5ECF6",
            "gridcolor": "white",
            "gridwidth": 2,
            "linecolor": "white",
            "showbackground": true,
            "ticks": "",
            "zerolinecolor": "white"
           }
          },
          "shapedefaults": {
           "line": {
            "color": "#2a3f5f"
           }
          },
          "ternary": {
           "aaxis": {
            "gridcolor": "white",
            "linecolor": "white",
            "ticks": ""
           },
           "baxis": {
            "gridcolor": "white",
            "linecolor": "white",
            "ticks": ""
           },
           "bgcolor": "#E5ECF6",
           "caxis": {
            "gridcolor": "white",
            "linecolor": "white",
            "ticks": ""
           }
          },
          "title": {
           "x": 0.05
          },
          "xaxis": {
           "automargin": true,
           "gridcolor": "white",
           "linecolor": "white",
           "ticks": "",
           "title": {
            "standoff": 15
           },
           "zerolinecolor": "white",
           "zerolinewidth": 2
          },
          "yaxis": {
           "automargin": true,
           "gridcolor": "white",
           "linecolor": "white",
           "ticks": "",
           "title": {
            "standoff": 15
           },
           "zerolinecolor": "white",
           "zerolinewidth": 2
          }
         }
        },
        "title": {
         "text": "Normal Distribution"
        },
        "xaxis": {
         "anchor": "y",
         "domain": [
          0,
          1
         ],
         "title": {
          "text": "Value"
         }
        },
        "xaxis2": {
         "anchor": "y2",
         "domain": [
          0,
          1
         ],
         "matches": "x",
         "showgrid": true,
         "showticklabels": false
        },
        "yaxis": {
         "anchor": "x",
         "domain": [
          0,
          0.8316
         ],
         "title": {
          "text": "density"
         }
        },
        "yaxis2": {
         "anchor": "x2",
         "domain": [
          0.8416,
          1
         ],
         "matches": "y2",
         "showgrid": false,
         "showline": false,
         "showticklabels": false,
         "ticks": ""
        }
       }
      }
     },
     "metadata": {},
     "output_type": "display_data"
    }
   ],
   "source": [
    "mean = 0\n",
    "std_dev = 1\n",
    "num_samples = 1000\n",
    "data = np.random.normal(mean, std_dev, num_samples)\n",
    "\n",
    "# Create a DataFrame\n",
    "df = pd.DataFrame(data, columns=['Value'])\n",
    "\n",
    "# Create a histogram with plotly\n",
    "fig = px.histogram(df, x='Value', nbins=30, title='Normal Distribution',\n",
    "                   labels={'Value': 'Value'},\n",
    "                   marginal='rug', # Adds a rug plot\n",
    "                   histnorm='density') # Normalizes the histogram\n",
    "\n",
    "# Add the theoretical normal distribution curve\n",
    "x = np.linspace(mean - 4*std_dev, mean + 4*std_dev, 1000)\n",
    "y = (1 / (std_dev * np.sqrt(2 * np.math.pi))) * np.exp(-0.5 * ((x - mean) / std_dev)**2)\n",
    "df_curve = pd.DataFrame({'x': x, 'y': y})\n",
    "\n",
    "fig.add_traces(px.line(df_curve, x='x', y='y').data)\n",
    "\n",
    "# Show the plot\n",
    "fig.show()"
   ]
  },
  {
   "cell_type": "code",
   "execution_count": 38,
   "metadata": {},
   "outputs": [
    {
     "ename": "AttributeError",
     "evalue": "'numpy.ndarray' object has no attribute 'groupby'",
     "output_type": "error",
     "traceback": [
      "\u001b[0;31m---------------------------------------------------------------------------\u001b[0m",
      "\u001b[0;31mAttributeError\u001b[0m                            Traceback (most recent call last)",
      "\u001b[0;32m/var/folders/vb/hfzj34dx0zv92bq7vy7zjhyw0000gn/T/ipykernel_91047/426681463.py\u001b[0m in \u001b[0;36m<module>\u001b[0;34m\u001b[0m\n\u001b[0;32m----> 1\u001b[0;31m \u001b[0mgrouped\u001b[0m \u001b[0;34m=\u001b[0m \u001b[0mdata\u001b[0m\u001b[0;34m.\u001b[0m\u001b[0mgroupby\u001b[0m\u001b[0;34m(\u001b[0m\u001b[0;34m[\u001b[0m\u001b[0;34m'Customer'\u001b[0m\u001b[0;34m,\u001b[0m \u001b[0;34m'KPI Source'\u001b[0m\u001b[0;34m]\u001b[0m\u001b[0;34m)\u001b[0m\u001b[0;34m\u001b[0m\u001b[0;34m\u001b[0m\u001b[0m\n\u001b[0m\u001b[1;32m      2\u001b[0m \u001b[0;34m\u001b[0m\u001b[0m\n\u001b[1;32m      3\u001b[0m \u001b[0;32mdef\u001b[0m \u001b[0mcalculate_stats\u001b[0m\u001b[0;34m(\u001b[0m\u001b[0mgroup\u001b[0m\u001b[0;34m)\u001b[0m\u001b[0;34m:\u001b[0m\u001b[0;34m\u001b[0m\u001b[0;34m\u001b[0m\u001b[0m\n\u001b[1;32m      4\u001b[0m     return pd.Series({\n\u001b[1;32m      5\u001b[0m         \u001b[0;34m'mean'\u001b[0m\u001b[0;34m:\u001b[0m \u001b[0mgroup\u001b[0m\u001b[0;34m[\u001b[0m\u001b[0;34m'Score'\u001b[0m\u001b[0;34m]\u001b[0m\u001b[0;34m.\u001b[0m\u001b[0mmean\u001b[0m\u001b[0;34m(\u001b[0m\u001b[0;34m)\u001b[0m\u001b[0;34m,\u001b[0m\u001b[0;34m\u001b[0m\u001b[0;34m\u001b[0m\u001b[0m\n",
      "\u001b[0;31mAttributeError\u001b[0m: 'numpy.ndarray' object has no attribute 'groupby'"
     ]
    }
   ],
   "source": [
    "grouped = data.groupby(['Customer', 'KPI Source'])\n",
    "\n",
    "def calculate_stats(group):\n",
    "    return pd.Series({\n",
    "        'mean': group['Score'].mean(),\n",
    "        'median': group['Score'].median(),\n",
    "        'mode': group['Score'].mode().iloc[0] if not group['Score'].mode().empty else np.nan,\n",
    "        'quartile_1': group['Score'].quantile(0.25),\n",
    "        'quartile_2': group['Score'].quantile(0.5),\n",
    "        'quartile_3': group['Score'].quantile(0.75),\n",
    "        'min': group['Score'].min(),\n",
    "        'max': group['Score'].max()\n",
    "    })\n",
    "\n",
    "result = grouped.apply(calculate_stats).reset_index()\n",
    "\n",
    "result = grouped.apply(calculate_stats).reset_index()"
   ]
  },
  {
   "cell_type": "code",
   "execution_count": null,
   "metadata": {},
   "outputs": [
    {
     "data": {
      "text/html": [
       "<div>\n",
       "<style scoped>\n",
       "    .dataframe tbody tr th:only-of-type {\n",
       "        vertical-align: middle;\n",
       "    }\n",
       "\n",
       "    .dataframe tbody tr th {\n",
       "        vertical-align: top;\n",
       "    }\n",
       "\n",
       "    .dataframe thead th {\n",
       "        text-align: right;\n",
       "    }\n",
       "</style>\n",
       "<table border=\"1\" class=\"dataframe\">\n",
       "  <thead>\n",
       "    <tr style=\"text-align: right;\">\n",
       "      <th></th>\n",
       "      <th>Customer</th>\n",
       "      <th>KPI Source</th>\n",
       "      <th>mean</th>\n",
       "      <th>median</th>\n",
       "      <th>mode</th>\n",
       "      <th>quartile_1</th>\n",
       "      <th>quartile_2</th>\n",
       "      <th>quartile_3</th>\n",
       "      <th>min</th>\n",
       "      <th>max</th>\n",
       "    </tr>\n",
       "  </thead>\n",
       "  <tbody>\n",
       "    <tr>\n",
       "      <th>0</th>\n",
       "      <td>Converge TP</td>\n",
       "      <td>Access Point Availability</td>\n",
       "      <td>15.000000</td>\n",
       "      <td>20.000000</td>\n",
       "      <td>20.000000</td>\n",
       "      <td>15.000000</td>\n",
       "      <td>20.000000</td>\n",
       "      <td>20.000000</td>\n",
       "      <td>0.000000</td>\n",
       "      <td>20.0</td>\n",
       "    </tr>\n",
       "    <tr>\n",
       "      <th>1</th>\n",
       "      <td>Converge TP</td>\n",
       "      <td>Active Detections Crowdstrike</td>\n",
       "      <td>100.000000</td>\n",
       "      <td>100.000000</td>\n",
       "      <td>100.000000</td>\n",
       "      <td>100.000000</td>\n",
       "      <td>100.000000</td>\n",
       "      <td>100.000000</td>\n",
       "      <td>100.000000</td>\n",
       "      <td>100.0</td>\n",
       "    </tr>\n",
       "    <tr>\n",
       "      <th>2</th>\n",
       "      <td>Converge TP</td>\n",
       "      <td>Active Directory Risk Score</td>\n",
       "      <td>76.271186</td>\n",
       "      <td>100.000000</td>\n",
       "      <td>100.000000</td>\n",
       "      <td>100.000000</td>\n",
       "      <td>100.000000</td>\n",
       "      <td>100.000000</td>\n",
       "      <td>0.000000</td>\n",
       "      <td>100.0</td>\n",
       "    </tr>\n",
       "    <tr>\n",
       "      <th>3</th>\n",
       "      <td>Converge TP</td>\n",
       "      <td>Active Incidents Sentinel</td>\n",
       "      <td>87.121212</td>\n",
       "      <td>100.000000</td>\n",
       "      <td>100.000000</td>\n",
       "      <td>100.000000</td>\n",
       "      <td>100.000000</td>\n",
       "      <td>100.000000</td>\n",
       "      <td>0.000000</td>\n",
       "      <td>100.0</td>\n",
       "    </tr>\n",
       "    <tr>\n",
       "      <th>4</th>\n",
       "      <td>Converge TP</td>\n",
       "      <td>Applications Service Management</td>\n",
       "      <td>97.060606</td>\n",
       "      <td>99.333333</td>\n",
       "      <td>100.000000</td>\n",
       "      <td>93.333333</td>\n",
       "      <td>99.333333</td>\n",
       "      <td>100.000000</td>\n",
       "      <td>73.333333</td>\n",
       "      <td>100.0</td>\n",
       "    </tr>\n",
       "    <tr>\n",
       "      <th>...</th>\n",
       "      <td>...</td>\n",
       "      <td>...</td>\n",
       "      <td>...</td>\n",
       "      <td>...</td>\n",
       "      <td>...</td>\n",
       "      <td>...</td>\n",
       "      <td>...</td>\n",
       "      <td>...</td>\n",
       "      <td>...</td>\n",
       "      <td>...</td>\n",
       "    </tr>\n",
       "    <tr>\n",
       "      <th>191</th>\n",
       "      <td>UG2</td>\n",
       "      <td>Servers OP Performance</td>\n",
       "      <td>10.655738</td>\n",
       "      <td>11.111111</td>\n",
       "      <td>11.111111</td>\n",
       "      <td>11.111111</td>\n",
       "      <td>11.111111</td>\n",
       "      <td>11.111111</td>\n",
       "      <td>0.000000</td>\n",
       "      <td>75.0</td>\n",
       "    </tr>\n",
       "    <tr>\n",
       "      <th>192</th>\n",
       "      <td>UG2</td>\n",
       "      <td>Service Desk numbers</td>\n",
       "      <td>69.756155</td>\n",
       "      <td>75.000000</td>\n",
       "      <td>76.250000</td>\n",
       "      <td>58.854167</td>\n",
       "      <td>75.000000</td>\n",
       "      <td>80.156250</td>\n",
       "      <td>33.333333</td>\n",
       "      <td>100.0</td>\n",
       "    </tr>\n",
       "    <tr>\n",
       "      <th>193</th>\n",
       "      <td>UG2</td>\n",
       "      <td>Survey's score</td>\n",
       "      <td>5.202703</td>\n",
       "      <td>0.000000</td>\n",
       "      <td>0.000000</td>\n",
       "      <td>0.000000</td>\n",
       "      <td>0.000000</td>\n",
       "      <td>0.000000</td>\n",
       "      <td>0.000000</td>\n",
       "      <td>100.0</td>\n",
       "    </tr>\n",
       "    <tr>\n",
       "      <th>194</th>\n",
       "      <td>UG2</td>\n",
       "      <td>Ticket Age</td>\n",
       "      <td>76.922348</td>\n",
       "      <td>75.000000</td>\n",
       "      <td>75.000000</td>\n",
       "      <td>75.000000</td>\n",
       "      <td>75.000000</td>\n",
       "      <td>80.000000</td>\n",
       "      <td>65.000000</td>\n",
       "      <td>85.0</td>\n",
       "    </tr>\n",
       "    <tr>\n",
       "      <th>195</th>\n",
       "      <td>UG2</td>\n",
       "      <td>Ticket Churn</td>\n",
       "      <td>79.545455</td>\n",
       "      <td>80.000000</td>\n",
       "      <td>80.000000</td>\n",
       "      <td>80.000000</td>\n",
       "      <td>80.000000</td>\n",
       "      <td>100.000000</td>\n",
       "      <td>0.000000</td>\n",
       "      <td>100.0</td>\n",
       "    </tr>\n",
       "  </tbody>\n",
       "</table>\n",
       "<p>196 rows × 10 columns</p>\n",
       "</div>"
      ],
      "text/plain": [
       "        Customer                       KPI Source        mean      median  \\\n",
       "0    Converge TP        Access Point Availability   15.000000   20.000000   \n",
       "1    Converge TP    Active Detections Crowdstrike  100.000000  100.000000   \n",
       "2    Converge TP      Active Directory Risk Score   76.271186  100.000000   \n",
       "3    Converge TP        Active Incidents Sentinel   87.121212  100.000000   \n",
       "4    Converge TP  Applications Service Management   97.060606   99.333333   \n",
       "..           ...                              ...         ...         ...   \n",
       "191          UG2           Servers OP Performance   10.655738   11.111111   \n",
       "192          UG2             Service Desk numbers   69.756155   75.000000   \n",
       "193          UG2                   Survey's score    5.202703    0.000000   \n",
       "194          UG2                       Ticket Age   76.922348   75.000000   \n",
       "195          UG2                     Ticket Churn   79.545455   80.000000   \n",
       "\n",
       "           mode  quartile_1  quartile_2  quartile_3         min    max  \n",
       "0     20.000000   15.000000   20.000000   20.000000    0.000000   20.0  \n",
       "1    100.000000  100.000000  100.000000  100.000000  100.000000  100.0  \n",
       "2    100.000000  100.000000  100.000000  100.000000    0.000000  100.0  \n",
       "3    100.000000  100.000000  100.000000  100.000000    0.000000  100.0  \n",
       "4    100.000000   93.333333   99.333333  100.000000   73.333333  100.0  \n",
       "..          ...         ...         ...         ...         ...    ...  \n",
       "191   11.111111   11.111111   11.111111   11.111111    0.000000   75.0  \n",
       "192   76.250000   58.854167   75.000000   80.156250   33.333333  100.0  \n",
       "193    0.000000    0.000000    0.000000    0.000000    0.000000  100.0  \n",
       "194   75.000000   75.000000   75.000000   80.000000   65.000000   85.0  \n",
       "195   80.000000   80.000000   80.000000  100.000000    0.000000  100.0  \n",
       "\n",
       "[196 rows x 10 columns]"
      ]
     },
     "execution_count": 11,
     "metadata": {},
     "output_type": "execute_result"
    }
   ],
   "source": [
    "result"
   ]
  },
  {
   "cell_type": "code",
   "execution_count": null,
   "metadata": {},
   "outputs": [],
   "source": [
    "sampled_df = result.groupby(['Customer']).apply(lambda x: x.sample(n=3, replace=True)).reset_index(drop=True)"
   ]
  },
  {
   "cell_type": "code",
   "execution_count": null,
   "metadata": {},
   "outputs": [
    {
     "data": {
      "text/html": [
       "<div>\n",
       "<style scoped>\n",
       "    .dataframe tbody tr th:only-of-type {\n",
       "        vertical-align: middle;\n",
       "    }\n",
       "\n",
       "    .dataframe tbody tr th {\n",
       "        vertical-align: top;\n",
       "    }\n",
       "\n",
       "    .dataframe thead th {\n",
       "        text-align: right;\n",
       "    }\n",
       "</style>\n",
       "<table border=\"1\" class=\"dataframe\">\n",
       "  <thead>\n",
       "    <tr style=\"text-align: right;\">\n",
       "      <th></th>\n",
       "      <th>Customer</th>\n",
       "      <th>KPI Source</th>\n",
       "      <th>mean</th>\n",
       "      <th>median</th>\n",
       "      <th>mode</th>\n",
       "      <th>quartile_1</th>\n",
       "      <th>quartile_2</th>\n",
       "      <th>quartile_3</th>\n",
       "      <th>min</th>\n",
       "      <th>max</th>\n",
       "    </tr>\n",
       "  </thead>\n",
       "  <tbody>\n",
       "    <tr>\n",
       "      <th>0</th>\n",
       "      <td>Converge TP</td>\n",
       "      <td>Servers OP Availability</td>\n",
       "      <td>10.491803</td>\n",
       "      <td>11.111111</td>\n",
       "      <td>11.111111</td>\n",
       "      <td>11.111111</td>\n",
       "      <td>11.111111</td>\n",
       "      <td>11.111111</td>\n",
       "      <td>0.00</td>\n",
       "      <td>70.00</td>\n",
       "    </tr>\n",
       "    <tr>\n",
       "      <th>1</th>\n",
       "      <td>Converge TP</td>\n",
       "      <td>Response Time +60m</td>\n",
       "      <td>7.288374</td>\n",
       "      <td>0.000000</td>\n",
       "      <td>0.000000</td>\n",
       "      <td>0.000000</td>\n",
       "      <td>0.000000</td>\n",
       "      <td>0.000000</td>\n",
       "      <td>0.00</td>\n",
       "      <td>100.00</td>\n",
       "    </tr>\n",
       "    <tr>\n",
       "      <th>2</th>\n",
       "      <td>Converge TP</td>\n",
       "      <td>Azure Security Events</td>\n",
       "      <td>88.139205</td>\n",
       "      <td>87.500000</td>\n",
       "      <td>87.500000</td>\n",
       "      <td>87.500000</td>\n",
       "      <td>87.500000</td>\n",
       "      <td>87.500000</td>\n",
       "      <td>87.50</td>\n",
       "      <td>93.75</td>\n",
       "    </tr>\n",
       "    <tr>\n",
       "      <th>3</th>\n",
       "      <td>Lummus Technology Inc</td>\n",
       "      <td>Weighted P3 Tickets for Accounting Business Pr...</td>\n",
       "      <td>100.000000</td>\n",
       "      <td>100.000000</td>\n",
       "      <td>100.000000</td>\n",
       "      <td>100.000000</td>\n",
       "      <td>100.000000</td>\n",
       "      <td>100.000000</td>\n",
       "      <td>100.00</td>\n",
       "      <td>100.00</td>\n",
       "    </tr>\n",
       "    <tr>\n",
       "      <th>4</th>\n",
       "      <td>Lummus Technology Inc</td>\n",
       "      <td>Utilization Switch</td>\n",
       "      <td>84.201705</td>\n",
       "      <td>83.250000</td>\n",
       "      <td>83.250000</td>\n",
       "      <td>83.250000</td>\n",
       "      <td>83.250000</td>\n",
       "      <td>83.250000</td>\n",
       "      <td>83.25</td>\n",
       "      <td>100.00</td>\n",
       "    </tr>\n",
       "    <tr>\n",
       "      <th>5</th>\n",
       "      <td>Lummus Technology Inc</td>\n",
       "      <td>Managed Answered Surveys Percentage Weekly</td>\n",
       "      <td>14.910934</td>\n",
       "      <td>9.090909</td>\n",
       "      <td>0.000000</td>\n",
       "      <td>0.000000</td>\n",
       "      <td>9.090909</td>\n",
       "      <td>30.397727</td>\n",
       "      <td>0.00</td>\n",
       "      <td>100.00</td>\n",
       "    </tr>\n",
       "    <tr>\n",
       "      <th>6</th>\n",
       "      <td>UG2</td>\n",
       "      <td>Applications Service Management</td>\n",
       "      <td>97.507576</td>\n",
       "      <td>100.000000</td>\n",
       "      <td>100.000000</td>\n",
       "      <td>93.333333</td>\n",
       "      <td>100.000000</td>\n",
       "      <td>100.000000</td>\n",
       "      <td>88.00</td>\n",
       "      <td>100.00</td>\n",
       "    </tr>\n",
       "    <tr>\n",
       "      <th>7</th>\n",
       "      <td>UG2</td>\n",
       "      <td>Abandonment Rate Daily</td>\n",
       "      <td>93.181818</td>\n",
       "      <td>100.000000</td>\n",
       "      <td>100.000000</td>\n",
       "      <td>100.000000</td>\n",
       "      <td>100.000000</td>\n",
       "      <td>100.000000</td>\n",
       "      <td>0.00</td>\n",
       "      <td>100.00</td>\n",
       "    </tr>\n",
       "    <tr>\n",
       "      <th>8</th>\n",
       "      <td>UG2</td>\n",
       "      <td>Answering Speed Time Daily</td>\n",
       "      <td>82.045455</td>\n",
       "      <td>100.000000</td>\n",
       "      <td>100.000000</td>\n",
       "      <td>100.000000</td>\n",
       "      <td>100.000000</td>\n",
       "      <td>100.000000</td>\n",
       "      <td>0.00</td>\n",
       "      <td>100.00</td>\n",
       "    </tr>\n",
       "  </tbody>\n",
       "</table>\n",
       "</div>"
      ],
      "text/plain": [
       "                Customer                                         KPI Source  \\\n",
       "0            Converge TP                            Servers OP Availability   \n",
       "1            Converge TP                                 Response Time +60m   \n",
       "2            Converge TP                              Azure Security Events   \n",
       "3  Lummus Technology Inc  Weighted P3 Tickets for Accounting Business Pr...   \n",
       "4  Lummus Technology Inc                                 Utilization Switch   \n",
       "5  Lummus Technology Inc         Managed Answered Surveys Percentage Weekly   \n",
       "6                    UG2                    Applications Service Management   \n",
       "7                    UG2                             Abandonment Rate Daily   \n",
       "8                    UG2                         Answering Speed Time Daily   \n",
       "\n",
       "         mean      median        mode  quartile_1  quartile_2  quartile_3  \\\n",
       "0   10.491803   11.111111   11.111111   11.111111   11.111111   11.111111   \n",
       "1    7.288374    0.000000    0.000000    0.000000    0.000000    0.000000   \n",
       "2   88.139205   87.500000   87.500000   87.500000   87.500000   87.500000   \n",
       "3  100.000000  100.000000  100.000000  100.000000  100.000000  100.000000   \n",
       "4   84.201705   83.250000   83.250000   83.250000   83.250000   83.250000   \n",
       "5   14.910934    9.090909    0.000000    0.000000    9.090909   30.397727   \n",
       "6   97.507576  100.000000  100.000000   93.333333  100.000000  100.000000   \n",
       "7   93.181818  100.000000  100.000000  100.000000  100.000000  100.000000   \n",
       "8   82.045455  100.000000  100.000000  100.000000  100.000000  100.000000   \n",
       "\n",
       "      min     max  \n",
       "0    0.00   70.00  \n",
       "1    0.00  100.00  \n",
       "2   87.50   93.75  \n",
       "3  100.00  100.00  \n",
       "4   83.25  100.00  \n",
       "5    0.00  100.00  \n",
       "6   88.00  100.00  \n",
       "7    0.00  100.00  \n",
       "8    0.00  100.00  "
      ]
     },
     "execution_count": 29,
     "metadata": {},
     "output_type": "execute_result"
    }
   ],
   "source": [
    "sampled_df"
   ]
  },
  {
   "cell_type": "code",
   "execution_count": null,
   "metadata": {},
   "outputs": [
    {
     "data": {
      "application/vnd.plotly.v1+json": {
       "config": {
        "plotlyServerURL": "https://plot.ly"
       },
       "data": [
        {
         "alignmentgroup": "True",
         "hovertemplate": "KPI Source=Detection Quality Weekly<br>Customer=%{x}<br>mean=%{y}<extra></extra>",
         "legendgroup": "Detection Quality Weekly",
         "marker": {
          "color": "#636efa",
          "pattern": {
           "shape": ""
          }
         },
         "name": "Detection Quality Weekly",
         "offsetgroup": "Detection Quality Weekly",
         "orientation": "v",
         "showlegend": true,
         "textposition": "auto",
         "type": "bar",
         "x": [
          "Converge TP"
         ],
         "xaxis": "x",
         "y": [
          94.0909090909091
         ],
         "yaxis": "y"
        },
        {
         "alignmentgroup": "True",
         "hovertemplate": "KPI Source=Satisfied and Dissatisfied Surveys<br>Customer=%{x}<br>mean=%{y}<extra></extra>",
         "legendgroup": "Satisfied and Dissatisfied Surveys",
         "marker": {
          "color": "#EF553B",
          "pattern": {
           "shape": ""
          }
         },
         "name": "Satisfied and Dissatisfied Surveys",
         "offsetgroup": "Satisfied and Dissatisfied Surveys",
         "orientation": "v",
         "showlegend": true,
         "textposition": "auto",
         "type": "bar",
         "x": [
          "Converge TP"
         ],
         "xaxis": "x",
         "y": [
          96.13636363636364
         ],
         "yaxis": "y"
        },
        {
         "alignmentgroup": "True",
         "hovertemplate": "KPI Source=CrowdScore<br>Customer=%{x}<br>mean=%{y}<extra></extra>",
         "legendgroup": "CrowdScore",
         "marker": {
          "color": "#00cc96",
          "pattern": {
           "shape": ""
          }
         },
         "name": "CrowdScore",
         "offsetgroup": "CrowdScore",
         "orientation": "v",
         "showlegend": true,
         "textposition": "auto",
         "type": "bar",
         "x": [
          "Converge TP"
         ],
         "xaxis": "x",
         "y": [
          87.68939393939394
         ],
         "yaxis": "y"
        },
        {
         "alignmentgroup": "True",
         "hovertemplate": "KPI Source=Weighted P4 Tickets for Sales Business Process <br>Customer=%{x}<br>mean=%{y}<extra></extra>",
         "legendgroup": "Weighted P4 Tickets for Sales Business Process ",
         "marker": {
          "color": "#ab63fa",
          "pattern": {
           "shape": ""
          }
         },
         "name": "Weighted P4 Tickets for Sales Business Process ",
         "offsetgroup": "Weighted P4 Tickets for Sales Business Process ",
         "orientation": "v",
         "showlegend": true,
         "textposition": "auto",
         "type": "bar",
         "x": [
          "Lummus Technology Inc"
         ],
         "xaxis": "x",
         "y": [
          100
         ],
         "yaxis": "y"
        },
        {
         "alignmentgroup": "True",
         "hovertemplate": "KPI Source=Utilization Router<br>Customer=%{x}<br>mean=%{y}<extra></extra>",
         "legendgroup": "Utilization Router",
         "marker": {
          "color": "#FFA15A",
          "pattern": {
           "shape": ""
          }
         },
         "name": "Utilization Router",
         "offsetgroup": "Utilization Router",
         "orientation": "v",
         "showlegend": true,
         "textposition": "auto",
         "type": "bar",
         "x": [
          "Lummus Technology Inc"
         ],
         "xaxis": "x",
         "y": [
          76.42045454545455
         ],
         "yaxis": "y"
        },
        {
         "alignmentgroup": "True",
         "hovertemplate": "KPI Source=Weighted P1 Tickets for Quality Management Business Process<br>Customer=%{x}<br>mean=%{y}<extra></extra>",
         "legendgroup": "Weighted P1 Tickets for Quality Management Business Process",
         "marker": {
          "color": "#19d3f3",
          "pattern": {
           "shape": ""
          }
         },
         "name": "Weighted P1 Tickets for Quality Management Business Process",
         "offsetgroup": "Weighted P1 Tickets for Quality Management Business Process",
         "orientation": "v",
         "showlegend": true,
         "textposition": "auto",
         "type": "bar",
         "x": [
          "Lummus Technology Inc"
         ],
         "xaxis": "x",
         "y": [
          100
         ],
         "yaxis": "y"
        },
        {
         "alignmentgroup": "True",
         "hovertemplate": "KPI Source=Azure Advisor Security Score<br>Customer=%{x}<br>mean=%{y}<extra></extra>",
         "legendgroup": "Azure Advisor Security Score",
         "marker": {
          "color": "#FF6692",
          "pattern": {
           "shape": ""
          }
         },
         "name": "Azure Advisor Security Score",
         "offsetgroup": "Azure Advisor Security Score",
         "orientation": "v",
         "showlegend": true,
         "textposition": "auto",
         "type": "bar",
         "x": [
          "UG2"
         ],
         "xaxis": "x",
         "y": [
          39.97777777777778
         ],
         "yaxis": "y"
        },
        {
         "alignmentgroup": "True",
         "hovertemplate": "KPI Source=Handle Time<br>Customer=%{x}<br>mean=%{y}<extra></extra>",
         "legendgroup": "Handle Time",
         "marker": {
          "color": "#B6E880",
          "pattern": {
           "shape": ""
          }
         },
         "name": "Handle Time",
         "offsetgroup": "Handle Time",
         "orientation": "v",
         "showlegend": true,
         "textposition": "auto",
         "type": "bar",
         "x": [
          "UG2"
         ],
         "xaxis": "x",
         "y": [
          86.68831168831169
         ],
         "yaxis": "y"
        },
        {
         "alignmentgroup": "True",
         "hovertemplate": "KPI Source=Infrastructure availability<br>Customer=%{x}<br>mean=%{y}<extra></extra>",
         "legendgroup": "Infrastructure availability",
         "marker": {
          "color": "#FF97FF",
          "pattern": {
           "shape": ""
          }
         },
         "name": "Infrastructure availability",
         "offsetgroup": "Infrastructure availability",
         "orientation": "v",
         "showlegend": true,
         "textposition": "auto",
         "type": "bar",
         "x": [
          "UG2"
         ],
         "xaxis": "x",
         "y": [
          79.09090909090911
         ],
         "yaxis": "y"
        }
       ],
       "layout": {
        "barmode": "group",
        "legend": {
         "title": {
          "text": "KPI Source"
         },
         "tracegroupgap": 0
        },
        "template": {
         "data": {
          "bar": [
           {
            "error_x": {
             "color": "#2a3f5f"
            },
            "error_y": {
             "color": "#2a3f5f"
            },
            "marker": {
             "line": {
              "color": "#E5ECF6",
              "width": 0.5
             },
             "pattern": {
              "fillmode": "overlay",
              "size": 10,
              "solidity": 0.2
             }
            },
            "type": "bar"
           }
          ],
          "barpolar": [
           {
            "marker": {
             "line": {
              "color": "#E5ECF6",
              "width": 0.5
             },
             "pattern": {
              "fillmode": "overlay",
              "size": 10,
              "solidity": 0.2
             }
            },
            "type": "barpolar"
           }
          ],
          "carpet": [
           {
            "aaxis": {
             "endlinecolor": "#2a3f5f",
             "gridcolor": "white",
             "linecolor": "white",
             "minorgridcolor": "white",
             "startlinecolor": "#2a3f5f"
            },
            "baxis": {
             "endlinecolor": "#2a3f5f",
             "gridcolor": "white",
             "linecolor": "white",
             "minorgridcolor": "white",
             "startlinecolor": "#2a3f5f"
            },
            "type": "carpet"
           }
          ],
          "choropleth": [
           {
            "colorbar": {
             "outlinewidth": 0,
             "ticks": ""
            },
            "type": "choropleth"
           }
          ],
          "contour": [
           {
            "colorbar": {
             "outlinewidth": 0,
             "ticks": ""
            },
            "colorscale": [
             [
              0,
              "#0d0887"
             ],
             [
              0.1111111111111111,
              "#46039f"
             ],
             [
              0.2222222222222222,
              "#7201a8"
             ],
             [
              0.3333333333333333,
              "#9c179e"
             ],
             [
              0.4444444444444444,
              "#bd3786"
             ],
             [
              0.5555555555555556,
              "#d8576b"
             ],
             [
              0.6666666666666666,
              "#ed7953"
             ],
             [
              0.7777777777777778,
              "#fb9f3a"
             ],
             [
              0.8888888888888888,
              "#fdca26"
             ],
             [
              1,
              "#f0f921"
             ]
            ],
            "type": "contour"
           }
          ],
          "contourcarpet": [
           {
            "colorbar": {
             "outlinewidth": 0,
             "ticks": ""
            },
            "type": "contourcarpet"
           }
          ],
          "heatmap": [
           {
            "colorbar": {
             "outlinewidth": 0,
             "ticks": ""
            },
            "colorscale": [
             [
              0,
              "#0d0887"
             ],
             [
              0.1111111111111111,
              "#46039f"
             ],
             [
              0.2222222222222222,
              "#7201a8"
             ],
             [
              0.3333333333333333,
              "#9c179e"
             ],
             [
              0.4444444444444444,
              "#bd3786"
             ],
             [
              0.5555555555555556,
              "#d8576b"
             ],
             [
              0.6666666666666666,
              "#ed7953"
             ],
             [
              0.7777777777777778,
              "#fb9f3a"
             ],
             [
              0.8888888888888888,
              "#fdca26"
             ],
             [
              1,
              "#f0f921"
             ]
            ],
            "type": "heatmap"
           }
          ],
          "heatmapgl": [
           {
            "colorbar": {
             "outlinewidth": 0,
             "ticks": ""
            },
            "colorscale": [
             [
              0,
              "#0d0887"
             ],
             [
              0.1111111111111111,
              "#46039f"
             ],
             [
              0.2222222222222222,
              "#7201a8"
             ],
             [
              0.3333333333333333,
              "#9c179e"
             ],
             [
              0.4444444444444444,
              "#bd3786"
             ],
             [
              0.5555555555555556,
              "#d8576b"
             ],
             [
              0.6666666666666666,
              "#ed7953"
             ],
             [
              0.7777777777777778,
              "#fb9f3a"
             ],
             [
              0.8888888888888888,
              "#fdca26"
             ],
             [
              1,
              "#f0f921"
             ]
            ],
            "type": "heatmapgl"
           }
          ],
          "histogram": [
           {
            "marker": {
             "pattern": {
              "fillmode": "overlay",
              "size": 10,
              "solidity": 0.2
             }
            },
            "type": "histogram"
           }
          ],
          "histogram2d": [
           {
            "colorbar": {
             "outlinewidth": 0,
             "ticks": ""
            },
            "colorscale": [
             [
              0,
              "#0d0887"
             ],
             [
              0.1111111111111111,
              "#46039f"
             ],
             [
              0.2222222222222222,
              "#7201a8"
             ],
             [
              0.3333333333333333,
              "#9c179e"
             ],
             [
              0.4444444444444444,
              "#bd3786"
             ],
             [
              0.5555555555555556,
              "#d8576b"
             ],
             [
              0.6666666666666666,
              "#ed7953"
             ],
             [
              0.7777777777777778,
              "#fb9f3a"
             ],
             [
              0.8888888888888888,
              "#fdca26"
             ],
             [
              1,
              "#f0f921"
             ]
            ],
            "type": "histogram2d"
           }
          ],
          "histogram2dcontour": [
           {
            "colorbar": {
             "outlinewidth": 0,
             "ticks": ""
            },
            "colorscale": [
             [
              0,
              "#0d0887"
             ],
             [
              0.1111111111111111,
              "#46039f"
             ],
             [
              0.2222222222222222,
              "#7201a8"
             ],
             [
              0.3333333333333333,
              "#9c179e"
             ],
             [
              0.4444444444444444,
              "#bd3786"
             ],
             [
              0.5555555555555556,
              "#d8576b"
             ],
             [
              0.6666666666666666,
              "#ed7953"
             ],
             [
              0.7777777777777778,
              "#fb9f3a"
             ],
             [
              0.8888888888888888,
              "#fdca26"
             ],
             [
              1,
              "#f0f921"
             ]
            ],
            "type": "histogram2dcontour"
           }
          ],
          "mesh3d": [
           {
            "colorbar": {
             "outlinewidth": 0,
             "ticks": ""
            },
            "type": "mesh3d"
           }
          ],
          "parcoords": [
           {
            "line": {
             "colorbar": {
              "outlinewidth": 0,
              "ticks": ""
             }
            },
            "type": "parcoords"
           }
          ],
          "pie": [
           {
            "automargin": true,
            "type": "pie"
           }
          ],
          "scatter": [
           {
            "fillpattern": {
             "fillmode": "overlay",
             "size": 10,
             "solidity": 0.2
            },
            "type": "scatter"
           }
          ],
          "scatter3d": [
           {
            "line": {
             "colorbar": {
              "outlinewidth": 0,
              "ticks": ""
             }
            },
            "marker": {
             "colorbar": {
              "outlinewidth": 0,
              "ticks": ""
             }
            },
            "type": "scatter3d"
           }
          ],
          "scattercarpet": [
           {
            "marker": {
             "colorbar": {
              "outlinewidth": 0,
              "ticks": ""
             }
            },
            "type": "scattercarpet"
           }
          ],
          "scattergeo": [
           {
            "marker": {
             "colorbar": {
              "outlinewidth": 0,
              "ticks": ""
             }
            },
            "type": "scattergeo"
           }
          ],
          "scattergl": [
           {
            "marker": {
             "colorbar": {
              "outlinewidth": 0,
              "ticks": ""
             }
            },
            "type": "scattergl"
           }
          ],
          "scattermapbox": [
           {
            "marker": {
             "colorbar": {
              "outlinewidth": 0,
              "ticks": ""
             }
            },
            "type": "scattermapbox"
           }
          ],
          "scatterpolar": [
           {
            "marker": {
             "colorbar": {
              "outlinewidth": 0,
              "ticks": ""
             }
            },
            "type": "scatterpolar"
           }
          ],
          "scatterpolargl": [
           {
            "marker": {
             "colorbar": {
              "outlinewidth": 0,
              "ticks": ""
             }
            },
            "type": "scatterpolargl"
           }
          ],
          "scatterternary": [
           {
            "marker": {
             "colorbar": {
              "outlinewidth": 0,
              "ticks": ""
             }
            },
            "type": "scatterternary"
           }
          ],
          "surface": [
           {
            "colorbar": {
             "outlinewidth": 0,
             "ticks": ""
            },
            "colorscale": [
             [
              0,
              "#0d0887"
             ],
             [
              0.1111111111111111,
              "#46039f"
             ],
             [
              0.2222222222222222,
              "#7201a8"
             ],
             [
              0.3333333333333333,
              "#9c179e"
             ],
             [
              0.4444444444444444,
              "#bd3786"
             ],
             [
              0.5555555555555556,
              "#d8576b"
             ],
             [
              0.6666666666666666,
              "#ed7953"
             ],
             [
              0.7777777777777778,
              "#fb9f3a"
             ],
             [
              0.8888888888888888,
              "#fdca26"
             ],
             [
              1,
              "#f0f921"
             ]
            ],
            "type": "surface"
           }
          ],
          "table": [
           {
            "cells": {
             "fill": {
              "color": "#EBF0F8"
             },
             "line": {
              "color": "white"
             }
            },
            "header": {
             "fill": {
              "color": "#C8D4E3"
             },
             "line": {
              "color": "white"
             }
            },
            "type": "table"
           }
          ]
         },
         "layout": {
          "annotationdefaults": {
           "arrowcolor": "#2a3f5f",
           "arrowhead": 0,
           "arrowwidth": 1
          },
          "autotypenumbers": "strict",
          "coloraxis": {
           "colorbar": {
            "outlinewidth": 0,
            "ticks": ""
           }
          },
          "colorscale": {
           "diverging": [
            [
             0,
             "#8e0152"
            ],
            [
             0.1,
             "#c51b7d"
            ],
            [
             0.2,
             "#de77ae"
            ],
            [
             0.3,
             "#f1b6da"
            ],
            [
             0.4,
             "#fde0ef"
            ],
            [
             0.5,
             "#f7f7f7"
            ],
            [
             0.6,
             "#e6f5d0"
            ],
            [
             0.7,
             "#b8e186"
            ],
            [
             0.8,
             "#7fbc41"
            ],
            [
             0.9,
             "#4d9221"
            ],
            [
             1,
             "#276419"
            ]
           ],
           "sequential": [
            [
             0,
             "#0d0887"
            ],
            [
             0.1111111111111111,
             "#46039f"
            ],
            [
             0.2222222222222222,
             "#7201a8"
            ],
            [
             0.3333333333333333,
             "#9c179e"
            ],
            [
             0.4444444444444444,
             "#bd3786"
            ],
            [
             0.5555555555555556,
             "#d8576b"
            ],
            [
             0.6666666666666666,
             "#ed7953"
            ],
            [
             0.7777777777777778,
             "#fb9f3a"
            ],
            [
             0.8888888888888888,
             "#fdca26"
            ],
            [
             1,
             "#f0f921"
            ]
           ],
           "sequentialminus": [
            [
             0,
             "#0d0887"
            ],
            [
             0.1111111111111111,
             "#46039f"
            ],
            [
             0.2222222222222222,
             "#7201a8"
            ],
            [
             0.3333333333333333,
             "#9c179e"
            ],
            [
             0.4444444444444444,
             "#bd3786"
            ],
            [
             0.5555555555555556,
             "#d8576b"
            ],
            [
             0.6666666666666666,
             "#ed7953"
            ],
            [
             0.7777777777777778,
             "#fb9f3a"
            ],
            [
             0.8888888888888888,
             "#fdca26"
            ],
            [
             1,
             "#f0f921"
            ]
           ]
          },
          "colorway": [
           "#636efa",
           "#EF553B",
           "#00cc96",
           "#ab63fa",
           "#FFA15A",
           "#19d3f3",
           "#FF6692",
           "#B6E880",
           "#FF97FF",
           "#FECB52"
          ],
          "font": {
           "color": "#2a3f5f"
          },
          "geo": {
           "bgcolor": "white",
           "lakecolor": "white",
           "landcolor": "#E5ECF6",
           "showlakes": true,
           "showland": true,
           "subunitcolor": "white"
          },
          "hoverlabel": {
           "align": "left"
          },
          "hovermode": "closest",
          "mapbox": {
           "style": "light"
          },
          "paper_bgcolor": "white",
          "plot_bgcolor": "#E5ECF6",
          "polar": {
           "angularaxis": {
            "gridcolor": "white",
            "linecolor": "white",
            "ticks": ""
           },
           "bgcolor": "#E5ECF6",
           "radialaxis": {
            "gridcolor": "white",
            "linecolor": "white",
            "ticks": ""
           }
          },
          "scene": {
           "xaxis": {
            "backgroundcolor": "#E5ECF6",
            "gridcolor": "white",
            "gridwidth": 2,
            "linecolor": "white",
            "showbackground": true,
            "ticks": "",
            "zerolinecolor": "white"
           },
           "yaxis": {
            "backgroundcolor": "#E5ECF6",
            "gridcolor": "white",
            "gridwidth": 2,
            "linecolor": "white",
            "showbackground": true,
            "ticks": "",
            "zerolinecolor": "white"
           },
           "zaxis": {
            "backgroundcolor": "#E5ECF6",
            "gridcolor": "white",
            "gridwidth": 2,
            "linecolor": "white",
            "showbackground": true,
            "ticks": "",
            "zerolinecolor": "white"
           }
          },
          "shapedefaults": {
           "line": {
            "color": "#2a3f5f"
           }
          },
          "ternary": {
           "aaxis": {
            "gridcolor": "white",
            "linecolor": "white",
            "ticks": ""
           },
           "baxis": {
            "gridcolor": "white",
            "linecolor": "white",
            "ticks": ""
           },
           "bgcolor": "#E5ECF6",
           "caxis": {
            "gridcolor": "white",
            "linecolor": "white",
            "ticks": ""
           }
          },
          "title": {
           "x": 0.05
          },
          "xaxis": {
           "automargin": true,
           "gridcolor": "white",
           "linecolor": "white",
           "ticks": "",
           "title": {
            "standoff": 15
           },
           "zerolinecolor": "white",
           "zerolinewidth": 2
          },
          "yaxis": {
           "automargin": true,
           "gridcolor": "white",
           "linecolor": "white",
           "ticks": "",
           "title": {
            "standoff": 15
           },
           "zerolinecolor": "white",
           "zerolinewidth": 2
          }
         }
        },
        "title": {
         "text": "Mean Score by Customer and KPI Source"
        },
        "xaxis": {
         "anchor": "y",
         "domain": [
          0,
          1
         ],
         "title": {
          "text": "Customer"
         }
        },
        "yaxis": {
         "anchor": "x",
         "domain": [
          0,
          1
         ],
         "title": {
          "text": "mean"
         }
        }
       }
      }
     },
     "metadata": {},
     "output_type": "display_data"
    }
   ],
   "source": [
    "fig_mean = px.bar(sampled_df, x='Customer', y='mean', color='KPI Source', barmode='group',\n",
    "                  title='Mean Score by Customer and KPI Source')\n",
    "fig_mean.show()"
   ]
  },
  {
   "cell_type": "code",
   "execution_count": null,
   "metadata": {},
   "outputs": [
    {
     "data": {
      "application/vnd.plotly.v1+json": {
       "config": {
        "plotlyServerURL": "https://plot.ly"
       },
       "data": [
        {
         "alignmentgroup": "True",
         "hovertemplate": "KPI Source=Detection Quality Weekly<br>Customer=%{x}<br>median=%{y}<extra></extra>",
         "legendgroup": "Detection Quality Weekly",
         "marker": {
          "color": "#636efa",
          "pattern": {
           "shape": ""
          }
         },
         "name": "Detection Quality Weekly",
         "offsetgroup": "Detection Quality Weekly",
         "orientation": "v",
         "showlegend": true,
         "textposition": "auto",
         "type": "bar",
         "x": [
          "Converge TP"
         ],
         "xaxis": "x",
         "y": [
          100
         ],
         "yaxis": "y"
        },
        {
         "alignmentgroup": "True",
         "hovertemplate": "KPI Source=Satisfied and Dissatisfied Surveys<br>Customer=%{x}<br>median=%{y}<extra></extra>",
         "legendgroup": "Satisfied and Dissatisfied Surveys",
         "marker": {
          "color": "#EF553B",
          "pattern": {
           "shape": ""
          }
         },
         "name": "Satisfied and Dissatisfied Surveys",
         "offsetgroup": "Satisfied and Dissatisfied Surveys",
         "orientation": "v",
         "showlegend": true,
         "textposition": "auto",
         "type": "bar",
         "x": [
          "Converge TP"
         ],
         "xaxis": "x",
         "y": [
          100
         ],
         "yaxis": "y"
        },
        {
         "alignmentgroup": "True",
         "hovertemplate": "KPI Source=CrowdScore<br>Customer=%{x}<br>median=%{y}<extra></extra>",
         "legendgroup": "CrowdScore",
         "marker": {
          "color": "#00cc96",
          "pattern": {
           "shape": ""
          }
         },
         "name": "CrowdScore",
         "offsetgroup": "CrowdScore",
         "orientation": "v",
         "showlegend": true,
         "textposition": "auto",
         "type": "bar",
         "x": [
          "Converge TP"
         ],
         "xaxis": "x",
         "y": [
          100
         ],
         "yaxis": "y"
        },
        {
         "alignmentgroup": "True",
         "hovertemplate": "KPI Source=Weighted P4 Tickets for Sales Business Process <br>Customer=%{x}<br>median=%{y}<extra></extra>",
         "legendgroup": "Weighted P4 Tickets for Sales Business Process ",
         "marker": {
          "color": "#ab63fa",
          "pattern": {
           "shape": ""
          }
         },
         "name": "Weighted P4 Tickets for Sales Business Process ",
         "offsetgroup": "Weighted P4 Tickets for Sales Business Process ",
         "orientation": "v",
         "showlegend": true,
         "textposition": "auto",
         "type": "bar",
         "x": [
          "Lummus Technology Inc"
         ],
         "xaxis": "x",
         "y": [
          100
         ],
         "yaxis": "y"
        },
        {
         "alignmentgroup": "True",
         "hovertemplate": "KPI Source=Utilization Router<br>Customer=%{x}<br>median=%{y}<extra></extra>",
         "legendgroup": "Utilization Router",
         "marker": {
          "color": "#FFA15A",
          "pattern": {
           "shape": ""
          }
         },
         "name": "Utilization Router",
         "offsetgroup": "Utilization Router",
         "orientation": "v",
         "showlegend": true,
         "textposition": "auto",
         "type": "bar",
         "x": [
          "Lummus Technology Inc"
         ],
         "xaxis": "x",
         "y": [
          75
         ],
         "yaxis": "y"
        },
        {
         "alignmentgroup": "True",
         "hovertemplate": "KPI Source=Weighted P1 Tickets for Quality Management Business Process<br>Customer=%{x}<br>median=%{y}<extra></extra>",
         "legendgroup": "Weighted P1 Tickets for Quality Management Business Process",
         "marker": {
          "color": "#19d3f3",
          "pattern": {
           "shape": ""
          }
         },
         "name": "Weighted P1 Tickets for Quality Management Business Process",
         "offsetgroup": "Weighted P1 Tickets for Quality Management Business Process",
         "orientation": "v",
         "showlegend": true,
         "textposition": "auto",
         "type": "bar",
         "x": [
          "Lummus Technology Inc"
         ],
         "xaxis": "x",
         "y": [
          100
         ],
         "yaxis": "y"
        },
        {
         "alignmentgroup": "True",
         "hovertemplate": "KPI Source=Azure Advisor Security Score<br>Customer=%{x}<br>median=%{y}<extra></extra>",
         "legendgroup": "Azure Advisor Security Score",
         "marker": {
          "color": "#FF6692",
          "pattern": {
           "shape": ""
          }
         },
         "name": "Azure Advisor Security Score",
         "offsetgroup": "Azure Advisor Security Score",
         "orientation": "v",
         "showlegend": true,
         "textposition": "auto",
         "type": "bar",
         "x": [
          "UG2"
         ],
         "xaxis": "x",
         "y": [
          44.44444444444444
         ],
         "yaxis": "y"
        },
        {
         "alignmentgroup": "True",
         "hovertemplate": "KPI Source=Handle Time<br>Customer=%{x}<br>median=%{y}<extra></extra>",
         "legendgroup": "Handle Time",
         "marker": {
          "color": "#B6E880",
          "pattern": {
           "shape": ""
          }
         },
         "name": "Handle Time",
         "offsetgroup": "Handle Time",
         "orientation": "v",
         "showlegend": true,
         "textposition": "auto",
         "type": "bar",
         "x": [
          "UG2"
         ],
         "xaxis": "x",
         "y": [
          100
         ],
         "yaxis": "y"
        },
        {
         "alignmentgroup": "True",
         "hovertemplate": "KPI Source=Infrastructure availability<br>Customer=%{x}<br>median=%{y}<extra></extra>",
         "legendgroup": "Infrastructure availability",
         "marker": {
          "color": "#FF97FF",
          "pattern": {
           "shape": ""
          }
         },
         "name": "Infrastructure availability",
         "offsetgroup": "Infrastructure availability",
         "orientation": "v",
         "showlegend": true,
         "textposition": "auto",
         "type": "bar",
         "x": [
          "UG2"
         ],
         "xaxis": "x",
         "y": [
          73.33333333333333
         ],
         "yaxis": "y"
        }
       ],
       "layout": {
        "barmode": "group",
        "legend": {
         "title": {
          "text": "KPI Source"
         },
         "tracegroupgap": 0
        },
        "template": {
         "data": {
          "bar": [
           {
            "error_x": {
             "color": "#2a3f5f"
            },
            "error_y": {
             "color": "#2a3f5f"
            },
            "marker": {
             "line": {
              "color": "#E5ECF6",
              "width": 0.5
             },
             "pattern": {
              "fillmode": "overlay",
              "size": 10,
              "solidity": 0.2
             }
            },
            "type": "bar"
           }
          ],
          "barpolar": [
           {
            "marker": {
             "line": {
              "color": "#E5ECF6",
              "width": 0.5
             },
             "pattern": {
              "fillmode": "overlay",
              "size": 10,
              "solidity": 0.2
             }
            },
            "type": "barpolar"
           }
          ],
          "carpet": [
           {
            "aaxis": {
             "endlinecolor": "#2a3f5f",
             "gridcolor": "white",
             "linecolor": "white",
             "minorgridcolor": "white",
             "startlinecolor": "#2a3f5f"
            },
            "baxis": {
             "endlinecolor": "#2a3f5f",
             "gridcolor": "white",
             "linecolor": "white",
             "minorgridcolor": "white",
             "startlinecolor": "#2a3f5f"
            },
            "type": "carpet"
           }
          ],
          "choropleth": [
           {
            "colorbar": {
             "outlinewidth": 0,
             "ticks": ""
            },
            "type": "choropleth"
           }
          ],
          "contour": [
           {
            "colorbar": {
             "outlinewidth": 0,
             "ticks": ""
            },
            "colorscale": [
             [
              0,
              "#0d0887"
             ],
             [
              0.1111111111111111,
              "#46039f"
             ],
             [
              0.2222222222222222,
              "#7201a8"
             ],
             [
              0.3333333333333333,
              "#9c179e"
             ],
             [
              0.4444444444444444,
              "#bd3786"
             ],
             [
              0.5555555555555556,
              "#d8576b"
             ],
             [
              0.6666666666666666,
              "#ed7953"
             ],
             [
              0.7777777777777778,
              "#fb9f3a"
             ],
             [
              0.8888888888888888,
              "#fdca26"
             ],
             [
              1,
              "#f0f921"
             ]
            ],
            "type": "contour"
           }
          ],
          "contourcarpet": [
           {
            "colorbar": {
             "outlinewidth": 0,
             "ticks": ""
            },
            "type": "contourcarpet"
           }
          ],
          "heatmap": [
           {
            "colorbar": {
             "outlinewidth": 0,
             "ticks": ""
            },
            "colorscale": [
             [
              0,
              "#0d0887"
             ],
             [
              0.1111111111111111,
              "#46039f"
             ],
             [
              0.2222222222222222,
              "#7201a8"
             ],
             [
              0.3333333333333333,
              "#9c179e"
             ],
             [
              0.4444444444444444,
              "#bd3786"
             ],
             [
              0.5555555555555556,
              "#d8576b"
             ],
             [
              0.6666666666666666,
              "#ed7953"
             ],
             [
              0.7777777777777778,
              "#fb9f3a"
             ],
             [
              0.8888888888888888,
              "#fdca26"
             ],
             [
              1,
              "#f0f921"
             ]
            ],
            "type": "heatmap"
           }
          ],
          "heatmapgl": [
           {
            "colorbar": {
             "outlinewidth": 0,
             "ticks": ""
            },
            "colorscale": [
             [
              0,
              "#0d0887"
             ],
             [
              0.1111111111111111,
              "#46039f"
             ],
             [
              0.2222222222222222,
              "#7201a8"
             ],
             [
              0.3333333333333333,
              "#9c179e"
             ],
             [
              0.4444444444444444,
              "#bd3786"
             ],
             [
              0.5555555555555556,
              "#d8576b"
             ],
             [
              0.6666666666666666,
              "#ed7953"
             ],
             [
              0.7777777777777778,
              "#fb9f3a"
             ],
             [
              0.8888888888888888,
              "#fdca26"
             ],
             [
              1,
              "#f0f921"
             ]
            ],
            "type": "heatmapgl"
           }
          ],
          "histogram": [
           {
            "marker": {
             "pattern": {
              "fillmode": "overlay",
              "size": 10,
              "solidity": 0.2
             }
            },
            "type": "histogram"
           }
          ],
          "histogram2d": [
           {
            "colorbar": {
             "outlinewidth": 0,
             "ticks": ""
            },
            "colorscale": [
             [
              0,
              "#0d0887"
             ],
             [
              0.1111111111111111,
              "#46039f"
             ],
             [
              0.2222222222222222,
              "#7201a8"
             ],
             [
              0.3333333333333333,
              "#9c179e"
             ],
             [
              0.4444444444444444,
              "#bd3786"
             ],
             [
              0.5555555555555556,
              "#d8576b"
             ],
             [
              0.6666666666666666,
              "#ed7953"
             ],
             [
              0.7777777777777778,
              "#fb9f3a"
             ],
             [
              0.8888888888888888,
              "#fdca26"
             ],
             [
              1,
              "#f0f921"
             ]
            ],
            "type": "histogram2d"
           }
          ],
          "histogram2dcontour": [
           {
            "colorbar": {
             "outlinewidth": 0,
             "ticks": ""
            },
            "colorscale": [
             [
              0,
              "#0d0887"
             ],
             [
              0.1111111111111111,
              "#46039f"
             ],
             [
              0.2222222222222222,
              "#7201a8"
             ],
             [
              0.3333333333333333,
              "#9c179e"
             ],
             [
              0.4444444444444444,
              "#bd3786"
             ],
             [
              0.5555555555555556,
              "#d8576b"
             ],
             [
              0.6666666666666666,
              "#ed7953"
             ],
             [
              0.7777777777777778,
              "#fb9f3a"
             ],
             [
              0.8888888888888888,
              "#fdca26"
             ],
             [
              1,
              "#f0f921"
             ]
            ],
            "type": "histogram2dcontour"
           }
          ],
          "mesh3d": [
           {
            "colorbar": {
             "outlinewidth": 0,
             "ticks": ""
            },
            "type": "mesh3d"
           }
          ],
          "parcoords": [
           {
            "line": {
             "colorbar": {
              "outlinewidth": 0,
              "ticks": ""
             }
            },
            "type": "parcoords"
           }
          ],
          "pie": [
           {
            "automargin": true,
            "type": "pie"
           }
          ],
          "scatter": [
           {
            "fillpattern": {
             "fillmode": "overlay",
             "size": 10,
             "solidity": 0.2
            },
            "type": "scatter"
           }
          ],
          "scatter3d": [
           {
            "line": {
             "colorbar": {
              "outlinewidth": 0,
              "ticks": ""
             }
            },
            "marker": {
             "colorbar": {
              "outlinewidth": 0,
              "ticks": ""
             }
            },
            "type": "scatter3d"
           }
          ],
          "scattercarpet": [
           {
            "marker": {
             "colorbar": {
              "outlinewidth": 0,
              "ticks": ""
             }
            },
            "type": "scattercarpet"
           }
          ],
          "scattergeo": [
           {
            "marker": {
             "colorbar": {
              "outlinewidth": 0,
              "ticks": ""
             }
            },
            "type": "scattergeo"
           }
          ],
          "scattergl": [
           {
            "marker": {
             "colorbar": {
              "outlinewidth": 0,
              "ticks": ""
             }
            },
            "type": "scattergl"
           }
          ],
          "scattermapbox": [
           {
            "marker": {
             "colorbar": {
              "outlinewidth": 0,
              "ticks": ""
             }
            },
            "type": "scattermapbox"
           }
          ],
          "scatterpolar": [
           {
            "marker": {
             "colorbar": {
              "outlinewidth": 0,
              "ticks": ""
             }
            },
            "type": "scatterpolar"
           }
          ],
          "scatterpolargl": [
           {
            "marker": {
             "colorbar": {
              "outlinewidth": 0,
              "ticks": ""
             }
            },
            "type": "scatterpolargl"
           }
          ],
          "scatterternary": [
           {
            "marker": {
             "colorbar": {
              "outlinewidth": 0,
              "ticks": ""
             }
            },
            "type": "scatterternary"
           }
          ],
          "surface": [
           {
            "colorbar": {
             "outlinewidth": 0,
             "ticks": ""
            },
            "colorscale": [
             [
              0,
              "#0d0887"
             ],
             [
              0.1111111111111111,
              "#46039f"
             ],
             [
              0.2222222222222222,
              "#7201a8"
             ],
             [
              0.3333333333333333,
              "#9c179e"
             ],
             [
              0.4444444444444444,
              "#bd3786"
             ],
             [
              0.5555555555555556,
              "#d8576b"
             ],
             [
              0.6666666666666666,
              "#ed7953"
             ],
             [
              0.7777777777777778,
              "#fb9f3a"
             ],
             [
              0.8888888888888888,
              "#fdca26"
             ],
             [
              1,
              "#f0f921"
             ]
            ],
            "type": "surface"
           }
          ],
          "table": [
           {
            "cells": {
             "fill": {
              "color": "#EBF0F8"
             },
             "line": {
              "color": "white"
             }
            },
            "header": {
             "fill": {
              "color": "#C8D4E3"
             },
             "line": {
              "color": "white"
             }
            },
            "type": "table"
           }
          ]
         },
         "layout": {
          "annotationdefaults": {
           "arrowcolor": "#2a3f5f",
           "arrowhead": 0,
           "arrowwidth": 1
          },
          "autotypenumbers": "strict",
          "coloraxis": {
           "colorbar": {
            "outlinewidth": 0,
            "ticks": ""
           }
          },
          "colorscale": {
           "diverging": [
            [
             0,
             "#8e0152"
            ],
            [
             0.1,
             "#c51b7d"
            ],
            [
             0.2,
             "#de77ae"
            ],
            [
             0.3,
             "#f1b6da"
            ],
            [
             0.4,
             "#fde0ef"
            ],
            [
             0.5,
             "#f7f7f7"
            ],
            [
             0.6,
             "#e6f5d0"
            ],
            [
             0.7,
             "#b8e186"
            ],
            [
             0.8,
             "#7fbc41"
            ],
            [
             0.9,
             "#4d9221"
            ],
            [
             1,
             "#276419"
            ]
           ],
           "sequential": [
            [
             0,
             "#0d0887"
            ],
            [
             0.1111111111111111,
             "#46039f"
            ],
            [
             0.2222222222222222,
             "#7201a8"
            ],
            [
             0.3333333333333333,
             "#9c179e"
            ],
            [
             0.4444444444444444,
             "#bd3786"
            ],
            [
             0.5555555555555556,
             "#d8576b"
            ],
            [
             0.6666666666666666,
             "#ed7953"
            ],
            [
             0.7777777777777778,
             "#fb9f3a"
            ],
            [
             0.8888888888888888,
             "#fdca26"
            ],
            [
             1,
             "#f0f921"
            ]
           ],
           "sequentialminus": [
            [
             0,
             "#0d0887"
            ],
            [
             0.1111111111111111,
             "#46039f"
            ],
            [
             0.2222222222222222,
             "#7201a8"
            ],
            [
             0.3333333333333333,
             "#9c179e"
            ],
            [
             0.4444444444444444,
             "#bd3786"
            ],
            [
             0.5555555555555556,
             "#d8576b"
            ],
            [
             0.6666666666666666,
             "#ed7953"
            ],
            [
             0.7777777777777778,
             "#fb9f3a"
            ],
            [
             0.8888888888888888,
             "#fdca26"
            ],
            [
             1,
             "#f0f921"
            ]
           ]
          },
          "colorway": [
           "#636efa",
           "#EF553B",
           "#00cc96",
           "#ab63fa",
           "#FFA15A",
           "#19d3f3",
           "#FF6692",
           "#B6E880",
           "#FF97FF",
           "#FECB52"
          ],
          "font": {
           "color": "#2a3f5f"
          },
          "geo": {
           "bgcolor": "white",
           "lakecolor": "white",
           "landcolor": "#E5ECF6",
           "showlakes": true,
           "showland": true,
           "subunitcolor": "white"
          },
          "hoverlabel": {
           "align": "left"
          },
          "hovermode": "closest",
          "mapbox": {
           "style": "light"
          },
          "paper_bgcolor": "white",
          "plot_bgcolor": "#E5ECF6",
          "polar": {
           "angularaxis": {
            "gridcolor": "white",
            "linecolor": "white",
            "ticks": ""
           },
           "bgcolor": "#E5ECF6",
           "radialaxis": {
            "gridcolor": "white",
            "linecolor": "white",
            "ticks": ""
           }
          },
          "scene": {
           "xaxis": {
            "backgroundcolor": "#E5ECF6",
            "gridcolor": "white",
            "gridwidth": 2,
            "linecolor": "white",
            "showbackground": true,
            "ticks": "",
            "zerolinecolor": "white"
           },
           "yaxis": {
            "backgroundcolor": "#E5ECF6",
            "gridcolor": "white",
            "gridwidth": 2,
            "linecolor": "white",
            "showbackground": true,
            "ticks": "",
            "zerolinecolor": "white"
           },
           "zaxis": {
            "backgroundcolor": "#E5ECF6",
            "gridcolor": "white",
            "gridwidth": 2,
            "linecolor": "white",
            "showbackground": true,
            "ticks": "",
            "zerolinecolor": "white"
           }
          },
          "shapedefaults": {
           "line": {
            "color": "#2a3f5f"
           }
          },
          "ternary": {
           "aaxis": {
            "gridcolor": "white",
            "linecolor": "white",
            "ticks": ""
           },
           "baxis": {
            "gridcolor": "white",
            "linecolor": "white",
            "ticks": ""
           },
           "bgcolor": "#E5ECF6",
           "caxis": {
            "gridcolor": "white",
            "linecolor": "white",
            "ticks": ""
           }
          },
          "title": {
           "x": 0.05
          },
          "xaxis": {
           "automargin": true,
           "gridcolor": "white",
           "linecolor": "white",
           "ticks": "",
           "title": {
            "standoff": 15
           },
           "zerolinecolor": "white",
           "zerolinewidth": 2
          },
          "yaxis": {
           "automargin": true,
           "gridcolor": "white",
           "linecolor": "white",
           "ticks": "",
           "title": {
            "standoff": 15
           },
           "zerolinecolor": "white",
           "zerolinewidth": 2
          }
         }
        },
        "title": {
         "text": "Median Score by Customer and KPI Source"
        },
        "xaxis": {
         "anchor": "y",
         "domain": [
          0,
          1
         ],
         "title": {
          "text": "Customer"
         }
        },
        "yaxis": {
         "anchor": "x",
         "domain": [
          0,
          1
         ],
         "title": {
          "text": "median"
         }
        }
       }
      }
     },
     "metadata": {},
     "output_type": "display_data"
    }
   ],
   "source": [
    "fig_median = px.bar(sampled_df, x='Customer', y='median', color='KPI Source', barmode='group',\n",
    "                    title='Median Score by Customer and KPI Source')\n",
    "fig_median.show()"
   ]
  },
  {
   "cell_type": "code",
   "execution_count": null,
   "metadata": {},
   "outputs": [
    {
     "data": {
      "application/vnd.plotly.v1+json": {
       "config": {
        "plotlyServerURL": "https://plot.ly"
       },
       "data": [
        {
         "alignmentgroup": "True",
         "hovertemplate": "KPI Source=Detection Quality Weekly<br>Customer=%{x}<br>mode=%{y}<extra></extra>",
         "legendgroup": "Detection Quality Weekly",
         "marker": {
          "color": "#636efa",
          "pattern": {
           "shape": ""
          }
         },
         "name": "Detection Quality Weekly",
         "offsetgroup": "Detection Quality Weekly",
         "orientation": "v",
         "showlegend": true,
         "textposition": "auto",
         "type": "bar",
         "x": [
          "Converge TP"
         ],
         "xaxis": "x",
         "y": [
          100
         ],
         "yaxis": "y"
        },
        {
         "alignmentgroup": "True",
         "hovertemplate": "KPI Source=Satisfied and Dissatisfied Surveys<br>Customer=%{x}<br>mode=%{y}<extra></extra>",
         "legendgroup": "Satisfied and Dissatisfied Surveys",
         "marker": {
          "color": "#EF553B",
          "pattern": {
           "shape": ""
          }
         },
         "name": "Satisfied and Dissatisfied Surveys",
         "offsetgroup": "Satisfied and Dissatisfied Surveys",
         "orientation": "v",
         "showlegend": true,
         "textposition": "auto",
         "type": "bar",
         "x": [
          "Converge TP"
         ],
         "xaxis": "x",
         "y": [
          100
         ],
         "yaxis": "y"
        },
        {
         "alignmentgroup": "True",
         "hovertemplate": "KPI Source=CrowdScore<br>Customer=%{x}<br>mode=%{y}<extra></extra>",
         "legendgroup": "CrowdScore",
         "marker": {
          "color": "#00cc96",
          "pattern": {
           "shape": ""
          }
         },
         "name": "CrowdScore",
         "offsetgroup": "CrowdScore",
         "orientation": "v",
         "showlegend": true,
         "textposition": "auto",
         "type": "bar",
         "x": [
          "Converge TP"
         ],
         "xaxis": "x",
         "y": [
          100
         ],
         "yaxis": "y"
        },
        {
         "alignmentgroup": "True",
         "hovertemplate": "KPI Source=Weighted P4 Tickets for Sales Business Process <br>Customer=%{x}<br>mode=%{y}<extra></extra>",
         "legendgroup": "Weighted P4 Tickets for Sales Business Process ",
         "marker": {
          "color": "#ab63fa",
          "pattern": {
           "shape": ""
          }
         },
         "name": "Weighted P4 Tickets for Sales Business Process ",
         "offsetgroup": "Weighted P4 Tickets for Sales Business Process ",
         "orientation": "v",
         "showlegend": true,
         "textposition": "auto",
         "type": "bar",
         "x": [
          "Lummus Technology Inc"
         ],
         "xaxis": "x",
         "y": [
          100
         ],
         "yaxis": "y"
        },
        {
         "alignmentgroup": "True",
         "hovertemplate": "KPI Source=Utilization Router<br>Customer=%{x}<br>mode=%{y}<extra></extra>",
         "legendgroup": "Utilization Router",
         "marker": {
          "color": "#FFA15A",
          "pattern": {
           "shape": ""
          }
         },
         "name": "Utilization Router",
         "offsetgroup": "Utilization Router",
         "orientation": "v",
         "showlegend": true,
         "textposition": "auto",
         "type": "bar",
         "x": [
          "Lummus Technology Inc"
         ],
         "xaxis": "x",
         "y": [
          75
         ],
         "yaxis": "y"
        },
        {
         "alignmentgroup": "True",
         "hovertemplate": "KPI Source=Weighted P1 Tickets for Quality Management Business Process<br>Customer=%{x}<br>mode=%{y}<extra></extra>",
         "legendgroup": "Weighted P1 Tickets for Quality Management Business Process",
         "marker": {
          "color": "#19d3f3",
          "pattern": {
           "shape": ""
          }
         },
         "name": "Weighted P1 Tickets for Quality Management Business Process",
         "offsetgroup": "Weighted P1 Tickets for Quality Management Business Process",
         "orientation": "v",
         "showlegend": true,
         "textposition": "auto",
         "type": "bar",
         "x": [
          "Lummus Technology Inc"
         ],
         "xaxis": "x",
         "y": [
          100
         ],
         "yaxis": "y"
        },
        {
         "alignmentgroup": "True",
         "hovertemplate": "KPI Source=Azure Advisor Security Score<br>Customer=%{x}<br>mode=%{y}<extra></extra>",
         "legendgroup": "Azure Advisor Security Score",
         "marker": {
          "color": "#FF6692",
          "pattern": {
           "shape": ""
          }
         },
         "name": "Azure Advisor Security Score",
         "offsetgroup": "Azure Advisor Security Score",
         "orientation": "v",
         "showlegend": true,
         "textposition": "auto",
         "type": "bar",
         "x": [
          "UG2"
         ],
         "xaxis": "x",
         "y": [
          44.44444444444444
         ],
         "yaxis": "y"
        },
        {
         "alignmentgroup": "True",
         "hovertemplate": "KPI Source=Handle Time<br>Customer=%{x}<br>mode=%{y}<extra></extra>",
         "legendgroup": "Handle Time",
         "marker": {
          "color": "#B6E880",
          "pattern": {
           "shape": ""
          }
         },
         "name": "Handle Time",
         "offsetgroup": "Handle Time",
         "orientation": "v",
         "showlegend": true,
         "textposition": "auto",
         "type": "bar",
         "x": [
          "UG2"
         ],
         "xaxis": "x",
         "y": [
          100
         ],
         "yaxis": "y"
        },
        {
         "alignmentgroup": "True",
         "hovertemplate": "KPI Source=Infrastructure availability<br>Customer=%{x}<br>mode=%{y}<extra></extra>",
         "legendgroup": "Infrastructure availability",
         "marker": {
          "color": "#FF97FF",
          "pattern": {
           "shape": ""
          }
         },
         "name": "Infrastructure availability",
         "offsetgroup": "Infrastructure availability",
         "orientation": "v",
         "showlegend": true,
         "textposition": "auto",
         "type": "bar",
         "x": [
          "UG2"
         ],
         "xaxis": "x",
         "y": [
          73.33333333333333
         ],
         "yaxis": "y"
        }
       ],
       "layout": {
        "barmode": "group",
        "legend": {
         "title": {
          "text": "KPI Source"
         },
         "tracegroupgap": 0
        },
        "template": {
         "data": {
          "bar": [
           {
            "error_x": {
             "color": "#2a3f5f"
            },
            "error_y": {
             "color": "#2a3f5f"
            },
            "marker": {
             "line": {
              "color": "#E5ECF6",
              "width": 0.5
             },
             "pattern": {
              "fillmode": "overlay",
              "size": 10,
              "solidity": 0.2
             }
            },
            "type": "bar"
           }
          ],
          "barpolar": [
           {
            "marker": {
             "line": {
              "color": "#E5ECF6",
              "width": 0.5
             },
             "pattern": {
              "fillmode": "overlay",
              "size": 10,
              "solidity": 0.2
             }
            },
            "type": "barpolar"
           }
          ],
          "carpet": [
           {
            "aaxis": {
             "endlinecolor": "#2a3f5f",
             "gridcolor": "white",
             "linecolor": "white",
             "minorgridcolor": "white",
             "startlinecolor": "#2a3f5f"
            },
            "baxis": {
             "endlinecolor": "#2a3f5f",
             "gridcolor": "white",
             "linecolor": "white",
             "minorgridcolor": "white",
             "startlinecolor": "#2a3f5f"
            },
            "type": "carpet"
           }
          ],
          "choropleth": [
           {
            "colorbar": {
             "outlinewidth": 0,
             "ticks": ""
            },
            "type": "choropleth"
           }
          ],
          "contour": [
           {
            "colorbar": {
             "outlinewidth": 0,
             "ticks": ""
            },
            "colorscale": [
             [
              0,
              "#0d0887"
             ],
             [
              0.1111111111111111,
              "#46039f"
             ],
             [
              0.2222222222222222,
              "#7201a8"
             ],
             [
              0.3333333333333333,
              "#9c179e"
             ],
             [
              0.4444444444444444,
              "#bd3786"
             ],
             [
              0.5555555555555556,
              "#d8576b"
             ],
             [
              0.6666666666666666,
              "#ed7953"
             ],
             [
              0.7777777777777778,
              "#fb9f3a"
             ],
             [
              0.8888888888888888,
              "#fdca26"
             ],
             [
              1,
              "#f0f921"
             ]
            ],
            "type": "contour"
           }
          ],
          "contourcarpet": [
           {
            "colorbar": {
             "outlinewidth": 0,
             "ticks": ""
            },
            "type": "contourcarpet"
           }
          ],
          "heatmap": [
           {
            "colorbar": {
             "outlinewidth": 0,
             "ticks": ""
            },
            "colorscale": [
             [
              0,
              "#0d0887"
             ],
             [
              0.1111111111111111,
              "#46039f"
             ],
             [
              0.2222222222222222,
              "#7201a8"
             ],
             [
              0.3333333333333333,
              "#9c179e"
             ],
             [
              0.4444444444444444,
              "#bd3786"
             ],
             [
              0.5555555555555556,
              "#d8576b"
             ],
             [
              0.6666666666666666,
              "#ed7953"
             ],
             [
              0.7777777777777778,
              "#fb9f3a"
             ],
             [
              0.8888888888888888,
              "#fdca26"
             ],
             [
              1,
              "#f0f921"
             ]
            ],
            "type": "heatmap"
           }
          ],
          "heatmapgl": [
           {
            "colorbar": {
             "outlinewidth": 0,
             "ticks": ""
            },
            "colorscale": [
             [
              0,
              "#0d0887"
             ],
             [
              0.1111111111111111,
              "#46039f"
             ],
             [
              0.2222222222222222,
              "#7201a8"
             ],
             [
              0.3333333333333333,
              "#9c179e"
             ],
             [
              0.4444444444444444,
              "#bd3786"
             ],
             [
              0.5555555555555556,
              "#d8576b"
             ],
             [
              0.6666666666666666,
              "#ed7953"
             ],
             [
              0.7777777777777778,
              "#fb9f3a"
             ],
             [
              0.8888888888888888,
              "#fdca26"
             ],
             [
              1,
              "#f0f921"
             ]
            ],
            "type": "heatmapgl"
           }
          ],
          "histogram": [
           {
            "marker": {
             "pattern": {
              "fillmode": "overlay",
              "size": 10,
              "solidity": 0.2
             }
            },
            "type": "histogram"
           }
          ],
          "histogram2d": [
           {
            "colorbar": {
             "outlinewidth": 0,
             "ticks": ""
            },
            "colorscale": [
             [
              0,
              "#0d0887"
             ],
             [
              0.1111111111111111,
              "#46039f"
             ],
             [
              0.2222222222222222,
              "#7201a8"
             ],
             [
              0.3333333333333333,
              "#9c179e"
             ],
             [
              0.4444444444444444,
              "#bd3786"
             ],
             [
              0.5555555555555556,
              "#d8576b"
             ],
             [
              0.6666666666666666,
              "#ed7953"
             ],
             [
              0.7777777777777778,
              "#fb9f3a"
             ],
             [
              0.8888888888888888,
              "#fdca26"
             ],
             [
              1,
              "#f0f921"
             ]
            ],
            "type": "histogram2d"
           }
          ],
          "histogram2dcontour": [
           {
            "colorbar": {
             "outlinewidth": 0,
             "ticks": ""
            },
            "colorscale": [
             [
              0,
              "#0d0887"
             ],
             [
              0.1111111111111111,
              "#46039f"
             ],
             [
              0.2222222222222222,
              "#7201a8"
             ],
             [
              0.3333333333333333,
              "#9c179e"
             ],
             [
              0.4444444444444444,
              "#bd3786"
             ],
             [
              0.5555555555555556,
              "#d8576b"
             ],
             [
              0.6666666666666666,
              "#ed7953"
             ],
             [
              0.7777777777777778,
              "#fb9f3a"
             ],
             [
              0.8888888888888888,
              "#fdca26"
             ],
             [
              1,
              "#f0f921"
             ]
            ],
            "type": "histogram2dcontour"
           }
          ],
          "mesh3d": [
           {
            "colorbar": {
             "outlinewidth": 0,
             "ticks": ""
            },
            "type": "mesh3d"
           }
          ],
          "parcoords": [
           {
            "line": {
             "colorbar": {
              "outlinewidth": 0,
              "ticks": ""
             }
            },
            "type": "parcoords"
           }
          ],
          "pie": [
           {
            "automargin": true,
            "type": "pie"
           }
          ],
          "scatter": [
           {
            "fillpattern": {
             "fillmode": "overlay",
             "size": 10,
             "solidity": 0.2
            },
            "type": "scatter"
           }
          ],
          "scatter3d": [
           {
            "line": {
             "colorbar": {
              "outlinewidth": 0,
              "ticks": ""
             }
            },
            "marker": {
             "colorbar": {
              "outlinewidth": 0,
              "ticks": ""
             }
            },
            "type": "scatter3d"
           }
          ],
          "scattercarpet": [
           {
            "marker": {
             "colorbar": {
              "outlinewidth": 0,
              "ticks": ""
             }
            },
            "type": "scattercarpet"
           }
          ],
          "scattergeo": [
           {
            "marker": {
             "colorbar": {
              "outlinewidth": 0,
              "ticks": ""
             }
            },
            "type": "scattergeo"
           }
          ],
          "scattergl": [
           {
            "marker": {
             "colorbar": {
              "outlinewidth": 0,
              "ticks": ""
             }
            },
            "type": "scattergl"
           }
          ],
          "scattermapbox": [
           {
            "marker": {
             "colorbar": {
              "outlinewidth": 0,
              "ticks": ""
             }
            },
            "type": "scattermapbox"
           }
          ],
          "scatterpolar": [
           {
            "marker": {
             "colorbar": {
              "outlinewidth": 0,
              "ticks": ""
             }
            },
            "type": "scatterpolar"
           }
          ],
          "scatterpolargl": [
           {
            "marker": {
             "colorbar": {
              "outlinewidth": 0,
              "ticks": ""
             }
            },
            "type": "scatterpolargl"
           }
          ],
          "scatterternary": [
           {
            "marker": {
             "colorbar": {
              "outlinewidth": 0,
              "ticks": ""
             }
            },
            "type": "scatterternary"
           }
          ],
          "surface": [
           {
            "colorbar": {
             "outlinewidth": 0,
             "ticks": ""
            },
            "colorscale": [
             [
              0,
              "#0d0887"
             ],
             [
              0.1111111111111111,
              "#46039f"
             ],
             [
              0.2222222222222222,
              "#7201a8"
             ],
             [
              0.3333333333333333,
              "#9c179e"
             ],
             [
              0.4444444444444444,
              "#bd3786"
             ],
             [
              0.5555555555555556,
              "#d8576b"
             ],
             [
              0.6666666666666666,
              "#ed7953"
             ],
             [
              0.7777777777777778,
              "#fb9f3a"
             ],
             [
              0.8888888888888888,
              "#fdca26"
             ],
             [
              1,
              "#f0f921"
             ]
            ],
            "type": "surface"
           }
          ],
          "table": [
           {
            "cells": {
             "fill": {
              "color": "#EBF0F8"
             },
             "line": {
              "color": "white"
             }
            },
            "header": {
             "fill": {
              "color": "#C8D4E3"
             },
             "line": {
              "color": "white"
             }
            },
            "type": "table"
           }
          ]
         },
         "layout": {
          "annotationdefaults": {
           "arrowcolor": "#2a3f5f",
           "arrowhead": 0,
           "arrowwidth": 1
          },
          "autotypenumbers": "strict",
          "coloraxis": {
           "colorbar": {
            "outlinewidth": 0,
            "ticks": ""
           }
          },
          "colorscale": {
           "diverging": [
            [
             0,
             "#8e0152"
            ],
            [
             0.1,
             "#c51b7d"
            ],
            [
             0.2,
             "#de77ae"
            ],
            [
             0.3,
             "#f1b6da"
            ],
            [
             0.4,
             "#fde0ef"
            ],
            [
             0.5,
             "#f7f7f7"
            ],
            [
             0.6,
             "#e6f5d0"
            ],
            [
             0.7,
             "#b8e186"
            ],
            [
             0.8,
             "#7fbc41"
            ],
            [
             0.9,
             "#4d9221"
            ],
            [
             1,
             "#276419"
            ]
           ],
           "sequential": [
            [
             0,
             "#0d0887"
            ],
            [
             0.1111111111111111,
             "#46039f"
            ],
            [
             0.2222222222222222,
             "#7201a8"
            ],
            [
             0.3333333333333333,
             "#9c179e"
            ],
            [
             0.4444444444444444,
             "#bd3786"
            ],
            [
             0.5555555555555556,
             "#d8576b"
            ],
            [
             0.6666666666666666,
             "#ed7953"
            ],
            [
             0.7777777777777778,
             "#fb9f3a"
            ],
            [
             0.8888888888888888,
             "#fdca26"
            ],
            [
             1,
             "#f0f921"
            ]
           ],
           "sequentialminus": [
            [
             0,
             "#0d0887"
            ],
            [
             0.1111111111111111,
             "#46039f"
            ],
            [
             0.2222222222222222,
             "#7201a8"
            ],
            [
             0.3333333333333333,
             "#9c179e"
            ],
            [
             0.4444444444444444,
             "#bd3786"
            ],
            [
             0.5555555555555556,
             "#d8576b"
            ],
            [
             0.6666666666666666,
             "#ed7953"
            ],
            [
             0.7777777777777778,
             "#fb9f3a"
            ],
            [
             0.8888888888888888,
             "#fdca26"
            ],
            [
             1,
             "#f0f921"
            ]
           ]
          },
          "colorway": [
           "#636efa",
           "#EF553B",
           "#00cc96",
           "#ab63fa",
           "#FFA15A",
           "#19d3f3",
           "#FF6692",
           "#B6E880",
           "#FF97FF",
           "#FECB52"
          ],
          "font": {
           "color": "#2a3f5f"
          },
          "geo": {
           "bgcolor": "white",
           "lakecolor": "white",
           "landcolor": "#E5ECF6",
           "showlakes": true,
           "showland": true,
           "subunitcolor": "white"
          },
          "hoverlabel": {
           "align": "left"
          },
          "hovermode": "closest",
          "mapbox": {
           "style": "light"
          },
          "paper_bgcolor": "white",
          "plot_bgcolor": "#E5ECF6",
          "polar": {
           "angularaxis": {
            "gridcolor": "white",
            "linecolor": "white",
            "ticks": ""
           },
           "bgcolor": "#E5ECF6",
           "radialaxis": {
            "gridcolor": "white",
            "linecolor": "white",
            "ticks": ""
           }
          },
          "scene": {
           "xaxis": {
            "backgroundcolor": "#E5ECF6",
            "gridcolor": "white",
            "gridwidth": 2,
            "linecolor": "white",
            "showbackground": true,
            "ticks": "",
            "zerolinecolor": "white"
           },
           "yaxis": {
            "backgroundcolor": "#E5ECF6",
            "gridcolor": "white",
            "gridwidth": 2,
            "linecolor": "white",
            "showbackground": true,
            "ticks": "",
            "zerolinecolor": "white"
           },
           "zaxis": {
            "backgroundcolor": "#E5ECF6",
            "gridcolor": "white",
            "gridwidth": 2,
            "linecolor": "white",
            "showbackground": true,
            "ticks": "",
            "zerolinecolor": "white"
           }
          },
          "shapedefaults": {
           "line": {
            "color": "#2a3f5f"
           }
          },
          "ternary": {
           "aaxis": {
            "gridcolor": "white",
            "linecolor": "white",
            "ticks": ""
           },
           "baxis": {
            "gridcolor": "white",
            "linecolor": "white",
            "ticks": ""
           },
           "bgcolor": "#E5ECF6",
           "caxis": {
            "gridcolor": "white",
            "linecolor": "white",
            "ticks": ""
           }
          },
          "title": {
           "x": 0.05
          },
          "xaxis": {
           "automargin": true,
           "gridcolor": "white",
           "linecolor": "white",
           "ticks": "",
           "title": {
            "standoff": 15
           },
           "zerolinecolor": "white",
           "zerolinewidth": 2
          },
          "yaxis": {
           "automargin": true,
           "gridcolor": "white",
           "linecolor": "white",
           "ticks": "",
           "title": {
            "standoff": 15
           },
           "zerolinecolor": "white",
           "zerolinewidth": 2
          }
         }
        },
        "title": {
         "text": "Mode Score by Customer and KPI Source"
        },
        "xaxis": {
         "anchor": "y",
         "domain": [
          0,
          1
         ],
         "title": {
          "text": "Customer"
         }
        },
        "yaxis": {
         "anchor": "x",
         "domain": [
          0,
          1
         ],
         "title": {
          "text": "mode"
         }
        }
       }
      }
     },
     "metadata": {},
     "output_type": "display_data"
    }
   ],
   "source": [
    "fig_mode = px.bar(sampled_df, x='Customer', y='mode', color='KPI Source', barmode='group',\n",
    "                  title='Mode Score by Customer and KPI Source')\n",
    "fig_mode.show()"
   ]
  },
  {
   "cell_type": "code",
   "execution_count": null,
   "metadata": {},
   "outputs": [
    {
     "data": {
      "text/html": [
       "<div>\n",
       "<style scoped>\n",
       "    .dataframe tbody tr th:only-of-type {\n",
       "        vertical-align: middle;\n",
       "    }\n",
       "\n",
       "    .dataframe tbody tr th {\n",
       "        vertical-align: top;\n",
       "    }\n",
       "\n",
       "    .dataframe thead th {\n",
       "        text-align: right;\n",
       "    }\n",
       "</style>\n",
       "<table border=\"1\" class=\"dataframe\">\n",
       "  <thead>\n",
       "    <tr style=\"text-align: right;\">\n",
       "      <th></th>\n",
       "      <th>Customer</th>\n",
       "      <th>KPI Source</th>\n",
       "    </tr>\n",
       "  </thead>\n",
       "  <tbody>\n",
       "    <tr>\n",
       "      <th>0</th>\n",
       "      <td>Converge TP</td>\n",
       "      <td>Detection Quality Weekly</td>\n",
       "    </tr>\n",
       "    <tr>\n",
       "      <th>1</th>\n",
       "      <td>Converge TP</td>\n",
       "      <td>Satisfied and Dissatisfied Surveys</td>\n",
       "    </tr>\n",
       "    <tr>\n",
       "      <th>2</th>\n",
       "      <td>Converge TP</td>\n",
       "      <td>CrowdScore</td>\n",
       "    </tr>\n",
       "    <tr>\n",
       "      <th>3</th>\n",
       "      <td>Lummus Technology Inc</td>\n",
       "      <td>Weighted P4 Tickets for Sales Business Process</td>\n",
       "    </tr>\n",
       "    <tr>\n",
       "      <th>4</th>\n",
       "      <td>Lummus Technology Inc</td>\n",
       "      <td>Utilization Router</td>\n",
       "    </tr>\n",
       "    <tr>\n",
       "      <th>5</th>\n",
       "      <td>Lummus Technology Inc</td>\n",
       "      <td>Weighted P1 Tickets for Quality Management Bus...</td>\n",
       "    </tr>\n",
       "    <tr>\n",
       "      <th>6</th>\n",
       "      <td>UG2</td>\n",
       "      <td>Azure Advisor Security Score</td>\n",
       "    </tr>\n",
       "    <tr>\n",
       "      <th>7</th>\n",
       "      <td>UG2</td>\n",
       "      <td>Handle Time</td>\n",
       "    </tr>\n",
       "    <tr>\n",
       "      <th>8</th>\n",
       "      <td>UG2</td>\n",
       "      <td>Infrastructure availability</td>\n",
       "    </tr>\n",
       "  </tbody>\n",
       "</table>\n",
       "</div>"
      ],
      "text/plain": [
       "                Customer                                         KPI Source\n",
       "0            Converge TP                           Detection Quality Weekly\n",
       "1            Converge TP                 Satisfied and Dissatisfied Surveys\n",
       "2            Converge TP                                         CrowdScore\n",
       "3  Lummus Technology Inc    Weighted P4 Tickets for Sales Business Process \n",
       "4  Lummus Technology Inc                                 Utilization Router\n",
       "5  Lummus Technology Inc  Weighted P1 Tickets for Quality Management Bus...\n",
       "6                    UG2                       Azure Advisor Security Score\n",
       "7                    UG2                                        Handle Time\n",
       "8                    UG2                        Infrastructure availability"
      ]
     },
     "execution_count": 18,
     "metadata": {},
     "output_type": "execute_result"
    }
   ],
   "source": [
    "sampled_df[['Customer','KPI Source']]"
   ]
  },
  {
   "cell_type": "code",
   "execution_count": null,
   "metadata": {},
   "outputs": [
    {
     "data": {
      "text/html": [
       "<div>\n",
       "<style scoped>\n",
       "    .dataframe tbody tr th:only-of-type {\n",
       "        vertical-align: middle;\n",
       "    }\n",
       "\n",
       "    .dataframe tbody tr th {\n",
       "        vertical-align: top;\n",
       "    }\n",
       "\n",
       "    .dataframe thead th {\n",
       "        text-align: right;\n",
       "    }\n",
       "</style>\n",
       "<table border=\"1\" class=\"dataframe\">\n",
       "  <thead>\n",
       "    <tr style=\"text-align: right;\">\n",
       "      <th></th>\n",
       "      <th>Timestamp</th>\n",
       "      <th>ID</th>\n",
       "      <th>Customer</th>\n",
       "      <th>Category</th>\n",
       "      <th>Subcategory</th>\n",
       "      <th>Weight</th>\n",
       "      <th>Score</th>\n",
       "      <th>KPI Source</th>\n",
       "      <th>Subcategory sequence</th>\n",
       "      <th>Subcategory sequence.1</th>\n",
       "      <th>Added by</th>\n",
       "      <th>Index Type</th>\n",
       "    </tr>\n",
       "  </thead>\n",
       "  <tbody>\n",
       "    <tr>\n",
       "      <th>0</th>\n",
       "      <td>2024-06-27 01:34:12</td>\n",
       "      <td>__export__.msp_dragonfly_scoreentry_64708_2e45...</td>\n",
       "      <td>Lummus Technology Inc</td>\n",
       "      <td>Business Processes</td>\n",
       "      <td>Service</td>\n",
       "      <td>25.0</td>\n",
       "      <td>100.0</td>\n",
       "      <td>Weighted P4 Tickets for Service Business Process</td>\n",
       "      <td>6</td>\n",
       "      <td>6</td>\n",
       "      <td>cdataconnector | ExactlyIT Inc</td>\n",
       "      <td>converge</td>\n",
       "    </tr>\n",
       "    <tr>\n",
       "      <th>1</th>\n",
       "      <td>2024-06-27 01:34:10</td>\n",
       "      <td>__export__.msp_dragonfly_scoreentry_64707_f636...</td>\n",
       "      <td>Lummus Technology Inc</td>\n",
       "      <td>Business Processes</td>\n",
       "      <td>Service</td>\n",
       "      <td>25.0</td>\n",
       "      <td>100.0</td>\n",
       "      <td>Weighted P3 Tickets for Service Business Process</td>\n",
       "      <td>6</td>\n",
       "      <td>6</td>\n",
       "      <td>cdataconnector | ExactlyIT Inc</td>\n",
       "      <td>converge</td>\n",
       "    </tr>\n",
       "    <tr>\n",
       "      <th>2</th>\n",
       "      <td>2024-06-27 01:34:09</td>\n",
       "      <td>__export__.msp_dragonfly_scoreentry_64706_94bb...</td>\n",
       "      <td>Lummus Technology Inc</td>\n",
       "      <td>Business Processes</td>\n",
       "      <td>Service</td>\n",
       "      <td>25.0</td>\n",
       "      <td>100.0</td>\n",
       "      <td>Weighted P2 Tickets for Service Business Process</td>\n",
       "      <td>6</td>\n",
       "      <td>6</td>\n",
       "      <td>cdataconnector | ExactlyIT Inc</td>\n",
       "      <td>converge</td>\n",
       "    </tr>\n",
       "    <tr>\n",
       "      <th>3</th>\n",
       "      <td>2024-06-27 01:34:03</td>\n",
       "      <td>__export__.msp_dragonfly_scoreentry_64705_85bc...</td>\n",
       "      <td>Lummus Technology Inc</td>\n",
       "      <td>Business Processes</td>\n",
       "      <td>Delivery</td>\n",
       "      <td>25.0</td>\n",
       "      <td>100.0</td>\n",
       "      <td>Weighted P1 Tickets for Delivery Business Process</td>\n",
       "      <td>5</td>\n",
       "      <td>5</td>\n",
       "      <td>cdataconnector | ExactlyIT Inc</td>\n",
       "      <td>converge</td>\n",
       "    </tr>\n",
       "    <tr>\n",
       "      <th>4</th>\n",
       "      <td>2024-06-27 01:33:57</td>\n",
       "      <td>__export__.msp_dragonfly_scoreentry_64704_490b...</td>\n",
       "      <td>Lummus Technology Inc</td>\n",
       "      <td>Business Processes</td>\n",
       "      <td>Quality Management</td>\n",
       "      <td>25.0</td>\n",
       "      <td>100.0</td>\n",
       "      <td>Weighted P4 Tickets for Quality Management Bus...</td>\n",
       "      <td>8</td>\n",
       "      <td>8</td>\n",
       "      <td>cdataconnector | ExactlyIT Inc</td>\n",
       "      <td>converge</td>\n",
       "    </tr>\n",
       "  </tbody>\n",
       "</table>\n",
       "</div>"
      ],
      "text/plain": [
       "            Timestamp                                                 ID  \\\n",
       "0 2024-06-27 01:34:12  __export__.msp_dragonfly_scoreentry_64708_2e45...   \n",
       "1 2024-06-27 01:34:10  __export__.msp_dragonfly_scoreentry_64707_f636...   \n",
       "2 2024-06-27 01:34:09  __export__.msp_dragonfly_scoreentry_64706_94bb...   \n",
       "3 2024-06-27 01:34:03  __export__.msp_dragonfly_scoreentry_64705_85bc...   \n",
       "4 2024-06-27 01:33:57  __export__.msp_dragonfly_scoreentry_64704_490b...   \n",
       "\n",
       "                Customer            Category         Subcategory  Weight  \\\n",
       "0  Lummus Technology Inc  Business Processes             Service    25.0   \n",
       "1  Lummus Technology Inc  Business Processes             Service    25.0   \n",
       "2  Lummus Technology Inc  Business Processes             Service    25.0   \n",
       "3  Lummus Technology Inc  Business Processes            Delivery    25.0   \n",
       "4  Lummus Technology Inc  Business Processes  Quality Management    25.0   \n",
       "\n",
       "   Score                                         KPI Source  \\\n",
       "0  100.0   Weighted P4 Tickets for Service Business Process   \n",
       "1  100.0   Weighted P3 Tickets for Service Business Process   \n",
       "2  100.0   Weighted P2 Tickets for Service Business Process   \n",
       "3  100.0  Weighted P1 Tickets for Delivery Business Process   \n",
       "4  100.0  Weighted P4 Tickets for Quality Management Bus...   \n",
       "\n",
       "   Subcategory sequence  Subcategory sequence.1  \\\n",
       "0                     6                       6   \n",
       "1                     6                       6   \n",
       "2                     6                       6   \n",
       "3                     5                       5   \n",
       "4                     8                       8   \n",
       "\n",
       "                         Added by Index Type  \n",
       "0  cdataconnector | ExactlyIT Inc   converge  \n",
       "1  cdataconnector | ExactlyIT Inc   converge  \n",
       "2  cdataconnector | ExactlyIT Inc   converge  \n",
       "3  cdataconnector | ExactlyIT Inc   converge  \n",
       "4  cdataconnector | ExactlyIT Inc   converge  "
      ]
     },
     "execution_count": 19,
     "metadata": {},
     "output_type": "execute_result"
    }
   ],
   "source": [
    "data.head()"
   ]
  },
  {
   "cell_type": "code",
   "execution_count": 44,
   "metadata": {},
   "outputs": [],
   "source": [
    "# Define the customers and KPI sources to filter\n",
    "customers_kpi_sources = [\n",
    "    {'Customer': 'Converge TP', 'KPI Source': 'Detection Quality Weekly'},\n",
    "    {'Customer': 'Converge TP', 'KPI Source': 'Satisfied and Dissatisfied Surveys'},\n",
    "    {'Customer': 'Converge TP', 'KPI Source': 'CrowdScore'},\n",
    "    {'Customer': 'Lummus Technology Inc', 'KPI Source': 'Detection Quality Weekly'},\n",
    "    {'Customer': 'Lummus Technology Inc', 'KPI Source': 'Satisfied and Dissatisfied Surveys'},\n",
    "    {'Customer': 'Lummus Technology Inc', 'KPI Source': 'CrowdScore'},\n",
    "    {'Customer': 'UG2', 'KPI Source': 'Detection Quality Weekly'},\n",
    "    {'Customer': 'UG2', 'KPI Source': 'Satisfied and Dissatisfied Surveys'},\n",
    "    {'Customer': 'UG2', 'KPI Source': 'CrowdScore'}\n",
    "]\n",
    "\n",
    "# Convert to DataFrame\n",
    "customers_kpi_df = pd.DataFrame(customers_kpi_sources)\n",
    "\n",
    "# Merge to filter the main DataFrame\n",
    "filtered_df = data.merge(customers_kpi_df, on=['Customer', 'KPI Source'], how='inner')\n"
   ]
  },
  {
   "cell_type": "code",
   "execution_count": 45,
   "metadata": {},
   "outputs": [
    {
     "data": {
      "application/vnd.plotly.v1+json": {
       "config": {
        "plotlyServerURL": "https://plot.ly"
       },
       "data": [
        {
         "alignmentgroup": "True",
         "hovertemplate": "KPI Source=Detection Quality Weekly<br>Customer=%{x}<br>Score=%{y}<extra></extra>",
         "legendgroup": "Detection Quality Weekly",
         "marker": {
          "color": "#636efa"
         },
         "name": "Detection Quality Weekly",
         "notched": false,
         "offsetgroup": "Detection Quality Weekly",
         "orientation": "v",
         "showlegend": true,
         "type": "box",
         "x": [
          "UG2",
          "UG2",
          "UG2",
          "UG2",
          "UG2",
          "UG2",
          "UG2",
          "UG2",
          "UG2",
          "UG2",
          "UG2",
          "UG2",
          "UG2",
          "UG2",
          "UG2",
          "UG2",
          "UG2",
          "UG2",
          "UG2",
          "UG2",
          "UG2",
          "UG2",
          "UG2",
          "UG2",
          "UG2",
          "UG2",
          "UG2",
          "UG2",
          "UG2",
          "UG2",
          "UG2",
          "UG2",
          "UG2",
          "UG2",
          "UG2",
          "UG2",
          "UG2",
          "UG2",
          "UG2",
          "UG2",
          "UG2",
          "UG2",
          "UG2",
          "UG2",
          "UG2",
          "UG2",
          "UG2",
          "UG2",
          "UG2",
          "UG2",
          "UG2",
          "UG2",
          "UG2",
          "UG2",
          "UG2",
          "UG2",
          "UG2",
          "UG2",
          "UG2",
          "UG2",
          "UG2",
          "UG2",
          "UG2",
          "UG2",
          "UG2",
          "UG2",
          "UG2",
          "UG2",
          "UG2",
          "UG2",
          "UG2",
          "UG2",
          "UG2",
          "Converge TP",
          "Converge TP",
          "Converge TP",
          "Converge TP",
          "Converge TP",
          "Converge TP",
          "Converge TP",
          "Converge TP",
          "Converge TP",
          "Converge TP",
          "Converge TP",
          "Converge TP",
          "Converge TP",
          "Converge TP",
          "Converge TP",
          "Converge TP",
          "Converge TP",
          "Converge TP",
          "Converge TP",
          "Converge TP",
          "Converge TP",
          "Converge TP",
          "Converge TP",
          "Converge TP",
          "Converge TP",
          "Converge TP",
          "Converge TP",
          "Converge TP",
          "Converge TP",
          "Converge TP",
          "Converge TP",
          "Converge TP",
          "Converge TP",
          "Converge TP",
          "Converge TP",
          "Converge TP",
          "Converge TP",
          "Converge TP",
          "Converge TP",
          "Converge TP",
          "Converge TP",
          "Converge TP",
          "Converge TP",
          "Converge TP",
          "Converge TP",
          "Converge TP",
          "Converge TP",
          "Converge TP",
          "Converge TP",
          "Converge TP",
          "Converge TP",
          "Converge TP",
          "Converge TP",
          "Converge TP",
          "Converge TP",
          "Converge TP",
          "Converge TP",
          "Converge TP",
          "Converge TP",
          "Converge TP",
          "Converge TP",
          "Converge TP",
          "Converge TP",
          "Converge TP",
          "Converge TP",
          "Converge TP",
          "Converge TP",
          "Converge TP",
          "Converge TP",
          "Converge TP",
          "Converge TP",
          "Converge TP",
          "Converge TP",
          "Converge TP",
          "Converge TP",
          "Converge TP",
          "Converge TP",
          "Converge TP",
          "Converge TP",
          "Converge TP",
          "Converge TP",
          "Converge TP",
          "Converge TP",
          "Converge TP",
          "Converge TP",
          "Converge TP",
          "Converge TP",
          "Converge TP",
          "Lummus Technology Inc",
          "Lummus Technology Inc",
          "Lummus Technology Inc",
          "Lummus Technology Inc",
          "Lummus Technology Inc",
          "Lummus Technology Inc",
          "Lummus Technology Inc",
          "Lummus Technology Inc",
          "Lummus Technology Inc",
          "Lummus Technology Inc",
          "Lummus Technology Inc",
          "Lummus Technology Inc",
          "Lummus Technology Inc",
          "Lummus Technology Inc",
          "Lummus Technology Inc",
          "Lummus Technology Inc",
          "Lummus Technology Inc",
          "Lummus Technology Inc",
          "Lummus Technology Inc",
          "Lummus Technology Inc",
          "Lummus Technology Inc",
          "Lummus Technology Inc",
          "Lummus Technology Inc",
          "Lummus Technology Inc",
          "Lummus Technology Inc",
          "Lummus Technology Inc",
          "Lummus Technology Inc",
          "Lummus Technology Inc",
          "Lummus Technology Inc",
          "Lummus Technology Inc",
          "Lummus Technology Inc",
          "Lummus Technology Inc",
          "Lummus Technology Inc",
          "Lummus Technology Inc",
          "Lummus Technology Inc",
          "Lummus Technology Inc",
          "Lummus Technology Inc",
          "Lummus Technology Inc",
          "Lummus Technology Inc",
          "Lummus Technology Inc",
          "Lummus Technology Inc",
          "Lummus Technology Inc",
          "Lummus Technology Inc",
          "Lummus Technology Inc",
          "Lummus Technology Inc",
          "Lummus Technology Inc",
          "Lummus Technology Inc",
          "Lummus Technology Inc",
          "Lummus Technology Inc",
          "Lummus Technology Inc",
          "Lummus Technology Inc",
          "Lummus Technology Inc",
          "Lummus Technology Inc",
          "Lummus Technology Inc",
          "Lummus Technology Inc",
          "Lummus Technology Inc",
          "Lummus Technology Inc",
          "Lummus Technology Inc",
          "Lummus Technology Inc",
          "Lummus Technology Inc",
          "Lummus Technology Inc",
          "Lummus Technology Inc",
          "Lummus Technology Inc",
          "Lummus Technology Inc",
          "Lummus Technology Inc",
          "Lummus Technology Inc",
          "Lummus Technology Inc",
          "Lummus Technology Inc",
          "Lummus Technology Inc",
          "Lummus Technology Inc",
          "Lummus Technology Inc",
          "Lummus Technology Inc",
          "Lummus Technology Inc",
          "Lummus Technology Inc",
          "Lummus Technology Inc",
          "Lummus Technology Inc",
          "Lummus Technology Inc",
          "Lummus Technology Inc",
          "Lummus Technology Inc",
          "Lummus Technology Inc",
          "Lummus Technology Inc"
         ],
         "x0": " ",
         "xaxis": "x",
         "y": [
          33.33333333333334,
          33.33333333333334,
          33.33333333333334,
          58.33333333333334,
          58.33333333333334,
          83.33333333333333,
          91.66666666666667,
          83.33333333333333,
          83.33333333333333,
          83.33333333333333,
          83.33333333333333,
          58.33333333333334,
          58.33333333333334,
          58.33333333333334,
          58.33333333333334,
          58.33333333333334,
          58.33333333333334,
          58.33333333333334,
          58.33333333333334,
          58.33333333333334,
          58.33333333333334,
          58.33333333333334,
          58.33333333333334,
          58.33333333333334,
          58.33333333333334,
          100,
          58.33333333333334,
          33.33333333333334,
          33.33333333333334,
          33.33333333333334,
          33.33333333333334,
          33.33333333333334,
          33.33333333333334,
          33.33333333333334,
          33.33333333333334,
          8.333333333333334,
          8.333333333333334,
          8.333333333333334,
          33.33333333333334,
          33.33333333333334,
          33.33333333333334,
          58.33333333333334,
          100,
          33.33333333333334,
          33.33333333333334,
          33.33333333333334,
          33.33333333333334,
          33.33333333333334,
          8.333333333333334,
          6.25,
          31.25,
          31.25,
          6.25,
          6.25,
          6.25,
          6.25,
          0,
          0,
          0,
          0,
          0,
          0,
          0,
          0,
          0,
          0,
          0,
          0,
          0,
          0,
          0,
          0,
          0,
          100,
          100,
          100,
          100,
          100,
          100,
          100,
          100,
          100,
          100,
          100,
          100,
          100,
          100,
          100,
          100,
          100,
          100,
          100,
          100,
          100,
          100,
          100,
          100,
          100,
          100,
          100,
          100,
          100,
          100,
          100,
          100,
          100,
          100,
          100,
          100,
          100,
          100,
          100,
          100,
          100,
          100,
          100,
          100,
          100,
          100,
          100,
          100,
          100,
          100,
          100,
          100,
          100,
          100,
          80,
          100,
          100,
          100,
          100,
          100,
          100,
          100,
          100,
          100,
          100,
          100,
          100,
          100,
          100,
          100,
          100,
          100,
          100,
          100,
          100,
          100,
          100,
          100,
          100,
          20,
          20,
          20,
          20,
          40,
          40,
          40,
          100,
          100,
          91.66666666666667,
          100,
          100,
          100,
          100,
          100,
          100,
          100,
          100,
          100,
          100,
          100,
          100,
          100,
          100,
          100,
          100,
          100,
          100,
          100,
          100,
          100,
          100,
          100,
          100,
          100,
          100,
          91.66666666666667,
          100,
          100,
          100,
          100,
          100,
          100,
          100,
          100,
          100,
          100,
          100,
          100,
          100,
          100,
          100,
          91.66666666666667,
          91.66666666666667,
          91.66666666666667,
          91.66666666666667,
          100,
          91.66666666666667,
          33.33333333333334,
          33.33333333333334,
          8.333333333333334,
          8.333333333333334,
          8.333333333333334,
          8.333333333333334,
          33.33333333333334,
          0,
          0,
          0,
          20,
          40,
          40,
          40,
          40,
          20,
          20,
          20,
          20,
          20,
          20,
          20,
          20,
          20,
          0,
          20,
          20,
          20,
          20,
          40,
          40,
          40
         ],
         "y0": " ",
         "yaxis": "y"
        },
        {
         "alignmentgroup": "True",
         "hovertemplate": "KPI Source=CrowdScore<br>Customer=%{x}<br>Score=%{y}<extra></extra>",
         "legendgroup": "CrowdScore",
         "marker": {
          "color": "#EF553B"
         },
         "name": "CrowdScore",
         "notched": false,
         "offsetgroup": "CrowdScore",
         "orientation": "v",
         "showlegend": true,
         "type": "box",
         "x": [
          "UG2",
          "UG2",
          "UG2",
          "UG2",
          "UG2",
          "UG2",
          "UG2",
          "UG2",
          "UG2",
          "UG2",
          "UG2",
          "UG2",
          "UG2",
          "UG2",
          "UG2",
          "UG2",
          "UG2",
          "UG2",
          "UG2",
          "UG2",
          "UG2",
          "UG2",
          "UG2",
          "UG2",
          "UG2",
          "UG2",
          "UG2",
          "UG2",
          "UG2",
          "UG2",
          "UG2",
          "UG2",
          "UG2",
          "UG2",
          "UG2",
          "UG2",
          "UG2",
          "UG2",
          "UG2",
          "UG2",
          "UG2",
          "UG2",
          "UG2",
          "UG2",
          "UG2",
          "UG2",
          "UG2",
          "UG2",
          "UG2",
          "UG2",
          "UG2",
          "UG2",
          "UG2",
          "UG2",
          "UG2",
          "UG2",
          "UG2",
          "UG2",
          "UG2",
          "UG2",
          "UG2",
          "UG2",
          "UG2",
          "UG2",
          "UG2",
          "UG2",
          "UG2",
          "UG2",
          "UG2",
          "UG2",
          "UG2",
          "UG2",
          "UG2",
          "UG2",
          "UG2",
          "UG2",
          "UG2",
          "UG2",
          "UG2",
          "UG2",
          "UG2",
          "UG2",
          "UG2",
          "UG2",
          "UG2",
          "UG2",
          "UG2",
          "UG2",
          "Lummus Technology Inc",
          "Lummus Technology Inc",
          "Lummus Technology Inc",
          "Lummus Technology Inc",
          "Lummus Technology Inc",
          "Lummus Technology Inc",
          "Lummus Technology Inc",
          "Lummus Technology Inc",
          "Lummus Technology Inc",
          "Lummus Technology Inc",
          "Lummus Technology Inc",
          "Lummus Technology Inc",
          "Lummus Technology Inc",
          "Lummus Technology Inc",
          "Lummus Technology Inc",
          "Lummus Technology Inc",
          "Lummus Technology Inc",
          "Lummus Technology Inc",
          "Lummus Technology Inc",
          "Lummus Technology Inc",
          "Lummus Technology Inc",
          "Lummus Technology Inc",
          "Lummus Technology Inc",
          "Lummus Technology Inc",
          "Lummus Technology Inc",
          "Lummus Technology Inc",
          "Lummus Technology Inc",
          "Lummus Technology Inc",
          "Lummus Technology Inc",
          "Lummus Technology Inc",
          "Lummus Technology Inc",
          "Lummus Technology Inc",
          "Lummus Technology Inc",
          "Lummus Technology Inc",
          "Lummus Technology Inc",
          "Lummus Technology Inc",
          "Lummus Technology Inc",
          "Lummus Technology Inc",
          "Lummus Technology Inc",
          "Lummus Technology Inc",
          "Lummus Technology Inc",
          "Lummus Technology Inc",
          "Lummus Technology Inc",
          "Lummus Technology Inc",
          "Lummus Technology Inc",
          "Lummus Technology Inc",
          "Lummus Technology Inc",
          "Lummus Technology Inc",
          "Lummus Technology Inc",
          "Lummus Technology Inc",
          "Lummus Technology Inc",
          "Lummus Technology Inc",
          "Lummus Technology Inc",
          "Lummus Technology Inc",
          "Lummus Technology Inc",
          "Lummus Technology Inc",
          "Lummus Technology Inc",
          "Lummus Technology Inc",
          "Lummus Technology Inc",
          "Lummus Technology Inc",
          "Lummus Technology Inc",
          "Lummus Technology Inc",
          "Lummus Technology Inc",
          "Lummus Technology Inc",
          "Lummus Technology Inc",
          "Lummus Technology Inc",
          "Lummus Technology Inc",
          "Lummus Technology Inc",
          "Lummus Technology Inc",
          "Lummus Technology Inc",
          "Lummus Technology Inc",
          "Lummus Technology Inc",
          "Lummus Technology Inc",
          "Lummus Technology Inc",
          "Lummus Technology Inc",
          "Lummus Technology Inc",
          "Lummus Technology Inc",
          "Lummus Technology Inc",
          "Lummus Technology Inc",
          "Lummus Technology Inc",
          "Lummus Technology Inc",
          "Lummus Technology Inc",
          "Lummus Technology Inc",
          "Lummus Technology Inc",
          "Lummus Technology Inc",
          "Lummus Technology Inc",
          "Lummus Technology Inc",
          "Lummus Technology Inc",
          "Converge TP",
          "Converge TP",
          "Converge TP",
          "Converge TP",
          "Converge TP",
          "Converge TP",
          "Converge TP",
          "Converge TP",
          "Converge TP",
          "Converge TP",
          "Converge TP",
          "Converge TP",
          "Converge TP",
          "Converge TP",
          "Converge TP",
          "Converge TP",
          "Converge TP",
          "Converge TP",
          "Converge TP",
          "Converge TP",
          "Converge TP",
          "Converge TP",
          "Converge TP",
          "Converge TP",
          "Converge TP",
          "Converge TP",
          "Converge TP",
          "Converge TP",
          "Converge TP",
          "Converge TP",
          "Converge TP",
          "Converge TP",
          "Converge TP",
          "Converge TP",
          "Converge TP",
          "Converge TP",
          "Converge TP",
          "Converge TP",
          "Converge TP",
          "Converge TP",
          "Converge TP",
          "Converge TP",
          "Converge TP",
          "Converge TP",
          "Converge TP",
          "Converge TP",
          "Converge TP",
          "Converge TP",
          "Converge TP",
          "Converge TP",
          "Converge TP",
          "Converge TP",
          "Converge TP",
          "Converge TP",
          "Converge TP",
          "Converge TP",
          "Converge TP",
          "Converge TP",
          "Converge TP",
          "Converge TP",
          "Converge TP",
          "Converge TP",
          "Converge TP",
          "Converge TP",
          "Converge TP",
          "Converge TP",
          "Converge TP",
          "Converge TP",
          "Converge TP",
          "Converge TP",
          "Converge TP",
          "Converge TP",
          "Converge TP",
          "Converge TP",
          "Converge TP",
          "Converge TP",
          "Converge TP",
          "Converge TP",
          "Converge TP",
          "Converge TP",
          "Converge TP",
          "Converge TP",
          "Converge TP",
          "Converge TP",
          "Converge TP",
          "Converge TP",
          "Converge TP",
          "Converge TP"
         ],
         "x0": " ",
         "xaxis": "x",
         "y": [
          100,
          100,
          100,
          100,
          100,
          100,
          100,
          100,
          100,
          100,
          100,
          100,
          100,
          100,
          100,
          100,
          100,
          100,
          100,
          100,
          100,
          100,
          100,
          100,
          100,
          100,
          100,
          100,
          100,
          0,
          0,
          0,
          0,
          0,
          0,
          0,
          0,
          0,
          0,
          0,
          0,
          0,
          100,
          100,
          100,
          100,
          100,
          100,
          100,
          100,
          100,
          100,
          100,
          100,
          100,
          100,
          100,
          100,
          100,
          100,
          100,
          100,
          100,
          100,
          100,
          100,
          100,
          100,
          100,
          100,
          100,
          100,
          100,
          100,
          100,
          100,
          100,
          100,
          100,
          100,
          100,
          100,
          100,
          100,
          100,
          100,
          100,
          100,
          100,
          100,
          100,
          100,
          100,
          100,
          100,
          100,
          100,
          100,
          100,
          100,
          66.66666666666667,
          100,
          100,
          100,
          100,
          100,
          100,
          100,
          100,
          100,
          66.66666666666667,
          100,
          100,
          100,
          100,
          66.66666666666667,
          100,
          0,
          0,
          0,
          0,
          0,
          100,
          100,
          100,
          100,
          100,
          0,
          0,
          0,
          100,
          100,
          100,
          100,
          100,
          100,
          100,
          100,
          100,
          100,
          100,
          66.66666666666667,
          66.66666666666667,
          100,
          100,
          100,
          100,
          100,
          100,
          100,
          100,
          100,
          100,
          100,
          100,
          100,
          100,
          100,
          100,
          100,
          100,
          100,
          100,
          100,
          100,
          100,
          100,
          100,
          100,
          100,
          100,
          100,
          100,
          100,
          100,
          100,
          100,
          100,
          100,
          100,
          100,
          100,
          100,
          100,
          100,
          100,
          100,
          100,
          100,
          100,
          100,
          100,
          100,
          100,
          100,
          100,
          100,
          100,
          100,
          100,
          100,
          100,
          100,
          100,
          100,
          0,
          0,
          0,
          0,
          0,
          50,
          50,
          50,
          50,
          50,
          0,
          0,
          0,
          100,
          100,
          100,
          100,
          100,
          100,
          100,
          100,
          100,
          100,
          100,
          83.33333333333334,
          83.33333333333334,
          100,
          100,
          100,
          100,
          100,
          100,
          100,
          100,
          100,
          100,
          100,
          100,
          100,
          100,
          100,
          100,
          100,
          100,
          100,
          100,
          100,
          100,
          100,
          100,
          100,
          100,
          100,
          100,
          100,
          100,
          100,
          100,
          100
         ],
         "y0": " ",
         "yaxis": "y"
        },
        {
         "alignmentgroup": "True",
         "hovertemplate": "KPI Source=Satisfied and Dissatisfied Surveys<br>Customer=%{x}<br>Score=%{y}<extra></extra>",
         "legendgroup": "Satisfied and Dissatisfied Surveys",
         "marker": {
          "color": "#00cc96"
         },
         "name": "Satisfied and Dissatisfied Surveys",
         "notched": false,
         "offsetgroup": "Satisfied and Dissatisfied Surveys",
         "orientation": "v",
         "showlegend": true,
         "type": "box",
         "x": [
          "UG2",
          "UG2",
          "UG2",
          "UG2",
          "UG2",
          "UG2",
          "UG2",
          "UG2",
          "UG2",
          "UG2",
          "UG2",
          "UG2",
          "UG2",
          "UG2",
          "UG2",
          "UG2",
          "UG2",
          "UG2",
          "UG2",
          "UG2",
          "UG2",
          "UG2",
          "UG2",
          "UG2",
          "UG2",
          "UG2",
          "UG2",
          "UG2",
          "UG2",
          "UG2",
          "UG2",
          "UG2",
          "UG2",
          "UG2",
          "UG2",
          "UG2",
          "UG2",
          "UG2",
          "UG2",
          "UG2",
          "UG2",
          "UG2",
          "UG2",
          "UG2",
          "UG2",
          "UG2",
          "UG2",
          "UG2",
          "UG2",
          "UG2",
          "UG2",
          "UG2",
          "UG2",
          "UG2",
          "UG2",
          "UG2",
          "UG2",
          "UG2",
          "UG2",
          "UG2",
          "UG2",
          "UG2",
          "UG2",
          "UG2",
          "UG2",
          "UG2",
          "UG2",
          "UG2",
          "UG2",
          "UG2",
          "UG2",
          "UG2",
          "UG2",
          "UG2",
          "UG2",
          "UG2",
          "UG2",
          "UG2",
          "UG2",
          "UG2",
          "UG2",
          "UG2",
          "UG2",
          "UG2",
          "UG2",
          "UG2",
          "UG2",
          "UG2",
          "Lummus Technology Inc",
          "Lummus Technology Inc",
          "Lummus Technology Inc",
          "Lummus Technology Inc",
          "Lummus Technology Inc",
          "Lummus Technology Inc",
          "Lummus Technology Inc",
          "Lummus Technology Inc",
          "Lummus Technology Inc",
          "Lummus Technology Inc",
          "Lummus Technology Inc",
          "Lummus Technology Inc",
          "Lummus Technology Inc",
          "Lummus Technology Inc",
          "Lummus Technology Inc",
          "Lummus Technology Inc",
          "Lummus Technology Inc",
          "Lummus Technology Inc",
          "Lummus Technology Inc",
          "Lummus Technology Inc",
          "Lummus Technology Inc",
          "Lummus Technology Inc",
          "Lummus Technology Inc",
          "Lummus Technology Inc",
          "Lummus Technology Inc",
          "Lummus Technology Inc",
          "Lummus Technology Inc",
          "Lummus Technology Inc",
          "Lummus Technology Inc",
          "Lummus Technology Inc",
          "Lummus Technology Inc",
          "Lummus Technology Inc",
          "Lummus Technology Inc",
          "Lummus Technology Inc",
          "Lummus Technology Inc",
          "Lummus Technology Inc",
          "Lummus Technology Inc",
          "Lummus Technology Inc",
          "Lummus Technology Inc",
          "Lummus Technology Inc",
          "Lummus Technology Inc",
          "Lummus Technology Inc",
          "Lummus Technology Inc",
          "Lummus Technology Inc",
          "Lummus Technology Inc",
          "Lummus Technology Inc",
          "Lummus Technology Inc",
          "Lummus Technology Inc",
          "Lummus Technology Inc",
          "Lummus Technology Inc",
          "Lummus Technology Inc",
          "Lummus Technology Inc",
          "Lummus Technology Inc",
          "Lummus Technology Inc",
          "Lummus Technology Inc",
          "Lummus Technology Inc",
          "Lummus Technology Inc",
          "Lummus Technology Inc",
          "Lummus Technology Inc",
          "Lummus Technology Inc",
          "Lummus Technology Inc",
          "Lummus Technology Inc",
          "Lummus Technology Inc",
          "Lummus Technology Inc",
          "Lummus Technology Inc",
          "Lummus Technology Inc",
          "Lummus Technology Inc",
          "Lummus Technology Inc",
          "Lummus Technology Inc",
          "Lummus Technology Inc",
          "Lummus Technology Inc",
          "Lummus Technology Inc",
          "Lummus Technology Inc",
          "Lummus Technology Inc",
          "Lummus Technology Inc",
          "Lummus Technology Inc",
          "Lummus Technology Inc",
          "Lummus Technology Inc",
          "Lummus Technology Inc",
          "Lummus Technology Inc",
          "Lummus Technology Inc",
          "Lummus Technology Inc",
          "Lummus Technology Inc",
          "Lummus Technology Inc",
          "Lummus Technology Inc",
          "Lummus Technology Inc",
          "Lummus Technology Inc",
          "Lummus Technology Inc",
          "Converge TP",
          "Converge TP",
          "Converge TP",
          "Converge TP",
          "Converge TP",
          "Converge TP",
          "Converge TP",
          "Converge TP",
          "Converge TP",
          "Converge TP",
          "Converge TP",
          "Converge TP",
          "Converge TP",
          "Converge TP",
          "Converge TP",
          "Converge TP",
          "Converge TP",
          "Converge TP",
          "Converge TP",
          "Converge TP",
          "Converge TP",
          "Converge TP",
          "Converge TP",
          "Converge TP",
          "Converge TP",
          "Converge TP",
          "Converge TP",
          "Converge TP",
          "Converge TP",
          "Converge TP",
          "Converge TP",
          "Converge TP",
          "Converge TP",
          "Converge TP",
          "Converge TP",
          "Converge TP",
          "Converge TP",
          "Converge TP",
          "Converge TP",
          "Converge TP",
          "Converge TP",
          "Converge TP",
          "Converge TP",
          "Converge TP",
          "Converge TP",
          "Converge TP",
          "Converge TP",
          "Converge TP",
          "Converge TP",
          "Converge TP",
          "Converge TP",
          "Converge TP",
          "Converge TP",
          "Converge TP",
          "Converge TP",
          "Converge TP",
          "Converge TP",
          "Converge TP",
          "Converge TP",
          "Converge TP",
          "Converge TP",
          "Converge TP",
          "Converge TP",
          "Converge TP",
          "Converge TP",
          "Converge TP",
          "Converge TP",
          "Converge TP",
          "Converge TP",
          "Converge TP",
          "Converge TP",
          "Converge TP",
          "Converge TP",
          "Converge TP",
          "Converge TP",
          "Converge TP",
          "Converge TP",
          "Converge TP",
          "Converge TP",
          "Converge TP",
          "Converge TP",
          "Converge TP",
          "Converge TP",
          "Converge TP",
          "Converge TP",
          "Converge TP",
          "Converge TP",
          "Converge TP"
         ],
         "x0": " ",
         "xaxis": "x",
         "y": [
          70,
          70,
          70,
          60,
          60,
          50,
          100,
          100,
          100,
          100,
          100,
          100,
          100,
          100,
          100,
          100,
          100,
          100,
          100,
          100,
          100,
          30,
          40,
          40,
          40,
          40,
          50,
          50,
          80,
          100,
          100,
          100,
          100,
          100,
          100,
          100,
          100,
          80,
          40,
          40,
          40,
          40,
          40,
          70,
          80,
          80,
          80,
          80,
          80,
          80,
          100,
          100,
          100,
          100,
          100,
          100,
          100,
          100,
          100,
          100,
          100,
          100,
          100,
          100,
          100,
          100,
          100,
          100,
          100,
          100,
          100,
          100,
          100,
          100,
          100,
          100,
          100,
          100,
          100,
          100,
          100,
          100,
          100,
          100,
          100,
          100,
          100,
          100,
          100,
          100,
          100,
          100,
          100,
          100,
          100,
          100,
          100,
          100,
          100,
          100,
          100,
          100,
          100,
          100,
          100,
          100,
          100,
          100,
          100,
          100,
          100,
          100,
          100,
          100,
          100,
          100,
          100,
          100,
          100,
          100,
          100,
          100,
          100,
          100,
          100,
          100,
          60,
          60,
          60,
          60,
          60,
          100,
          100,
          100,
          100,
          100,
          100,
          100,
          100,
          100,
          100,
          100,
          100,
          100,
          100,
          100,
          100,
          100,
          100,
          100,
          100,
          100,
          100,
          100,
          100,
          100,
          100,
          100,
          100,
          100,
          100,
          90,
          90,
          100,
          100,
          100,
          100,
          100,
          90,
          90,
          90,
          90,
          90,
          90,
          100,
          100,
          90,
          100,
          90,
          90,
          90,
          90,
          80,
          100,
          100,
          90,
          100,
          100,
          100,
          100,
          100,
          100,
          100,
          100,
          100,
          100,
          100,
          100,
          100,
          100,
          100,
          100,
          100,
          100,
          100,
          100,
          100,
          100,
          100,
          100,
          100,
          100,
          100,
          100,
          60,
          60,
          60,
          60,
          60,
          100,
          100,
          100,
          100,
          100,
          100,
          100,
          100,
          100,
          100,
          100,
          100,
          100,
          100,
          100,
          100,
          100,
          100,
          100,
          100,
          100,
          100,
          100,
          100,
          100,
          100,
          100,
          100,
          100,
          100,
          100,
          100,
          100,
          100,
          100,
          100,
          100,
          100,
          100,
          80,
          90,
          90,
          90,
          90,
          100
         ],
         "y0": " ",
         "yaxis": "y"
        }
       ],
       "layout": {
        "boxmode": "group",
        "legend": {
         "title": {
          "text": "KPI Source"
         },
         "tracegroupgap": 0
        },
        "template": {
         "data": {
          "bar": [
           {
            "error_x": {
             "color": "#2a3f5f"
            },
            "error_y": {
             "color": "#2a3f5f"
            },
            "marker": {
             "line": {
              "color": "#E5ECF6",
              "width": 0.5
             },
             "pattern": {
              "fillmode": "overlay",
              "size": 10,
              "solidity": 0.2
             }
            },
            "type": "bar"
           }
          ],
          "barpolar": [
           {
            "marker": {
             "line": {
              "color": "#E5ECF6",
              "width": 0.5
             },
             "pattern": {
              "fillmode": "overlay",
              "size": 10,
              "solidity": 0.2
             }
            },
            "type": "barpolar"
           }
          ],
          "carpet": [
           {
            "aaxis": {
             "endlinecolor": "#2a3f5f",
             "gridcolor": "white",
             "linecolor": "white",
             "minorgridcolor": "white",
             "startlinecolor": "#2a3f5f"
            },
            "baxis": {
             "endlinecolor": "#2a3f5f",
             "gridcolor": "white",
             "linecolor": "white",
             "minorgridcolor": "white",
             "startlinecolor": "#2a3f5f"
            },
            "type": "carpet"
           }
          ],
          "choropleth": [
           {
            "colorbar": {
             "outlinewidth": 0,
             "ticks": ""
            },
            "type": "choropleth"
           }
          ],
          "contour": [
           {
            "colorbar": {
             "outlinewidth": 0,
             "ticks": ""
            },
            "colorscale": [
             [
              0,
              "#0d0887"
             ],
             [
              0.1111111111111111,
              "#46039f"
             ],
             [
              0.2222222222222222,
              "#7201a8"
             ],
             [
              0.3333333333333333,
              "#9c179e"
             ],
             [
              0.4444444444444444,
              "#bd3786"
             ],
             [
              0.5555555555555556,
              "#d8576b"
             ],
             [
              0.6666666666666666,
              "#ed7953"
             ],
             [
              0.7777777777777778,
              "#fb9f3a"
             ],
             [
              0.8888888888888888,
              "#fdca26"
             ],
             [
              1,
              "#f0f921"
             ]
            ],
            "type": "contour"
           }
          ],
          "contourcarpet": [
           {
            "colorbar": {
             "outlinewidth": 0,
             "ticks": ""
            },
            "type": "contourcarpet"
           }
          ],
          "heatmap": [
           {
            "colorbar": {
             "outlinewidth": 0,
             "ticks": ""
            },
            "colorscale": [
             [
              0,
              "#0d0887"
             ],
             [
              0.1111111111111111,
              "#46039f"
             ],
             [
              0.2222222222222222,
              "#7201a8"
             ],
             [
              0.3333333333333333,
              "#9c179e"
             ],
             [
              0.4444444444444444,
              "#bd3786"
             ],
             [
              0.5555555555555556,
              "#d8576b"
             ],
             [
              0.6666666666666666,
              "#ed7953"
             ],
             [
              0.7777777777777778,
              "#fb9f3a"
             ],
             [
              0.8888888888888888,
              "#fdca26"
             ],
             [
              1,
              "#f0f921"
             ]
            ],
            "type": "heatmap"
           }
          ],
          "heatmapgl": [
           {
            "colorbar": {
             "outlinewidth": 0,
             "ticks": ""
            },
            "colorscale": [
             [
              0,
              "#0d0887"
             ],
             [
              0.1111111111111111,
              "#46039f"
             ],
             [
              0.2222222222222222,
              "#7201a8"
             ],
             [
              0.3333333333333333,
              "#9c179e"
             ],
             [
              0.4444444444444444,
              "#bd3786"
             ],
             [
              0.5555555555555556,
              "#d8576b"
             ],
             [
              0.6666666666666666,
              "#ed7953"
             ],
             [
              0.7777777777777778,
              "#fb9f3a"
             ],
             [
              0.8888888888888888,
              "#fdca26"
             ],
             [
              1,
              "#f0f921"
             ]
            ],
            "type": "heatmapgl"
           }
          ],
          "histogram": [
           {
            "marker": {
             "pattern": {
              "fillmode": "overlay",
              "size": 10,
              "solidity": 0.2
             }
            },
            "type": "histogram"
           }
          ],
          "histogram2d": [
           {
            "colorbar": {
             "outlinewidth": 0,
             "ticks": ""
            },
            "colorscale": [
             [
              0,
              "#0d0887"
             ],
             [
              0.1111111111111111,
              "#46039f"
             ],
             [
              0.2222222222222222,
              "#7201a8"
             ],
             [
              0.3333333333333333,
              "#9c179e"
             ],
             [
              0.4444444444444444,
              "#bd3786"
             ],
             [
              0.5555555555555556,
              "#d8576b"
             ],
             [
              0.6666666666666666,
              "#ed7953"
             ],
             [
              0.7777777777777778,
              "#fb9f3a"
             ],
             [
              0.8888888888888888,
              "#fdca26"
             ],
             [
              1,
              "#f0f921"
             ]
            ],
            "type": "histogram2d"
           }
          ],
          "histogram2dcontour": [
           {
            "colorbar": {
             "outlinewidth": 0,
             "ticks": ""
            },
            "colorscale": [
             [
              0,
              "#0d0887"
             ],
             [
              0.1111111111111111,
              "#46039f"
             ],
             [
              0.2222222222222222,
              "#7201a8"
             ],
             [
              0.3333333333333333,
              "#9c179e"
             ],
             [
              0.4444444444444444,
              "#bd3786"
             ],
             [
              0.5555555555555556,
              "#d8576b"
             ],
             [
              0.6666666666666666,
              "#ed7953"
             ],
             [
              0.7777777777777778,
              "#fb9f3a"
             ],
             [
              0.8888888888888888,
              "#fdca26"
             ],
             [
              1,
              "#f0f921"
             ]
            ],
            "type": "histogram2dcontour"
           }
          ],
          "mesh3d": [
           {
            "colorbar": {
             "outlinewidth": 0,
             "ticks": ""
            },
            "type": "mesh3d"
           }
          ],
          "parcoords": [
           {
            "line": {
             "colorbar": {
              "outlinewidth": 0,
              "ticks": ""
             }
            },
            "type": "parcoords"
           }
          ],
          "pie": [
           {
            "automargin": true,
            "type": "pie"
           }
          ],
          "scatter": [
           {
            "fillpattern": {
             "fillmode": "overlay",
             "size": 10,
             "solidity": 0.2
            },
            "type": "scatter"
           }
          ],
          "scatter3d": [
           {
            "line": {
             "colorbar": {
              "outlinewidth": 0,
              "ticks": ""
             }
            },
            "marker": {
             "colorbar": {
              "outlinewidth": 0,
              "ticks": ""
             }
            },
            "type": "scatter3d"
           }
          ],
          "scattercarpet": [
           {
            "marker": {
             "colorbar": {
              "outlinewidth": 0,
              "ticks": ""
             }
            },
            "type": "scattercarpet"
           }
          ],
          "scattergeo": [
           {
            "marker": {
             "colorbar": {
              "outlinewidth": 0,
              "ticks": ""
             }
            },
            "type": "scattergeo"
           }
          ],
          "scattergl": [
           {
            "marker": {
             "colorbar": {
              "outlinewidth": 0,
              "ticks": ""
             }
            },
            "type": "scattergl"
           }
          ],
          "scattermapbox": [
           {
            "marker": {
             "colorbar": {
              "outlinewidth": 0,
              "ticks": ""
             }
            },
            "type": "scattermapbox"
           }
          ],
          "scatterpolar": [
           {
            "marker": {
             "colorbar": {
              "outlinewidth": 0,
              "ticks": ""
             }
            },
            "type": "scatterpolar"
           }
          ],
          "scatterpolargl": [
           {
            "marker": {
             "colorbar": {
              "outlinewidth": 0,
              "ticks": ""
             }
            },
            "type": "scatterpolargl"
           }
          ],
          "scatterternary": [
           {
            "marker": {
             "colorbar": {
              "outlinewidth": 0,
              "ticks": ""
             }
            },
            "type": "scatterternary"
           }
          ],
          "surface": [
           {
            "colorbar": {
             "outlinewidth": 0,
             "ticks": ""
            },
            "colorscale": [
             [
              0,
              "#0d0887"
             ],
             [
              0.1111111111111111,
              "#46039f"
             ],
             [
              0.2222222222222222,
              "#7201a8"
             ],
             [
              0.3333333333333333,
              "#9c179e"
             ],
             [
              0.4444444444444444,
              "#bd3786"
             ],
             [
              0.5555555555555556,
              "#d8576b"
             ],
             [
              0.6666666666666666,
              "#ed7953"
             ],
             [
              0.7777777777777778,
              "#fb9f3a"
             ],
             [
              0.8888888888888888,
              "#fdca26"
             ],
             [
              1,
              "#f0f921"
             ]
            ],
            "type": "surface"
           }
          ],
          "table": [
           {
            "cells": {
             "fill": {
              "color": "#EBF0F8"
             },
             "line": {
              "color": "white"
             }
            },
            "header": {
             "fill": {
              "color": "#C8D4E3"
             },
             "line": {
              "color": "white"
             }
            },
            "type": "table"
           }
          ]
         },
         "layout": {
          "annotationdefaults": {
           "arrowcolor": "#2a3f5f",
           "arrowhead": 0,
           "arrowwidth": 1
          },
          "autotypenumbers": "strict",
          "coloraxis": {
           "colorbar": {
            "outlinewidth": 0,
            "ticks": ""
           }
          },
          "colorscale": {
           "diverging": [
            [
             0,
             "#8e0152"
            ],
            [
             0.1,
             "#c51b7d"
            ],
            [
             0.2,
             "#de77ae"
            ],
            [
             0.3,
             "#f1b6da"
            ],
            [
             0.4,
             "#fde0ef"
            ],
            [
             0.5,
             "#f7f7f7"
            ],
            [
             0.6,
             "#e6f5d0"
            ],
            [
             0.7,
             "#b8e186"
            ],
            [
             0.8,
             "#7fbc41"
            ],
            [
             0.9,
             "#4d9221"
            ],
            [
             1,
             "#276419"
            ]
           ],
           "sequential": [
            [
             0,
             "#0d0887"
            ],
            [
             0.1111111111111111,
             "#46039f"
            ],
            [
             0.2222222222222222,
             "#7201a8"
            ],
            [
             0.3333333333333333,
             "#9c179e"
            ],
            [
             0.4444444444444444,
             "#bd3786"
            ],
            [
             0.5555555555555556,
             "#d8576b"
            ],
            [
             0.6666666666666666,
             "#ed7953"
            ],
            [
             0.7777777777777778,
             "#fb9f3a"
            ],
            [
             0.8888888888888888,
             "#fdca26"
            ],
            [
             1,
             "#f0f921"
            ]
           ],
           "sequentialminus": [
            [
             0,
             "#0d0887"
            ],
            [
             0.1111111111111111,
             "#46039f"
            ],
            [
             0.2222222222222222,
             "#7201a8"
            ],
            [
             0.3333333333333333,
             "#9c179e"
            ],
            [
             0.4444444444444444,
             "#bd3786"
            ],
            [
             0.5555555555555556,
             "#d8576b"
            ],
            [
             0.6666666666666666,
             "#ed7953"
            ],
            [
             0.7777777777777778,
             "#fb9f3a"
            ],
            [
             0.8888888888888888,
             "#fdca26"
            ],
            [
             1,
             "#f0f921"
            ]
           ]
          },
          "colorway": [
           "#636efa",
           "#EF553B",
           "#00cc96",
           "#ab63fa",
           "#FFA15A",
           "#19d3f3",
           "#FF6692",
           "#B6E880",
           "#FF97FF",
           "#FECB52"
          ],
          "font": {
           "color": "#2a3f5f"
          },
          "geo": {
           "bgcolor": "white",
           "lakecolor": "white",
           "landcolor": "#E5ECF6",
           "showlakes": true,
           "showland": true,
           "subunitcolor": "white"
          },
          "hoverlabel": {
           "align": "left"
          },
          "hovermode": "closest",
          "mapbox": {
           "style": "light"
          },
          "paper_bgcolor": "white",
          "plot_bgcolor": "#E5ECF6",
          "polar": {
           "angularaxis": {
            "gridcolor": "white",
            "linecolor": "white",
            "ticks": ""
           },
           "bgcolor": "#E5ECF6",
           "radialaxis": {
            "gridcolor": "white",
            "linecolor": "white",
            "ticks": ""
           }
          },
          "scene": {
           "xaxis": {
            "backgroundcolor": "#E5ECF6",
            "gridcolor": "white",
            "gridwidth": 2,
            "linecolor": "white",
            "showbackground": true,
            "ticks": "",
            "zerolinecolor": "white"
           },
           "yaxis": {
            "backgroundcolor": "#E5ECF6",
            "gridcolor": "white",
            "gridwidth": 2,
            "linecolor": "white",
            "showbackground": true,
            "ticks": "",
            "zerolinecolor": "white"
           },
           "zaxis": {
            "backgroundcolor": "#E5ECF6",
            "gridcolor": "white",
            "gridwidth": 2,
            "linecolor": "white",
            "showbackground": true,
            "ticks": "",
            "zerolinecolor": "white"
           }
          },
          "shapedefaults": {
           "line": {
            "color": "#2a3f5f"
           }
          },
          "ternary": {
           "aaxis": {
            "gridcolor": "white",
            "linecolor": "white",
            "ticks": ""
           },
           "baxis": {
            "gridcolor": "white",
            "linecolor": "white",
            "ticks": ""
           },
           "bgcolor": "#E5ECF6",
           "caxis": {
            "gridcolor": "white",
            "linecolor": "white",
            "ticks": ""
           }
          },
          "title": {
           "x": 0.05
          },
          "xaxis": {
           "automargin": true,
           "gridcolor": "white",
           "linecolor": "white",
           "ticks": "",
           "title": {
            "standoff": 15
           },
           "zerolinecolor": "white",
           "zerolinewidth": 2
          },
          "yaxis": {
           "automargin": true,
           "gridcolor": "white",
           "linecolor": "white",
           "ticks": "",
           "title": {
            "standoff": 15
           },
           "zerolinecolor": "white",
           "zerolinewidth": 2
          }
         }
        },
        "title": {
         "text": "Score Distribution by Customer and KPI Source"
        },
        "xaxis": {
         "anchor": "y",
         "categoryarray": [
          "UG2",
          "Converge TP",
          "Lummus Technology Inc"
         ],
         "categoryorder": "array",
         "domain": [
          0,
          1
         ],
         "title": {
          "text": "Customer"
         }
        },
        "yaxis": {
         "anchor": "x",
         "domain": [
          0,
          1
         ],
         "title": {
          "text": "Score"
         }
        }
       }
      }
     },
     "metadata": {},
     "output_type": "display_data"
    }
   ],
   "source": [
    "fig = px.box(filtered_df, x='Customer', y='Score', color='KPI Source',\n",
    "             title='Score Distribution by Customer and KPI Source',\n",
    "             labels={'Score': 'Score', 'Customer': 'Customer'},\n",
    "             category_orders={'Customer': filtered_df['Customer'].unique(), 'KPI Source': filtered_df['KPI Source'].unique()})\n",
    "\n",
    "# Show the plot\n",
    "fig.show()"
   ]
  },
  {
   "cell_type": "code",
   "execution_count": null,
   "metadata": {},
   "outputs": [],
   "source": []
  }
 ],
 "metadata": {
  "kernelspec": {
   "display_name": "Python 3",
   "language": "python",
   "name": "python3"
  },
  "language_info": {
   "codemirror_mode": {
    "name": "ipython",
    "version": 3
   },
   "file_extension": ".py",
   "mimetype": "text/x-python",
   "name": "python",
   "nbconvert_exporter": "python",
   "pygments_lexer": "ipython3",
   "version": "3.7.16"
  }
 },
 "nbformat": 4,
 "nbformat_minor": 2
}
